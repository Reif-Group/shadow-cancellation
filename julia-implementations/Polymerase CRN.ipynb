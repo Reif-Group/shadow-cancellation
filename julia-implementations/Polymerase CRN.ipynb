{
 "cells": [
  {
   "cell_type": "code",
   "execution_count": null,
   "id": "afd0f45a",
   "metadata": {},
   "outputs": [],
   "source": [
    "import Pkg; Pkg.add(\"DifferentialEquations\")\n",
    "import Pkg; Pkg.add(\"Plots\")\n",
    "import Pkg; Pkg.add(\"Formatting\")\n",
    "import Pkg; Pkg.add(\"Catalyst\")\n",
    "import Pkg; Pkg.add(\"Noise\")\n",
    "import Pkg; Pkg.add(\"LinearAlgebra\")\n",
    "import Pkg; Pkg.add(\"Latexify\")\n",
    "import Pkg; Pkg.add(\"ModelingToolkit\")\n",
    "import Pkg; Pkg.add(\"PlotlyJS\")\n",
    "import Pkg; Pkg.add(\"MATLABDiffEq\")\n",
    "\n",
    "_ = IJulia.clear_output(true)"
   ]
  },
  {
   "cell_type": "code",
   "execution_count": null,
   "id": "00d0b22e",
   "metadata": {},
   "outputs": [],
   "source": [
    "using DifferentialEquations;\n",
    "using Random;\n",
    "using Plots;\n",
    "using Formatting;\n",
    "using LinearAlgebra;\n",
    "using Noise;\n",
    "using Catalyst;\n",
    "using Latexify;\n",
    "using MATLABDiffEq;"
   ]
  },
  {
   "cell_type": "markdown",
   "id": "443749fa",
   "metadata": {},
   "source": [
    "# Utils"
   ]
  },
  {
   "cell_type": "code",
   "execution_count": null,
   "id": "a2de0869",
   "metadata": {},
   "outputs": [],
   "source": [
    "# Returns the sum of concentrations of the species with a given prefix\n",
    "function aggregate_values(rn, odesol; prefix='x')\n",
    "    ss = species(rn)\n",
    "\n",
    "    ret = zeros(length(odesol[1, :]))\n",
    "    total = 0\n",
    "    for i in 1:length(ss)\n",
    "        item = ss[i]\n",
    "        item_str = \"$item\"\n",
    "        if startswith(item_str, prefix)\n",
    "#             println(item_str)\n",
    "            ret += odesol[i, :] # Gets the variable at index i for all time steps.\n",
    "        end\n",
    "    end\n",
    "    return ret\n",
    "end\n",
    "\n",
    "\n",
    "function print_species_array(reaction_network)\n",
    "    ss = species(reaction_network)\n",
    "    print(\"species = [\")\n",
    "    for s in ss\n",
    "        print(\"'\", s,\"'\", \",\")\n",
    "    end\n",
    "    print(\"]\")\n",
    "    \n",
    "end\n",
    "\n",
    "\n",
    "function simulate(rn, u0, p; tspan=(0.0, 1000.0), reltol=1e-12, abstol=1e-12)\n",
    "    oprob = ODEProblem(rn, u0, tspan, p)\n",
    "    sol = solve(oprob, Rosenbrock23(), reltol=reltol, abstol=abstol)\n",
    "    return sol\n",
    "end"
   ]
  },
  {
   "cell_type": "code",
   "execution_count": null,
   "id": "a24c857a",
   "metadata": {},
   "outputs": [],
   "source": [
    "unimol_autocat = @reaction_network uni begin\n",
    "    k, a + G_i --> i + waste1\n",
    "    k, i + G_a_a --> a + a + o + waste2\n",
    "    k, o + Fl_f --> f + waste3\n",
    "end k\n",
    "species(unimol_autocat)"
   ]
  },
  {
   "cell_type": "code",
   "execution_count": null,
   "id": "6d473e82",
   "metadata": {},
   "outputs": [],
   "source": [
    "u0 = [\n",
    "   1e-9, 1e-8, 0.0, 0.0, 1e-8, 0.0, 0.0, 1e-7, 0.0, 0.0\n",
    "]\n",
    "p = [1.5e6]\n",
    "tspan = (0, 3600.0)\n",
    "\n",
    "oprob = ODEProblem(unimol_autocat, u0, tspan, p)\n",
    "sol = solve(oprob, AutoTsit5(Rosenbrock23()), reltol=1e-12, abstol=1e-12)"
   ]
  },
  {
   "cell_type": "code",
   "execution_count": null,
   "id": "d5472a03",
   "metadata": {},
   "outputs": [],
   "source": [
    "plot()\n",
    "a = aggregate_values(unimol_autocat, sol, prefix=\"a\")\n",
    "i = aggregate_values(unimol_autocat, sol, prefix=\"i\")\n",
    "f = aggregate_values(unimol_autocat, sol, prefix=\"f\")\n",
    "plot!(sol.t, [a i f], label=[\"a(t)\"  \"i(t)\" \"f(t)\"], legend=:topleft)\n",
    "savefig(\"polymeraseCRN.png\")"
   ]
  },
  {
   "cell_type": "code",
   "execution_count": null,
   "id": "b3a86db6",
   "metadata": {},
   "outputs": [],
   "source": []
  },
  {
   "cell_type": "code",
   "execution_count": null,
   "id": "0b8bd386",
   "metadata": {},
   "outputs": [],
   "source": []
  },
  {
   "cell_type": "code",
   "execution_count": null,
   "id": "56cfec7a",
   "metadata": {},
   "outputs": [],
   "source": []
  }
 ],
 "metadata": {
  "kernelspec": {
   "display_name": "Julia 1.8.2",
   "language": "julia",
   "name": "julia-1.8"
  },
  "language_info": {
   "file_extension": ".jl",
   "mimetype": "application/julia",
   "name": "julia",
   "version": "1.8.2"
  }
 },
 "nbformat": 4,
 "nbformat_minor": 5
}
