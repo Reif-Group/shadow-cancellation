{
 "cells": [
  {
   "cell_type": "code",
   "execution_count": 1,
   "id": "6ae34bae",
   "metadata": {},
   "outputs": [
    {
     "data": {
      "text/plain": [
       "0"
      ]
     },
     "execution_count": 1,
     "metadata": {},
     "output_type": "execute_result"
    }
   ],
   "source": [
    "import Pkg; Pkg.add(\"DifferentialEquations\")\n",
    "import Pkg; Pkg.add(\"Plots\")\n",
    "import Pkg; Pkg.add(\"Formatting\")\n",
    "import Pkg; Pkg.add(\"Catalyst\")\n",
    "import Pkg; Pkg.add(\"Noise\")\n",
    "import Pkg; Pkg.add(\"LinearAlgebra\")\n",
    "import Pkg; Pkg.add(\"Latexify\")\n",
    "_ = IJulia.clear_output(true)"
   ]
  },
  {
   "cell_type": "code",
   "execution_count": 2,
   "id": "a828cdef",
   "metadata": {},
   "outputs": [],
   "source": [
    "using DifferentialEquations;\n",
    "using Random;\n",
    "using Plots;\n",
    "using Formatting;\n",
    "using LinearAlgebra;\n",
    "using Noise;\n",
    "using Catalyst;\n",
    "using Latexify;"
   ]
  },
  {
   "cell_type": "markdown",
   "id": "fbc3a9d2",
   "metadata": {},
   "source": [
    "# Utils"
   ]
  },
  {
   "cell_type": "code",
   "execution_count": 65,
   "id": "5a78d1df",
   "metadata": {},
   "outputs": [
    {
     "data": {
      "text/plain": [
       "aggregate_values (generic function with 1 method)"
      ]
     },
     "execution_count": 65,
     "metadata": {},
     "output_type": "execute_result"
    }
   ],
   "source": [
    "# Returns the sum of concentrations of the species with a given prefix\n",
    "function aggregate_values(rn, odesol; prefix='x')\n",
    "    ss = species(rn)\n",
    "    print(ss)\n",
    "    ret = zeros(length(odesol[1, :]))\n",
    "    total = 0\n",
    "    for i in 1:length(ss)\n",
    "        item = ss[i]\n",
    "        item_str = \"$item\"\n",
    "        if startswith(item_str, prefix)\n",
    "            ret += odesol[i, :] # Gets the variable at index i for all time steps.\n",
    "        end\n",
    "    end\n",
    "    return ret\n",
    "end"
   ]
  },
  {
   "cell_type": "markdown",
   "id": "a257a471",
   "metadata": {},
   "source": [
    "# Unimolecular Catalytic Amplifier"
   ]
  },
  {
   "cell_type": "code",
   "execution_count": 53,
   "id": "5c815ec0",
   "metadata": {
    "scrolled": true
   },
   "outputs": [
    {
     "data": {
      "text/plain": [
       "2"
      ]
     },
     "execution_count": 53,
     "metadata": {},
     "output_type": "execute_result"
    }
   ],
   "source": [
    "unimolecular = @reaction_network uni begin\n",
    "k/infConc, x0 + Gx01 --> Ix0\n",
    "shadow*k/infConc, sx0 + sGx01 --> sIx0\n",
    "leak*leak_rate, Gx01 --> Ix0\n",
    "shadow*leak*leak_rate, sGx01 --> sIx0\n",
    "leak*shadow*infRate, x0 + sx0 --> waste\n",
    "leak*shadow*infRate, Ix0 + sIx0 --> waste\n",
    "infRate, Ix0 + Gx02 --> x0 + x1\n",
    "shadow*infRate, sIx0 + sGx02 --> sx0 + sx1\n",
    "leak*leak_rate, Gx02 --> x0 + x1\n",
    "shadow*leak*leak_rate, sGx02 --> sx0 + sx1\n",
    "leak*shadow*infRate, x1 + sx1 --> waste\n",
    "k/infConc, x1 + Gx11 --> Ix1\n",
    "shadow*k/infConc, sx1 + sGx11 --> sIx1\n",
    "leak*leak_rate, Gx11 --> Ix1\n",
    "shadow*leak*leak_rate, sGx11 --> sIx1\n",
    "leak*shadow*infRate, Ix1 + sIx1 --> waste\n",
    "infRate, Ix1 + Gx12 --> x1 + x2\n",
    "shadow*infRate, sIx1 + sGx12 --> sx1 + sx2\n",
    "leak*leak_rate, Gx12 --> x1 + x2\n",
    "shadow*leak*leak_rate, sGx12 --> sx1 + sx2\n",
    "leak*shadow*infRate, x2 + sx2 --> waste\n",
    "k/infConc, x2 + Gx21 --> Ix2\n",
    "shadow*k/infConc, sx2 + sGx21 --> sIx2\n",
    "leak*leak_rate, Gx21 --> Ix2\n",
    "shadow*leak*leak_rate, sGx21 --> sIx2\n",
    "leak*shadow*infRate, Ix2 + sIx2 --> waste\n",
    "infRate, Ix2 + Gx22 --> x2 + x0\n",
    "shadow*infRate, sIx2 + sGx22 --> sx2 + sx0\n",
    "leak*leak_rate, Gx22 --> x2 + x0\n",
    "shadow*leak*leak_rate, sGx22 --> sx2 + sx0\n",
    "end k infRate infConc leak leak_rate shadow\n",
    "z = 2"
   ]
  },
  {
   "cell_type": "code",
   "execution_count": 27,
   "id": "14a5c026",
   "metadata": {},
   "outputs": [
    {
     "data": {
      "text/plain": [
       "2"
      ]
     },
     "execution_count": 27,
     "metadata": {},
     "output_type": "execute_result"
    }
   ],
   "source": [
    "bimolecular = @reaction_network bi begin\n",
    "    bimolRate, x0 + Ly0 --> Iy0\n",
    "    shadow*bimolRate, sx0 + sLy0 --> sIy0\n",
    "    leak*leak_rate, Ly0 --> Iy0\n",
    "    shadow*leak*leak_rate, sLy0 --> sIy0\n",
    "    leak*shadow*infRate, x0 + sx0 --> waste\n",
    "    leak*shadow*infRate, Iy0 + sIy0 --> waste\n",
    "    infRate, Iy0 + Gy0 --> y0 + y1\n",
    "    shadow*infRate, sIy0 + sGy0 --> sy0 + sy1\n",
    "    leak*leak_rate, Gy0 --> y0 + y1\n",
    "    shadow*leak*leak_rate, sGy0 --> sy0 + sy1\n",
    "    leak*shadow*infRate, y1 + sy1 --> waste\n",
    "    leak*shadow*infRate, y0 + sy0 --> waste\n",
    "    infRate, Ly0 --> y0\n",
    "    shadow*infRate, sLy0 --> sy0\n",
    "    infRate, y0 --> Ly0\n",
    "    shadow*infRate, sy0 --> sLy0\n",
    "    bimolRate, x1 + Ly1 --> Iy1\n",
    "    shadow*bimolRate, sx1 + sLy1 --> sIy1\n",
    "    leak*leak_rate, Ly1 --> Iy1\n",
    "    shadow*leak*leak_rate, sLy1 --> sIy1\n",
    "    leak*shadow*infRate, x1 + sx1 --> waste\n",
    "    leak*shadow*infRate, Iy1 + sIy1 --> waste\n",
    "    infRate, Iy1 + Gy1 --> y1 + y2\n",
    "    shadow*infRate, sIy1 + sGy1 --> sy1 + sy2\n",
    "    leak*leak_rate, Gy1 --> y1 + y2\n",
    "    shadow*leak*leak_rate, sGy1 --> sy1 + sy2\n",
    "    leak*shadow*infRate, y2 + sy2 --> waste\n",
    "    infRate, Ly1 --> y1\n",
    "    shadow*infRate, sLy1 --> sy1\n",
    "    infRate, y1 --> Ly1\n",
    "    shadow*infRate, sy1 --> sLy1\n",
    "    bimolRate, x2 + Ly2 --> Iy2\n",
    "    shadow*bimolRate, sx2 + sLy2 --> sIy2\n",
    "    leak*leak_rate, Ly2 --> Iy2\n",
    "    shadow*leak*leak_rate, sLy2 --> sIy2\n",
    "    leak*shadow*infRate, x2 + sx2 --> waste\n",
    "    leak*shadow*infRate, Iy2 + sIy2 --> waste\n",
    "    infRate, Iy2 + Gy2 --> y2 + y0\n",
    "    shadow*infRate, sIy2 + sGy2 --> sy2 + sy0\n",
    "    leak*leak_rate, Gy2 --> y2 + y0\n",
    "    shadow*leak*leak_rate, sGy2 --> sy2 + sy0\n",
    "    infRate, Ly2 --> y2\n",
    "    shadow*infRate, sLy2 --> sy2\n",
    "    infRate, y2 --> Ly2\n",
    "    shadow*infRate, sy2 --> sLy2\n",
    "end bimolRate infRate infConc leak leak_rate shadow\n",
    "z = 2"
   ]
  },
  {
   "cell_type": "code",
   "execution_count": 54,
   "id": "47be5153",
   "metadata": {},
   "outputs": [
    {
     "data": {
      "text/plain": [
       "print_species_array (generic function with 1 method)"
      ]
     },
     "execution_count": 54,
     "metadata": {},
     "output_type": "execute_result"
    }
   ],
   "source": [
    "function print_species_array(reaction_network)\n",
    "    ss = species(reaction_network)\n",
    "    print(\"species = [\")\n",
    "    for s in ss\n",
    "        print(\"'\", s,\"'\", \",\")\n",
    "    end\n",
    "    print(\"]\")\n",
    "    \n",
    "end"
   ]
  },
  {
   "cell_type": "code",
   "execution_count": 55,
   "id": "55bb2496",
   "metadata": {},
   "outputs": [
    {
     "name": "stdout",
     "output_type": "stream",
     "text": [
      "species = ['x0(t)','Ly0(t)','Iy0(t)','sx0(t)','sLy0(t)','sIy0(t)','waste(t)','Gy0(t)','y0(t)','y1(t)','sGy0(t)','sy0(t)','sy1(t)','x1(t)','Ly1(t)','Iy1(t)','sx1(t)','sLy1(t)','sIy1(t)','Gy1(t)','y2(t)','sGy1(t)','sy2(t)','x2(t)','Ly2(t)','Iy2(t)','sx2(t)','sLy2(t)','sIy2(t)','Gy2(t)','sGy2(t)',]"
     ]
    }
   ],
   "source": [
    "print_species_array(bimolecular)"
   ]
  },
  {
   "cell_type": "code",
   "execution_count": 57,
   "id": "9a7371b3",
   "metadata": {},
   "outputs": [
    {
     "data": {
      "text/plain": [
       "simulate (generic function with 1 method)"
      ]
     },
     "execution_count": 57,
     "metadata": {},
     "output_type": "execute_result"
    }
   ],
   "source": [
    "function simulate(rn, u0;tspan=(0.0, 1000.0), rate=1.0/60, \n",
    "        infConc=1e4, infRate=1e2, leak=0, leak_rate=1e-4,   \n",
    "        shadow=0, reltol=1e-8, abstol=1e-8)\n",
    "    println(shadow)\n",
    "    # Network parameter variables\n",
    "    p = [rate, infRate, infConc, leak, leak_rate, shadow] # rate, infRate, infConc, leak, leak_rate, shadow\n",
    "    oprob = ODEProblem(rn, u0, tspan, p)\n",
    "    sol = solve(oprob, Rodas4(), reltol=1e-8, abstol=1e-8)\n",
    "    return sol\n",
    "end"
   ]
  },
  {
   "cell_type": "code",
   "execution_count": 71,
   "id": "7846225d",
   "metadata": {},
   "outputs": [
    {
     "name": "stdout",
     "output_type": "stream",
     "text": [
      "0\n"
     ]
    },
    {
     "data": {
      "text/plain": [
       "2"
      ]
     },
     "execution_count": 71,
     "metadata": {},
     "output_type": "execute_result"
    }
   ],
   "source": [
    "infConc = 1e4\n",
    "infRate = 1e2\n",
    "unimol_u0 = [\n",
    "1.0, infConc, 0.0, 0.0, infConc, \n",
    "0.0, 0.0, infConc, 1.0, infConc, \n",
    "0.0, infConc, 0.0, infConc, 0.0, \n",
    "infConc, 1.0, infConc, 0.0, infConc, \n",
    "0.0, infConc, 0.0, infConc, infConc, \n",
    "]\n",
    "unimol_sol = simulate(unimolecular, unimol_u0, leak=1, shadow=1, tspan=(0, 1000.0))\n",
    "z = 2"
   ]
  },
  {
   "cell_type": "code",
   "execution_count": 60,
   "id": "e5351045",
   "metadata": {
    "scrolled": false
   },
   "outputs": [
    {
     "name": "stdout",
     "output_type": "stream",
     "text": [
      "Term{Real, Base.ImmutableDict{DataType, Any}}[x0(t), Gx01(t), Ix0(t), sx0(t), sGx01(t), sIx0(t), waste(t), Gx02(t), x1(t), sGx02(t), sx1(t), Gx11(t), Ix1(t), sGx11(t), sIx1(t), Gx12(t), x2(t), sGx12(t), sx2(t), Gx21(t), Ix2(t), sGx21(t), sIx2(t), Gx22(t), sGx22(t)]"
     ]
    },
    {
     "data": {
      "image/svg+xml": [
       "<?xml version=\"1.0\" encoding=\"utf-8\"?>\n",
       "<svg xmlns=\"http://www.w3.org/2000/svg\" xmlns:xlink=\"http://www.w3.org/1999/xlink\" width=\"600\" height=\"400\" viewBox=\"0 0 2400 1600\">\n",
       "<defs>\n",
       "  <clipPath id=\"clip750\">\n",
       "    <rect x=\"0\" y=\"0\" width=\"2400\" height=\"1600\"/>\n",
       "  </clipPath>\n",
       "</defs>\n",
       "<path clip-path=\"url(#clip750)\" d=\"\n",
       "M0 1600 L2400 1600 L2400 0 L0 0  Z\n",
       "  \" fill=\"#ffffff\" fill-rule=\"evenodd\" fill-opacity=\"1\"/>\n",
       "<defs>\n",
       "  <clipPath id=\"clip751\">\n",
       "    <rect x=\"480\" y=\"0\" width=\"1681\" height=\"1600\"/>\n",
       "  </clipPath>\n",
       "</defs>\n",
       "<path clip-path=\"url(#clip750)\" d=\"\n",
       "M306.435 1486.45 L2352.76 1486.45 L2352.76 47.2441 L306.435 47.2441  Z\n",
       "  \" fill=\"#ffffff\" fill-rule=\"evenodd\" fill-opacity=\"1\"/>\n",
       "<defs>\n",
       "  <clipPath id=\"clip752\">\n",
       "    <rect x=\"306\" y=\"47\" width=\"2047\" height=\"1440\"/>\n",
       "  </clipPath>\n",
       "</defs>\n",
       "<polyline clip-path=\"url(#clip752)\" style=\"stroke:#000000; stroke-linecap:round; stroke-linejoin:round; stroke-width:2; stroke-opacity:0.1; fill:none\" points=\"\n",
       "  362.035,1486.45 362.035,47.2441 \n",
       "  \"/>\n",
       "<polyline clip-path=\"url(#clip752)\" style=\"stroke:#000000; stroke-linecap:round; stroke-linejoin:round; stroke-width:2; stroke-opacity:0.1; fill:none\" points=\"\n",
       "  824.983,1486.45 824.983,47.2441 \n",
       "  \"/>\n",
       "<polyline clip-path=\"url(#clip752)\" style=\"stroke:#000000; stroke-linecap:round; stroke-linejoin:round; stroke-width:2; stroke-opacity:0.1; fill:none\" points=\"\n",
       "  1287.93,1486.45 1287.93,47.2441 \n",
       "  \"/>\n",
       "<polyline clip-path=\"url(#clip752)\" style=\"stroke:#000000; stroke-linecap:round; stroke-linejoin:round; stroke-width:2; stroke-opacity:0.1; fill:none\" points=\"\n",
       "  1750.88,1486.45 1750.88,47.2441 \n",
       "  \"/>\n",
       "<polyline clip-path=\"url(#clip752)\" style=\"stroke:#000000; stroke-linecap:round; stroke-linejoin:round; stroke-width:2; stroke-opacity:0.1; fill:none\" points=\"\n",
       "  2213.83,1486.45 2213.83,47.2441 \n",
       "  \"/>\n",
       "<polyline clip-path=\"url(#clip750)\" style=\"stroke:#000000; stroke-linecap:round; stroke-linejoin:round; stroke-width:4; stroke-opacity:1; fill:none\" points=\"\n",
       "  306.435,1486.45 2352.76,1486.45 \n",
       "  \"/>\n",
       "<polyline clip-path=\"url(#clip750)\" style=\"stroke:#000000; stroke-linecap:round; stroke-linejoin:round; stroke-width:4; stroke-opacity:1; fill:none\" points=\"\n",
       "  362.035,1486.45 362.035,1467.55 \n",
       "  \"/>\n",
       "<polyline clip-path=\"url(#clip750)\" style=\"stroke:#000000; stroke-linecap:round; stroke-linejoin:round; stroke-width:4; stroke-opacity:1; fill:none\" points=\"\n",
       "  824.983,1486.45 824.983,1467.55 \n",
       "  \"/>\n",
       "<polyline clip-path=\"url(#clip750)\" style=\"stroke:#000000; stroke-linecap:round; stroke-linejoin:round; stroke-width:4; stroke-opacity:1; fill:none\" points=\"\n",
       "  1287.93,1486.45 1287.93,1467.55 \n",
       "  \"/>\n",
       "<polyline clip-path=\"url(#clip750)\" style=\"stroke:#000000; stroke-linecap:round; stroke-linejoin:round; stroke-width:4; stroke-opacity:1; fill:none\" points=\"\n",
       "  1750.88,1486.45 1750.88,1467.55 \n",
       "  \"/>\n",
       "<polyline clip-path=\"url(#clip750)\" style=\"stroke:#000000; stroke-linecap:round; stroke-linejoin:round; stroke-width:4; stroke-opacity:1; fill:none\" points=\"\n",
       "  2213.83,1486.45 2213.83,1467.55 \n",
       "  \"/>\n",
       "<path clip-path=\"url(#clip750)\" d=\"M362.035 1517.37 Q358.424 1517.37 356.596 1520.93 Q354.79 1524.47 354.79 1531.6 Q354.79 1538.71 356.596 1542.27 Q358.424 1545.82 362.035 1545.82 Q365.67 1545.82 367.475 1542.27 Q369.304 1538.71 369.304 1531.6 Q369.304 1524.47 367.475 1520.93 Q365.67 1517.37 362.035 1517.37 M362.035 1513.66 Q367.846 1513.66 370.901 1518.27 Q373.98 1522.85 373.98 1531.6 Q373.98 1540.33 370.901 1544.94 Q367.846 1549.52 362.035 1549.52 Q356.225 1549.52 353.147 1544.94 Q350.091 1540.33 350.091 1531.6 Q350.091 1522.85 353.147 1518.27 Q356.225 1513.66 362.035 1513.66 Z\" fill=\"#000000\" fill-rule=\"evenodd\" fill-opacity=\"1\" /><path clip-path=\"url(#clip750)\" d=\"M788.675 1544.91 L804.995 1544.91 L804.995 1548.85 L783.05 1548.85 L783.05 1544.91 Q785.712 1542.16 790.296 1537.53 Q794.902 1532.88 796.083 1531.53 Q798.328 1529.01 799.208 1527.27 Q800.11 1525.51 800.11 1523.82 Q800.11 1521.07 798.166 1519.33 Q796.245 1517.6 793.143 1517.6 Q790.944 1517.6 788.49 1518.36 Q786.059 1519.13 783.282 1520.68 L783.282 1515.95 Q786.106 1514.82 788.559 1514.24 Q791.013 1513.66 793.05 1513.66 Q798.421 1513.66 801.615 1516.35 Q804.809 1519.03 804.809 1523.52 Q804.809 1525.65 803.999 1527.57 Q803.212 1529.47 801.106 1532.07 Q800.527 1532.74 797.425 1535.95 Q794.323 1539.15 788.675 1544.91 Z\" fill=\"#000000\" fill-rule=\"evenodd\" fill-opacity=\"1\" /><path clip-path=\"url(#clip750)\" d=\"M824.809 1517.37 Q821.198 1517.37 819.369 1520.93 Q817.564 1524.47 817.564 1531.6 Q817.564 1538.71 819.369 1542.27 Q821.198 1545.82 824.809 1545.82 Q828.444 1545.82 830.249 1542.27 Q832.078 1538.71 832.078 1531.6 Q832.078 1524.47 830.249 1520.93 Q828.444 1517.37 824.809 1517.37 M824.809 1513.66 Q830.619 1513.66 833.675 1518.27 Q836.754 1522.85 836.754 1531.6 Q836.754 1540.33 833.675 1544.94 Q830.619 1549.52 824.809 1549.52 Q818.999 1549.52 815.92 1544.94 Q812.865 1540.33 812.865 1531.6 Q812.865 1522.85 815.92 1518.27 Q818.999 1513.66 824.809 1513.66 Z\" fill=\"#000000\" fill-rule=\"evenodd\" fill-opacity=\"1\" /><path clip-path=\"url(#clip750)\" d=\"M854.971 1517.37 Q851.36 1517.37 849.531 1520.93 Q847.726 1524.47 847.726 1531.6 Q847.726 1538.71 849.531 1542.27 Q851.36 1545.82 854.971 1545.82 Q858.605 1545.82 860.411 1542.27 Q862.24 1538.71 862.24 1531.6 Q862.24 1524.47 860.411 1520.93 Q858.605 1517.37 854.971 1517.37 M854.971 1513.66 Q860.781 1513.66 863.837 1518.27 Q866.916 1522.85 866.916 1531.6 Q866.916 1540.33 863.837 1544.94 Q860.781 1549.52 854.971 1549.52 Q849.161 1549.52 846.082 1544.94 Q843.027 1540.33 843.027 1531.6 Q843.027 1522.85 846.082 1518.27 Q849.161 1513.66 854.971 1513.66 Z\" fill=\"#000000\" fill-rule=\"evenodd\" fill-opacity=\"1\" /><path clip-path=\"url(#clip750)\" d=\"M1261.02 1518.36 L1249.22 1536.81 L1261.02 1536.81 L1261.02 1518.36 M1259.79 1514.29 L1265.67 1514.29 L1265.67 1536.81 L1270.6 1536.81 L1270.6 1540.7 L1265.67 1540.7 L1265.67 1548.85 L1261.02 1548.85 L1261.02 1540.7 L1245.42 1540.7 L1245.42 1536.19 L1259.79 1514.29 Z\" fill=\"#000000\" fill-rule=\"evenodd\" fill-opacity=\"1\" /><path clip-path=\"url(#clip750)\" d=\"M1288.34 1517.37 Q1284.72 1517.37 1282.9 1520.93 Q1281.09 1524.47 1281.09 1531.6 Q1281.09 1538.71 1282.9 1542.27 Q1284.72 1545.82 1288.34 1545.82 Q1291.97 1545.82 1293.78 1542.27 Q1295.6 1538.71 1295.6 1531.6 Q1295.6 1524.47 1293.78 1520.93 Q1291.97 1517.37 1288.34 1517.37 M1288.34 1513.66 Q1294.15 1513.66 1297.2 1518.27 Q1300.28 1522.85 1300.28 1531.6 Q1300.28 1540.33 1297.2 1544.94 Q1294.15 1549.52 1288.34 1549.52 Q1282.53 1549.52 1279.45 1544.94 Q1276.39 1540.33 1276.39 1531.6 Q1276.39 1522.85 1279.45 1518.27 Q1282.53 1513.66 1288.34 1513.66 Z\" fill=\"#000000\" fill-rule=\"evenodd\" fill-opacity=\"1\" /><path clip-path=\"url(#clip750)\" d=\"M1318.5 1517.37 Q1314.89 1517.37 1313.06 1520.93 Q1311.25 1524.47 1311.25 1531.6 Q1311.25 1538.71 1313.06 1542.27 Q1314.89 1545.82 1318.5 1545.82 Q1322.13 1545.82 1323.94 1542.27 Q1325.77 1538.71 1325.77 1531.6 Q1325.77 1524.47 1323.94 1520.93 Q1322.13 1517.37 1318.5 1517.37 M1318.5 1513.66 Q1324.31 1513.66 1327.36 1518.27 Q1330.44 1522.85 1330.44 1531.6 Q1330.44 1540.33 1327.36 1544.94 Q1324.31 1549.52 1318.5 1549.52 Q1312.69 1549.52 1309.61 1544.94 Q1306.55 1540.33 1306.55 1531.6 Q1306.55 1522.85 1309.61 1518.27 Q1312.69 1513.66 1318.5 1513.66 Z\" fill=\"#000000\" fill-rule=\"evenodd\" fill-opacity=\"1\" /><path clip-path=\"url(#clip750)\" d=\"M1721.2 1529.7 Q1718.05 1529.7 1716.2 1531.86 Q1714.37 1534.01 1714.37 1537.76 Q1714.37 1541.49 1716.2 1543.66 Q1718.05 1545.82 1721.2 1545.82 Q1724.35 1545.82 1726.18 1543.66 Q1728.03 1541.49 1728.03 1537.76 Q1728.03 1534.01 1726.18 1531.86 Q1724.35 1529.7 1721.2 1529.7 M1730.48 1515.05 L1730.48 1519.31 Q1728.73 1518.48 1726.92 1518.04 Q1725.14 1517.6 1723.38 1517.6 Q1718.75 1517.6 1716.29 1520.72 Q1713.86 1523.85 1713.52 1530.17 Q1714.88 1528.15 1716.94 1527.09 Q1719 1526 1721.48 1526 Q1726.69 1526 1729.7 1529.17 Q1732.73 1532.32 1732.73 1537.76 Q1732.73 1543.08 1729.58 1546.3 Q1726.43 1549.52 1721.2 1549.52 Q1715.21 1549.52 1712.04 1544.94 Q1708.86 1540.33 1708.86 1531.6 Q1708.86 1523.41 1712.75 1518.55 Q1716.64 1513.66 1723.19 1513.66 Q1724.95 1513.66 1726.73 1514.01 Q1728.54 1514.36 1730.48 1515.05 Z\" fill=\"#000000\" fill-rule=\"evenodd\" fill-opacity=\"1\" /><path clip-path=\"url(#clip750)\" d=\"M1750.79 1517.37 Q1747.17 1517.37 1745.35 1520.93 Q1743.54 1524.47 1743.54 1531.6 Q1743.54 1538.71 1745.35 1542.27 Q1747.17 1545.82 1750.79 1545.82 Q1754.42 1545.82 1756.23 1542.27 Q1758.05 1538.71 1758.05 1531.6 Q1758.05 1524.47 1756.23 1520.93 Q1754.42 1517.37 1750.79 1517.37 M1750.79 1513.66 Q1756.6 1513.66 1759.65 1518.27 Q1762.73 1522.85 1762.73 1531.6 Q1762.73 1540.33 1759.65 1544.94 Q1756.6 1549.52 1750.79 1549.52 Q1744.98 1549.52 1741.9 1544.94 Q1738.84 1540.33 1738.84 1531.6 Q1738.84 1522.85 1741.9 1518.27 Q1744.98 1513.66 1750.79 1513.66 Z\" fill=\"#000000\" fill-rule=\"evenodd\" fill-opacity=\"1\" /><path clip-path=\"url(#clip750)\" d=\"M1780.95 1517.37 Q1777.34 1517.37 1775.51 1520.93 Q1773.7 1524.47 1773.7 1531.6 Q1773.7 1538.71 1775.51 1542.27 Q1777.34 1545.82 1780.95 1545.82 Q1784.58 1545.82 1786.39 1542.27 Q1788.22 1538.71 1788.22 1531.6 Q1788.22 1524.47 1786.39 1520.93 Q1784.58 1517.37 1780.95 1517.37 M1780.95 1513.66 Q1786.76 1513.66 1789.81 1518.27 Q1792.89 1522.85 1792.89 1531.6 Q1792.89 1540.33 1789.81 1544.94 Q1786.76 1549.52 1780.95 1549.52 Q1775.14 1549.52 1772.06 1544.94 Q1769 1540.33 1769 1531.6 Q1769 1522.85 1772.06 1518.27 Q1775.14 1513.66 1780.95 1513.66 Z\" fill=\"#000000\" fill-rule=\"evenodd\" fill-opacity=\"1\" /><path clip-path=\"url(#clip750)\" d=\"M2183.62 1532.44 Q2180.28 1532.44 2178.36 1534.22 Q2176.46 1536 2176.46 1539.13 Q2176.46 1542.25 2178.36 1544.03 Q2180.28 1545.82 2183.62 1545.82 Q2186.95 1545.82 2188.87 1544.03 Q2190.79 1542.23 2190.79 1539.13 Q2190.79 1536 2188.87 1534.22 Q2186.97 1532.44 2183.62 1532.44 M2178.94 1530.45 Q2175.93 1529.7 2174.24 1527.64 Q2172.58 1525.58 2172.58 1522.62 Q2172.58 1518.48 2175.52 1516.07 Q2178.48 1513.66 2183.62 1513.66 Q2188.78 1513.66 2191.72 1516.07 Q2194.66 1518.48 2194.66 1522.62 Q2194.66 1525.58 2192.97 1527.64 Q2191.3 1529.7 2188.32 1530.45 Q2191.7 1531.23 2193.57 1533.52 Q2195.47 1535.82 2195.47 1539.13 Q2195.47 1544.15 2192.39 1546.83 Q2189.33 1549.52 2183.62 1549.52 Q2177.9 1549.52 2174.82 1546.83 Q2171.77 1544.15 2171.77 1539.13 Q2171.77 1535.82 2173.66 1533.52 Q2175.56 1531.23 2178.94 1530.45 M2177.23 1523.06 Q2177.23 1525.75 2178.89 1527.25 Q2180.58 1528.76 2183.62 1528.76 Q2186.63 1528.76 2188.32 1527.25 Q2190.03 1525.75 2190.03 1523.06 Q2190.03 1520.38 2188.32 1518.87 Q2186.63 1517.37 2183.62 1517.37 Q2180.58 1517.37 2178.89 1518.87 Q2177.23 1520.38 2177.23 1523.06 Z\" fill=\"#000000\" fill-rule=\"evenodd\" fill-opacity=\"1\" /><path clip-path=\"url(#clip750)\" d=\"M2213.78 1517.37 Q2210.17 1517.37 2208.34 1520.93 Q2206.53 1524.47 2206.53 1531.6 Q2206.53 1538.71 2208.34 1542.27 Q2210.17 1545.82 2213.78 1545.82 Q2217.41 1545.82 2219.22 1542.27 Q2221.05 1538.71 2221.05 1531.6 Q2221.05 1524.47 2219.22 1520.93 Q2217.41 1517.37 2213.78 1517.37 M2213.78 1513.66 Q2219.59 1513.66 2222.64 1518.27 Q2225.72 1522.85 2225.72 1531.6 Q2225.72 1540.33 2222.64 1544.94 Q2219.59 1549.52 2213.78 1549.52 Q2207.97 1549.52 2204.89 1544.94 Q2201.83 1540.33 2201.83 1531.6 Q2201.83 1522.85 2204.89 1518.27 Q2207.97 1513.66 2213.78 1513.66 Z\" fill=\"#000000\" fill-rule=\"evenodd\" fill-opacity=\"1\" /><path clip-path=\"url(#clip750)\" d=\"M2243.94 1517.37 Q2240.33 1517.37 2238.5 1520.93 Q2236.7 1524.47 2236.7 1531.6 Q2236.7 1538.71 2238.5 1542.27 Q2240.33 1545.82 2243.94 1545.82 Q2247.58 1545.82 2249.38 1542.27 Q2251.21 1538.71 2251.21 1531.6 Q2251.21 1524.47 2249.38 1520.93 Q2247.58 1517.37 2243.94 1517.37 M2243.94 1513.66 Q2249.75 1513.66 2252.81 1518.27 Q2255.89 1522.85 2255.89 1531.6 Q2255.89 1540.33 2252.81 1544.94 Q2249.75 1549.52 2243.94 1549.52 Q2238.13 1549.52 2235.05 1544.94 Q2232 1540.33 2232 1531.6 Q2232 1522.85 2235.05 1518.27 Q2238.13 1513.66 2243.94 1513.66 Z\" fill=\"#000000\" fill-rule=\"evenodd\" fill-opacity=\"1\" /><polyline clip-path=\"url(#clip752)\" style=\"stroke:#000000; stroke-linecap:round; stroke-linejoin:round; stroke-width:2; stroke-opacity:0.1; fill:none\" points=\"\n",
       "  306.435,1445.88 2352.76,1445.88 \n",
       "  \"/>\n",
       "<polyline clip-path=\"url(#clip752)\" style=\"stroke:#000000; stroke-linecap:round; stroke-linejoin:round; stroke-width:2; stroke-opacity:0.1; fill:none\" points=\"\n",
       "  306.435,1169.96 2352.76,1169.96 \n",
       "  \"/>\n",
       "<polyline clip-path=\"url(#clip752)\" style=\"stroke:#000000; stroke-linecap:round; stroke-linejoin:round; stroke-width:2; stroke-opacity:0.1; fill:none\" points=\"\n",
       "  306.435,894.045 2352.76,894.045 \n",
       "  \"/>\n",
       "<polyline clip-path=\"url(#clip752)\" style=\"stroke:#000000; stroke-linecap:round; stroke-linejoin:round; stroke-width:2; stroke-opacity:0.1; fill:none\" points=\"\n",
       "  306.435,618.127 2352.76,618.127 \n",
       "  \"/>\n",
       "<polyline clip-path=\"url(#clip752)\" style=\"stroke:#000000; stroke-linecap:round; stroke-linejoin:round; stroke-width:2; stroke-opacity:0.1; fill:none\" points=\"\n",
       "  306.435,342.209 2352.76,342.209 \n",
       "  \"/>\n",
       "<polyline clip-path=\"url(#clip752)\" style=\"stroke:#000000; stroke-linecap:round; stroke-linejoin:round; stroke-width:2; stroke-opacity:0.1; fill:none\" points=\"\n",
       "  306.435,66.2903 2352.76,66.2903 \n",
       "  \"/>\n",
       "<polyline clip-path=\"url(#clip750)\" style=\"stroke:#000000; stroke-linecap:round; stroke-linejoin:round; stroke-width:4; stroke-opacity:1; fill:none\" points=\"\n",
       "  306.435,1486.45 306.435,47.2441 \n",
       "  \"/>\n",
       "<polyline clip-path=\"url(#clip750)\" style=\"stroke:#000000; stroke-linecap:round; stroke-linejoin:round; stroke-width:4; stroke-opacity:1; fill:none\" points=\"\n",
       "  306.435,1445.88 325.333,1445.88 \n",
       "  \"/>\n",
       "<polyline clip-path=\"url(#clip750)\" style=\"stroke:#000000; stroke-linecap:round; stroke-linejoin:round; stroke-width:4; stroke-opacity:1; fill:none\" points=\"\n",
       "  306.435,1169.96 325.333,1169.96 \n",
       "  \"/>\n",
       "<polyline clip-path=\"url(#clip750)\" style=\"stroke:#000000; stroke-linecap:round; stroke-linejoin:round; stroke-width:4; stroke-opacity:1; fill:none\" points=\"\n",
       "  306.435,894.045 325.333,894.045 \n",
       "  \"/>\n",
       "<polyline clip-path=\"url(#clip750)\" style=\"stroke:#000000; stroke-linecap:round; stroke-linejoin:round; stroke-width:4; stroke-opacity:1; fill:none\" points=\"\n",
       "  306.435,618.127 325.333,618.127 \n",
       "  \"/>\n",
       "<polyline clip-path=\"url(#clip750)\" style=\"stroke:#000000; stroke-linecap:round; stroke-linejoin:round; stroke-width:4; stroke-opacity:1; fill:none\" points=\"\n",
       "  306.435,342.209 325.333,342.209 \n",
       "  \"/>\n",
       "<polyline clip-path=\"url(#clip750)\" style=\"stroke:#000000; stroke-linecap:round; stroke-linejoin:round; stroke-width:4; stroke-opacity:1; fill:none\" points=\"\n",
       "  306.435,66.2903 325.333,66.2903 \n",
       "  \"/>\n",
       "<path clip-path=\"url(#clip750)\" d=\"M258.491 1431.68 Q254.88 1431.68 253.051 1435.24 Q251.246 1438.79 251.246 1445.92 Q251.246 1453.02 253.051 1456.59 Q254.88 1460.13 258.491 1460.13 Q262.125 1460.13 263.931 1456.59 Q265.759 1453.02 265.759 1445.92 Q265.759 1438.79 263.931 1435.24 Q262.125 1431.68 258.491 1431.68 M258.491 1427.98 Q264.301 1427.98 267.357 1432.58 Q270.435 1437.17 270.435 1445.92 Q270.435 1454.64 267.357 1459.25 Q264.301 1463.83 258.491 1463.83 Q252.681 1463.83 249.602 1459.25 Q246.547 1454.64 246.547 1445.92 Q246.547 1437.17 249.602 1432.58 Q252.681 1427.98 258.491 1427.98 Z\" fill=\"#000000\" fill-rule=\"evenodd\" fill-opacity=\"1\" /><path clip-path=\"url(#clip750)\" d=\"M54.6105 1159.13 L72.9668 1159.13 L72.9668 1163.07 L58.8928 1163.07 L58.8928 1171.54 Q59.9113 1171.19 60.9299 1171.03 Q61.9484 1170.84 62.9669 1170.84 Q68.7539 1170.84 72.1335 1174.01 Q75.5131 1177.19 75.5131 1182.6 Q75.5131 1188.18 72.0409 1191.28 Q68.5687 1194.36 62.2493 1194.36 Q60.0734 1194.36 57.8049 1193.99 Q55.5595 1193.62 53.1521 1192.88 L53.1521 1188.18 Q55.2354 1189.32 57.4577 1189.87 Q59.6799 1190.43 62.1567 1190.43 Q66.1613 1190.43 68.4993 1188.32 Q70.8372 1186.21 70.8372 1182.6 Q70.8372 1178.99 68.4993 1176.89 Q66.1613 1174.78 62.1567 1174.78 Q60.2817 1174.78 58.4067 1175.2 Q56.5549 1175.61 54.6105 1176.49 L54.6105 1159.13 Z\" fill=\"#000000\" fill-rule=\"evenodd\" fill-opacity=\"1\" /><path clip-path=\"url(#clip750)\" d=\"M84.726 1187.81 L89.6103 1187.81 L89.6103 1193.69 L84.726 1193.69 L84.726 1187.81 Z\" fill=\"#000000\" fill-rule=\"evenodd\" fill-opacity=\"1\" /><path clip-path=\"url(#clip750)\" d=\"M109.795 1162.21 Q106.184 1162.21 104.356 1165.77 Q102.55 1169.32 102.55 1176.45 Q102.55 1183.55 104.356 1187.12 Q106.184 1190.66 109.795 1190.66 Q113.43 1190.66 115.235 1187.12 Q117.064 1183.55 117.064 1176.45 Q117.064 1169.32 115.235 1165.77 Q113.43 1162.21 109.795 1162.21 M109.795 1158.51 Q115.605 1158.51 118.661 1163.11 Q121.74 1167.7 121.74 1176.45 Q121.74 1185.17 118.661 1189.78 Q115.605 1194.36 109.795 1194.36 Q103.985 1194.36 100.906 1189.78 Q97.851 1185.17 97.851 1176.45 Q97.851 1167.7 100.906 1163.11 Q103.985 1158.51 109.795 1158.51 Z\" fill=\"#000000\" fill-rule=\"evenodd\" fill-opacity=\"1\" /><path clip-path=\"url(#clip750)\" d=\"M139.957 1162.21 Q136.346 1162.21 134.517 1165.77 Q132.712 1169.32 132.712 1176.45 Q132.712 1183.55 134.517 1187.12 Q136.346 1190.66 139.957 1190.66 Q143.591 1190.66 145.397 1187.12 Q147.226 1183.55 147.226 1176.45 Q147.226 1169.32 145.397 1165.77 Q143.591 1162.21 139.957 1162.21 M139.957 1158.51 Q145.767 1158.51 148.823 1163.11 Q151.902 1167.7 151.902 1176.45 Q151.902 1185.17 148.823 1189.78 Q145.767 1194.36 139.957 1194.36 Q134.147 1194.36 131.068 1189.78 Q128.013 1185.17 128.013 1176.45 Q128.013 1167.7 131.068 1163.11 Q134.147 1158.51 139.957 1158.51 Z\" fill=\"#000000\" fill-rule=\"evenodd\" fill-opacity=\"1\" /><path clip-path=\"url(#clip750)\" d=\"M188.29 1168.23 L177.712 1178.85 L188.29 1189.43 L185.536 1192.23 L174.911 1181.61 L164.286 1192.23 L161.554 1189.43 L172.11 1178.85 L161.554 1168.23 L164.286 1165.43 L174.911 1176.05 L185.536 1165.43 L188.29 1168.23 Z\" fill=\"#000000\" fill-rule=\"evenodd\" fill-opacity=\"1\" /><path clip-path=\"url(#clip750)\" d=\"M200.651 1189.76 L208.29 1189.76 L208.29 1163.39 L199.98 1165.06 L199.98 1160.8 L208.244 1159.13 L212.92 1159.13 L212.92 1189.76 L220.559 1189.76 L220.559 1193.69 L200.651 1193.69 L200.651 1189.76 Z\" fill=\"#000000\" fill-rule=\"evenodd\" fill-opacity=\"1\" /><path clip-path=\"url(#clip750)\" d=\"M240.003 1162.21 Q236.392 1162.21 234.563 1165.77 Q232.758 1169.32 232.758 1176.45 Q232.758 1183.55 234.563 1187.12 Q236.392 1190.66 240.003 1190.66 Q243.637 1190.66 245.443 1187.12 Q247.271 1183.55 247.271 1176.45 Q247.271 1169.32 245.443 1165.77 Q243.637 1162.21 240.003 1162.21 M240.003 1158.51 Q245.813 1158.51 248.869 1163.11 Q251.947 1167.7 251.947 1176.45 Q251.947 1185.17 248.869 1189.78 Q245.813 1194.36 240.003 1194.36 Q234.193 1194.36 231.114 1189.78 Q228.059 1185.17 228.059 1176.45 Q228.059 1167.7 231.114 1163.11 Q234.193 1158.51 240.003 1158.51 Z\" fill=\"#000000\" fill-rule=\"evenodd\" fill-opacity=\"1\" /><path clip-path=\"url(#clip750)\" d=\"M264.643 1151.14 Q267.37 1151.72 268.893 1153.57 Q270.435 1155.41 270.435 1158.12 Q270.435 1162.27 267.577 1164.55 Q264.718 1166.83 259.452 1166.83 Q257.684 1166.83 255.803 1166.47 Q253.941 1166.13 251.947 1165.43 L251.947 1161.77 Q253.527 1162.69 255.408 1163.16 Q257.289 1163.63 259.339 1163.63 Q262.912 1163.63 264.774 1162.22 Q266.655 1160.81 266.655 1158.12 Q266.655 1155.64 264.906 1154.24 Q263.176 1152.83 260.072 1152.83 L256.8 1152.83 L256.8 1149.71 L260.223 1149.71 Q263.025 1149.71 264.511 1148.6 Q265.997 1147.47 265.997 1145.37 Q265.997 1143.2 264.455 1142.06 Q262.931 1140.89 260.072 1140.89 Q258.511 1140.89 256.725 1141.23 Q254.938 1141.57 252.794 1142.28 L252.794 1138.9 Q254.957 1138.29 256.837 1137.99 Q258.737 1137.69 260.411 1137.69 Q264.737 1137.69 267.257 1139.67 Q269.777 1141.62 269.777 1144.97 Q269.777 1147.3 268.442 1148.92 Q267.106 1150.52 264.643 1151.14 Z\" fill=\"#000000\" fill-rule=\"evenodd\" fill-opacity=\"1\" /><path clip-path=\"url(#clip750)\" d=\"M53.3995 913.837 L61.0384 913.837 L61.0384 887.472 L52.7282 889.138 L52.7282 884.879 L60.9921 883.212 L65.668 883.212 L65.668 913.837 L73.3068 913.837 L73.3068 917.772 L53.3995 917.772 L53.3995 913.837 Z\" fill=\"#000000\" fill-rule=\"evenodd\" fill-opacity=\"1\" /><path clip-path=\"url(#clip750)\" d=\"M82.7512 911.893 L87.6354 911.893 L87.6354 917.772 L82.7512 917.772 L82.7512 911.893 Z\" fill=\"#000000\" fill-rule=\"evenodd\" fill-opacity=\"1\" /><path clip-path=\"url(#clip750)\" d=\"M107.821 886.291 Q104.209 886.291 102.381 889.856 Q100.575 893.398 100.575 900.527 Q100.575 907.634 102.381 911.198 Q104.209 914.74 107.821 914.74 Q111.455 914.74 113.26 911.198 Q115.089 907.634 115.089 900.527 Q115.089 893.398 113.26 889.856 Q111.455 886.291 107.821 886.291 M107.821 882.587 Q113.631 882.587 116.686 887.194 Q119.765 891.777 119.765 900.527 Q119.765 909.254 116.686 913.86 Q113.631 918.444 107.821 918.444 Q102.01 918.444 98.9317 913.86 Q95.8761 909.254 95.8761 900.527 Q95.8761 891.777 98.9317 887.194 Q102.01 882.587 107.821 882.587 Z\" fill=\"#000000\" fill-rule=\"evenodd\" fill-opacity=\"1\" /><path clip-path=\"url(#clip750)\" d=\"M137.982 886.291 Q134.371 886.291 132.543 889.856 Q130.737 893.398 130.737 900.527 Q130.737 907.634 132.543 911.198 Q134.371 914.74 137.982 914.74 Q141.617 914.74 143.422 911.198 Q145.251 907.634 145.251 900.527 Q145.251 893.398 143.422 889.856 Q141.617 886.291 137.982 886.291 M137.982 882.587 Q143.793 882.587 146.848 887.194 Q149.927 891.777 149.927 900.527 Q149.927 909.254 146.848 913.86 Q143.793 918.444 137.982 918.444 Q132.172 918.444 129.094 913.86 Q126.038 909.254 126.038 900.527 Q126.038 891.777 129.094 887.194 Q132.172 882.587 137.982 882.587 Z\" fill=\"#000000\" fill-rule=\"evenodd\" fill-opacity=\"1\" /><path clip-path=\"url(#clip750)\" d=\"M186.315 892.31 L175.737 902.935 L186.315 913.513 L183.561 916.314 L172.936 905.689 L162.311 916.314 L159.58 913.513 L170.135 902.935 L159.58 892.31 L162.311 889.509 L172.936 900.134 L183.561 889.509 L186.315 892.31 Z\" fill=\"#000000\" fill-rule=\"evenodd\" fill-opacity=\"1\" /><path clip-path=\"url(#clip750)\" d=\"M198.677 913.837 L206.315 913.837 L206.315 887.472 L198.005 889.138 L198.005 884.879 L206.269 883.212 L210.945 883.212 L210.945 913.837 L218.584 913.837 L218.584 917.772 L198.677 917.772 L198.677 913.837 Z\" fill=\"#000000\" fill-rule=\"evenodd\" fill-opacity=\"1\" /><path clip-path=\"url(#clip750)\" d=\"M238.028 886.291 Q234.417 886.291 232.588 889.856 Q230.783 893.398 230.783 900.527 Q230.783 907.634 232.588 911.198 Q234.417 914.74 238.028 914.74 Q241.662 914.74 243.468 911.198 Q245.297 907.634 245.297 900.527 Q245.297 893.398 243.468 889.856 Q241.662 886.291 238.028 886.291 M238.028 882.587 Q243.838 882.587 246.894 887.194 Q249.973 891.777 249.973 900.527 Q249.973 909.254 246.894 913.86 Q243.838 918.444 238.028 918.444 Q232.218 918.444 229.139 913.86 Q226.084 909.254 226.084 900.527 Q226.084 891.777 229.139 887.194 Q232.218 882.587 238.028 882.587 Z\" fill=\"#000000\" fill-rule=\"evenodd\" fill-opacity=\"1\" /><path clip-path=\"url(#clip750)\" d=\"M262.649 865.592 L253.057 880.582 L262.649 880.582 L262.649 865.592 M261.652 862.282 L266.429 862.282 L266.429 880.582 L270.435 880.582 L270.435 883.742 L266.429 883.742 L266.429 890.362 L262.649 890.362 L262.649 883.742 L249.973 883.742 L249.973 880.074 L261.652 862.282 Z\" fill=\"#000000\" fill-rule=\"evenodd\" fill-opacity=\"1\" /><path clip-path=\"url(#clip750)\" d=\"M53.3995 637.919 L61.0384 637.919 L61.0384 611.554 L52.7282 613.22 L52.7282 608.961 L60.9921 607.294 L65.668 607.294 L65.668 637.919 L73.3068 637.919 L73.3068 641.854 L53.3995 641.854 L53.3995 637.919 Z\" fill=\"#000000\" fill-rule=\"evenodd\" fill-opacity=\"1\" /><path clip-path=\"url(#clip750)\" d=\"M82.7512 635.975 L87.6354 635.975 L87.6354 641.854 L82.7512 641.854 L82.7512 635.975 Z\" fill=\"#000000\" fill-rule=\"evenodd\" fill-opacity=\"1\" /><path clip-path=\"url(#clip750)\" d=\"M97.8669 607.294 L116.223 607.294 L116.223 611.229 L102.149 611.229 L102.149 619.702 Q103.168 619.354 104.186 619.192 Q105.205 619.007 106.223 619.007 Q112.01 619.007 115.39 622.178 Q118.77 625.35 118.77 630.766 Q118.77 636.345 115.297 639.447 Q111.825 642.526 105.506 642.526 Q103.33 642.526 101.061 642.155 Q98.8159 641.785 96.4085 641.044 L96.4085 636.345 Q98.4919 637.479 100.714 638.035 Q102.936 638.59 105.413 638.59 Q109.418 638.59 111.756 636.484 Q114.094 634.377 114.094 630.766 Q114.094 627.155 111.756 625.049 Q109.418 622.942 105.413 622.942 Q103.538 622.942 101.663 623.359 Q99.8113 623.776 97.8669 624.655 L97.8669 607.294 Z\" fill=\"#000000\" fill-rule=\"evenodd\" fill-opacity=\"1\" /><path clip-path=\"url(#clip750)\" d=\"M137.982 610.373 Q134.371 610.373 132.543 613.938 Q130.737 617.479 130.737 624.609 Q130.737 631.715 132.543 635.28 Q134.371 638.822 137.982 638.822 Q141.617 638.822 143.422 635.28 Q145.251 631.715 145.251 624.609 Q145.251 617.479 143.422 613.938 Q141.617 610.373 137.982 610.373 M137.982 606.669 Q143.793 606.669 146.848 611.276 Q149.927 615.859 149.927 624.609 Q149.927 633.336 146.848 637.942 Q143.793 642.526 137.982 642.526 Q132.172 642.526 129.094 637.942 Q126.038 633.336 126.038 624.609 Q126.038 615.859 129.094 611.276 Q132.172 606.669 137.982 606.669 Z\" fill=\"#000000\" fill-rule=\"evenodd\" fill-opacity=\"1\" /><path clip-path=\"url(#clip750)\" d=\"M186.315 616.391 L175.737 627.016 L186.315 637.595 L183.561 640.396 L172.936 629.771 L162.311 640.396 L159.58 637.595 L170.135 627.016 L159.58 616.391 L162.311 613.591 L172.936 624.215 L183.561 613.591 L186.315 616.391 Z\" fill=\"#000000\" fill-rule=\"evenodd\" fill-opacity=\"1\" /><path clip-path=\"url(#clip750)\" d=\"M198.677 637.919 L206.315 637.919 L206.315 611.554 L198.005 613.22 L198.005 608.961 L206.269 607.294 L210.945 607.294 L210.945 637.919 L218.584 637.919 L218.584 641.854 L198.677 641.854 L198.677 637.919 Z\" fill=\"#000000\" fill-rule=\"evenodd\" fill-opacity=\"1\" /><path clip-path=\"url(#clip750)\" d=\"M238.028 610.373 Q234.417 610.373 232.588 613.938 Q230.783 617.479 230.783 624.609 Q230.783 631.715 232.588 635.28 Q234.417 638.822 238.028 638.822 Q241.662 638.822 243.468 635.28 Q245.297 631.715 245.297 624.609 Q245.297 617.479 243.468 613.938 Q241.662 610.373 238.028 610.373 M238.028 606.669 Q243.838 606.669 246.894 611.276 Q249.973 615.859 249.973 624.609 Q249.973 633.336 246.894 637.942 Q243.838 642.526 238.028 642.526 Q232.218 642.526 229.139 637.942 Q226.084 633.336 226.084 624.609 Q226.084 615.859 229.139 611.276 Q232.218 606.669 238.028 606.669 Z\" fill=\"#000000\" fill-rule=\"evenodd\" fill-opacity=\"1\" /><path clip-path=\"url(#clip750)\" d=\"M262.649 589.674 L253.057 604.664 L262.649 604.664 L262.649 589.674 M261.652 586.364 L266.429 586.364 L266.429 604.664 L270.435 604.664 L270.435 607.824 L266.429 607.824 L266.429 614.444 L262.649 614.444 L262.649 607.824 L249.973 607.824 L249.973 604.156 L261.652 586.364 Z\" fill=\"#000000\" fill-rule=\"evenodd\" fill-opacity=\"1\" /><path clip-path=\"url(#clip750)\" d=\"M56.6171 362.001 L72.9365 362.001 L72.9365 365.936 L50.9921 365.936 L50.9921 362.001 Q53.6541 359.246 58.2375 354.617 Q62.8439 349.964 64.0245 348.621 Q66.2698 346.098 67.1494 344.362 Q68.0522 342.603 68.0522 340.913 Q68.0522 338.158 66.1078 336.422 Q64.1865 334.686 61.0847 334.686 Q58.8856 334.686 56.4319 335.45 Q54.0014 336.214 51.2236 337.765 L51.2236 333.043 Q54.0477 331.909 56.5014 331.33 Q58.955 330.751 60.9921 330.751 Q66.3624 330.751 69.5568 333.436 Q72.7513 336.121 72.7513 340.612 Q72.7513 342.742 71.9411 344.663 Q71.1541 346.561 69.0476 349.154 Q68.4689 349.825 65.367 353.043 Q62.2652 356.237 56.6171 362.001 Z\" fill=\"#000000\" fill-rule=\"evenodd\" fill-opacity=\"1\" /><path clip-path=\"url(#clip750)\" d=\"M82.7512 360.057 L87.6354 360.057 L87.6354 365.936 L82.7512 365.936 L82.7512 360.057 Z\" fill=\"#000000\" fill-rule=\"evenodd\" fill-opacity=\"1\" /><path clip-path=\"url(#clip750)\" d=\"M107.821 334.455 Q104.209 334.455 102.381 338.02 Q100.575 341.561 100.575 348.691 Q100.575 355.797 102.381 359.362 Q104.209 362.904 107.821 362.904 Q111.455 362.904 113.26 359.362 Q115.089 355.797 115.089 348.691 Q115.089 341.561 113.26 338.02 Q111.455 334.455 107.821 334.455 M107.821 330.751 Q113.631 330.751 116.686 335.358 Q119.765 339.941 119.765 348.691 Q119.765 357.418 116.686 362.024 Q113.631 366.607 107.821 366.607 Q102.01 366.607 98.9317 362.024 Q95.8761 357.418 95.8761 348.691 Q95.8761 339.941 98.9317 335.358 Q102.01 330.751 107.821 330.751 Z\" fill=\"#000000\" fill-rule=\"evenodd\" fill-opacity=\"1\" /><path clip-path=\"url(#clip750)\" d=\"M137.982 334.455 Q134.371 334.455 132.543 338.02 Q130.737 341.561 130.737 348.691 Q130.737 355.797 132.543 359.362 Q134.371 362.904 137.982 362.904 Q141.617 362.904 143.422 359.362 Q145.251 355.797 145.251 348.691 Q145.251 341.561 143.422 338.02 Q141.617 334.455 137.982 334.455 M137.982 330.751 Q143.793 330.751 146.848 335.358 Q149.927 339.941 149.927 348.691 Q149.927 357.418 146.848 362.024 Q143.793 366.607 137.982 366.607 Q132.172 366.607 129.094 362.024 Q126.038 357.418 126.038 348.691 Q126.038 339.941 129.094 335.358 Q132.172 330.751 137.982 330.751 Z\" fill=\"#000000\" fill-rule=\"evenodd\" fill-opacity=\"1\" /><path clip-path=\"url(#clip750)\" d=\"M186.315 340.473 L175.737 351.098 L186.315 361.677 L183.561 364.478 L172.936 353.853 L162.311 364.478 L159.58 361.677 L170.135 351.098 L159.58 340.473 L162.311 337.672 L172.936 348.297 L183.561 337.672 L186.315 340.473 Z\" fill=\"#000000\" fill-rule=\"evenodd\" fill-opacity=\"1\" /><path clip-path=\"url(#clip750)\" d=\"M198.677 362.001 L206.315 362.001 L206.315 335.635 L198.005 337.302 L198.005 333.043 L206.269 331.376 L210.945 331.376 L210.945 362.001 L218.584 362.001 L218.584 365.936 L198.677 365.936 L198.677 362.001 Z\" fill=\"#000000\" fill-rule=\"evenodd\" fill-opacity=\"1\" /><path clip-path=\"url(#clip750)\" d=\"M238.028 334.455 Q234.417 334.455 232.588 338.02 Q230.783 341.561 230.783 348.691 Q230.783 355.797 232.588 359.362 Q234.417 362.904 238.028 362.904 Q241.662 362.904 243.468 359.362 Q245.297 355.797 245.297 348.691 Q245.297 341.561 243.468 338.02 Q241.662 334.455 238.028 334.455 M238.028 330.751 Q243.838 330.751 246.894 335.358 Q249.973 339.941 249.973 348.691 Q249.973 357.418 246.894 362.024 Q243.838 366.607 238.028 366.607 Q232.218 366.607 229.139 362.024 Q226.084 357.418 226.084 348.691 Q226.084 339.941 229.139 335.358 Q232.218 330.751 238.028 330.751 Z\" fill=\"#000000\" fill-rule=\"evenodd\" fill-opacity=\"1\" /><path clip-path=\"url(#clip750)\" d=\"M262.649 313.756 L253.057 328.746 L262.649 328.746 L262.649 313.756 M261.652 310.446 L266.429 310.446 L266.429 328.746 L270.435 328.746 L270.435 331.905 L266.429 331.905 L266.429 338.526 L262.649 338.526 L262.649 331.905 L249.973 331.905 L249.973 328.238 L261.652 310.446 Z\" fill=\"#000000\" fill-rule=\"evenodd\" fill-opacity=\"1\" /><path clip-path=\"url(#clip750)\" d=\"M56.6171 86.0828 L72.9365 86.0828 L72.9365 90.0179 L50.9921 90.0179 L50.9921 86.0828 Q53.6541 83.3281 58.2375 78.6985 Q62.8439 74.0458 64.0245 72.7032 Q66.2698 70.1801 67.1494 68.444 Q68.0522 66.6847 68.0522 64.9949 Q68.0522 62.2403 66.1078 60.5042 Q64.1865 58.7681 61.0847 58.7681 Q58.8856 58.7681 56.4319 59.532 Q54.0014 60.2959 51.2236 61.8468 L51.2236 57.1246 Q54.0477 55.9903 56.5014 55.4116 Q58.955 54.8329 60.9921 54.8329 Q66.3624 54.8329 69.5568 57.5181 Q72.7513 60.2033 72.7513 64.694 Q72.7513 66.8236 71.9411 68.7449 Q71.1541 70.643 69.0476 73.2356 Q68.4689 73.9069 65.367 77.1245 Q62.2652 80.3189 56.6171 86.0828 Z\" fill=\"#000000\" fill-rule=\"evenodd\" fill-opacity=\"1\" /><path clip-path=\"url(#clip750)\" d=\"M82.7512 84.1383 L87.6354 84.1383 L87.6354 90.0179 L82.7512 90.0179 L82.7512 84.1383 Z\" fill=\"#000000\" fill-rule=\"evenodd\" fill-opacity=\"1\" /><path clip-path=\"url(#clip750)\" d=\"M97.8669 55.4579 L116.223 55.4579 L116.223 59.3931 L102.149 59.3931 L102.149 67.8653 Q103.168 67.518 104.186 67.356 Q105.205 67.1708 106.223 67.1708 Q112.01 67.1708 115.39 70.3421 Q118.77 73.5134 118.77 78.93 Q118.77 84.5087 115.297 87.6105 Q111.825 90.6892 105.506 90.6892 Q103.33 90.6892 101.061 90.3188 Q98.8159 89.9485 96.4085 89.2077 L96.4085 84.5087 Q98.4919 85.6429 100.714 86.1985 Q102.936 86.754 105.413 86.754 Q109.418 86.754 111.756 84.6476 Q114.094 82.5411 114.094 78.93 Q114.094 75.3189 111.756 73.2125 Q109.418 71.106 105.413 71.106 Q103.538 71.106 101.663 71.5226 Q99.8113 71.9393 97.8669 72.8189 L97.8669 55.4579 Z\" fill=\"#000000\" fill-rule=\"evenodd\" fill-opacity=\"1\" /><path clip-path=\"url(#clip750)\" d=\"M137.982 58.5366 Q134.371 58.5366 132.543 62.1014 Q130.737 65.6431 130.737 72.7726 Q130.737 79.8791 132.543 83.4439 Q134.371 86.9855 137.982 86.9855 Q141.617 86.9855 143.422 83.4439 Q145.251 79.8791 145.251 72.7726 Q145.251 65.6431 143.422 62.1014 Q141.617 58.5366 137.982 58.5366 M137.982 54.8329 Q143.793 54.8329 146.848 59.4394 Q149.927 64.0227 149.927 72.7726 Q149.927 81.4994 146.848 86.1059 Q143.793 90.6892 137.982 90.6892 Q132.172 90.6892 129.094 86.1059 Q126.038 81.4994 126.038 72.7726 Q126.038 64.0227 129.094 59.4394 Q132.172 54.8329 137.982 54.8329 Z\" fill=\"#000000\" fill-rule=\"evenodd\" fill-opacity=\"1\" /><path clip-path=\"url(#clip750)\" d=\"M186.315 64.5551 L175.737 75.18 L186.315 85.7587 L183.561 88.5596 L172.936 77.9347 L162.311 88.5596 L159.58 85.7587 L170.135 75.18 L159.58 64.5551 L162.311 61.7542 L172.936 72.3791 L183.561 61.7542 L186.315 64.5551 Z\" fill=\"#000000\" fill-rule=\"evenodd\" fill-opacity=\"1\" /><path clip-path=\"url(#clip750)\" d=\"M198.677 86.0828 L206.315 86.0828 L206.315 59.7172 L198.005 61.3838 L198.005 57.1246 L206.269 55.4579 L210.945 55.4579 L210.945 86.0828 L218.584 86.0828 L218.584 90.0179 L198.677 90.0179 L198.677 86.0828 Z\" fill=\"#000000\" fill-rule=\"evenodd\" fill-opacity=\"1\" /><path clip-path=\"url(#clip750)\" d=\"M238.028 58.5366 Q234.417 58.5366 232.588 62.1014 Q230.783 65.6431 230.783 72.7726 Q230.783 79.8791 232.588 83.4439 Q234.417 86.9855 238.028 86.9855 Q241.662 86.9855 243.468 83.4439 Q245.297 79.8791 245.297 72.7726 Q245.297 65.6431 243.468 62.1014 Q241.662 58.5366 238.028 58.5366 M238.028 54.8329 Q243.838 54.8329 246.894 59.4394 Q249.973 64.0227 249.973 72.7726 Q249.973 81.4994 246.894 86.1059 Q243.838 90.6892 238.028 90.6892 Q232.218 90.6892 229.139 86.1059 Q226.084 81.4994 226.084 72.7726 Q226.084 64.0227 229.139 59.4394 Q232.218 54.8329 238.028 54.8329 Z\" fill=\"#000000\" fill-rule=\"evenodd\" fill-opacity=\"1\" /><path clip-path=\"url(#clip750)\" d=\"M262.649 37.8377 L253.057 52.8275 L262.649 52.8275 L262.649 37.8377 M261.652 34.5275 L266.429 34.5275 L266.429 52.8275 L270.435 52.8275 L270.435 55.9872 L266.429 55.9872 L266.429 62.6075 L262.649 62.6075 L262.649 55.9872 L249.973 55.9872 L249.973 52.3197 L261.652 34.5275 Z\" fill=\"#000000\" fill-rule=\"evenodd\" fill-opacity=\"1\" /><polyline clip-path=\"url(#clip752)\" style=\"stroke:#009af9; stroke-linecap:round; stroke-linejoin:round; stroke-width:4; stroke-opacity:1; fill:none\" points=\"\n",
       "  364.35,1445.72 366.665,1445.72 368.98,1445.72 371.294,1445.72 373.609,1445.72 375.924,1445.72 378.239,1445.72 380.553,1445.72 382.868,1445.72 385.183,1445.72 \n",
       "  387.498,1445.72 389.812,1445.72 392.127,1445.72 394.442,1445.72 396.756,1445.71 399.071,1445.71 401.386,1445.71 403.701,1445.71 406.015,1445.71 408.33,1445.71 \n",
       "  410.645,1445.71 412.96,1445.71 415.274,1445.71 417.589,1445.71 419.904,1445.71 422.219,1445.71 424.533,1445.71 426.848,1445.71 429.163,1445.71 431.478,1445.71 \n",
       "  433.792,1445.71 436.107,1445.71 438.422,1445.71 440.736,1445.71 443.051,1445.71 445.366,1445.71 447.681,1445.71 449.995,1445.71 452.31,1445.71 454.625,1445.71 \n",
       "  456.94,1445.71 459.254,1445.71 461.569,1445.71 463.884,1445.71 466.199,1445.71 468.513,1445.71 470.828,1445.71 473.143,1445.71 475.458,1445.71 477.772,1445.71 \n",
       "  480.087,1445.71 482.402,1445.71 484.716,1445.71 487.031,1445.71 489.346,1445.71 491.661,1445.71 493.975,1445.71 496.29,1445.71 498.605,1445.71 500.92,1445.71 \n",
       "  503.234,1445.71 505.549,1445.71 507.864,1445.71 510.179,1445.71 512.493,1445.71 514.808,1445.71 517.123,1445.71 519.438,1445.71 521.752,1445.71 524.067,1445.71 \n",
       "  526.382,1445.71 528.696,1445.71 531.011,1445.71 533.326,1445.71 535.641,1445.71 537.955,1445.71 540.27,1445.71 542.585,1445.71 544.9,1445.71 547.214,1445.71 \n",
       "  549.529,1445.71 551.844,1445.71 554.159,1445.71 556.473,1445.71 558.788,1445.71 561.103,1445.71 563.418,1445.71 565.732,1445.71 568.047,1445.71 570.362,1445.71 \n",
       "  572.676,1445.71 574.991,1445.71 577.306,1445.71 579.621,1445.71 581.935,1445.7 584.25,1445.7 586.565,1445.7 588.88,1445.7 591.194,1445.7 593.509,1445.7 \n",
       "  595.824,1445.7 598.139,1445.7 600.453,1445.7 602.768,1445.7 605.083,1445.7 607.398,1445.69 609.712,1445.69 612.027,1445.69 614.342,1445.69 616.657,1445.69 \n",
       "  618.971,1445.69 621.286,1445.69 623.601,1445.69 625.915,1445.68 628.23,1445.68 630.545,1445.68 632.86,1445.68 635.174,1445.68 637.489,1445.68 639.804,1445.67 \n",
       "  642.119,1445.67 644.433,1445.67 646.748,1445.67 649.063,1445.67 651.378,1445.66 653.692,1445.66 656.007,1445.66 658.322,1445.66 660.637,1445.65 662.951,1445.65 \n",
       "  665.266,1445.65 667.581,1445.65 669.895,1445.64 672.21,1445.64 674.525,1445.64 676.84,1445.64 679.154,1445.63 681.469,1445.63 683.784,1445.63 686.099,1445.62 \n",
       "  688.413,1445.62 690.728,1445.62 693.043,1445.61 695.358,1445.61 697.672,1445.61 699.987,1445.6 702.302,1445.6 704.617,1445.59 706.931,1445.59 709.246,1445.59 \n",
       "  711.561,1445.58 713.875,1445.58 716.19,1445.57 718.505,1445.57 720.82,1445.56 723.134,1445.56 725.449,1445.55 727.764,1445.54 730.079,1445.54 732.393,1445.53 \n",
       "  734.708,1445.52 737.023,1445.52 739.338,1445.51 741.652,1445.5 743.967,1445.5 746.282,1445.49 748.597,1445.48 750.911,1445.47 753.226,1445.46 755.541,1445.45 \n",
       "  757.855,1445.44 760.17,1445.43 762.485,1445.42 764.8,1445.41 767.114,1445.4 769.429,1445.39 771.744,1445.37 774.059,1445.36 776.373,1445.35 778.688,1445.33 \n",
       "  781.003,1445.32 783.318,1445.31 785.632,1445.29 787.947,1445.27 790.262,1445.26 792.577,1445.24 794.891,1445.22 797.206,1445.2 799.521,1445.18 801.836,1445.16 \n",
       "  804.15,1445.14 806.465,1445.12 808.78,1445.09 811.094,1445.07 813.409,1445.05 815.724,1445.02 818.039,1444.99 820.353,1444.97 822.668,1444.94 824.983,1444.91 \n",
       "  827.298,1444.88 829.612,1444.84 831.927,1444.81 834.242,1444.77 836.557,1444.74 838.871,1444.7 841.186,1444.66 843.501,1444.62 845.816,1444.58 848.13,1444.54 \n",
       "  850.445,1444.49 852.76,1444.44 855.074,1444.4 857.389,1444.34 859.704,1444.29 862.019,1444.24 864.333,1444.18 866.648,1444.12 868.963,1444.06 871.278,1444 \n",
       "  873.592,1443.94 875.907,1443.87 878.222,1443.8 880.537,1443.73 882.851,1443.65 885.166,1443.58 887.481,1443.5 889.796,1443.41 892.11,1443.33 894.425,1443.24 \n",
       "  896.74,1443.15 899.054,1443.05 901.369,1442.95 903.684,1442.85 905.999,1442.74 908.313,1442.64 910.628,1442.52 912.943,1442.4 915.258,1442.28 917.572,1442.16 \n",
       "  919.887,1442.03 922.202,1441.89 924.517,1441.75 926.831,1441.61 929.146,1441.46 931.461,1441.31 933.776,1441.15 936.09,1440.98 938.405,1440.81 940.72,1440.63 \n",
       "  943.034,1440.45 945.349,1440.26 947.664,1440.06 949.979,1439.86 952.293,1439.65 954.608,1439.43 956.923,1439.21 959.238,1438.98 961.552,1438.74 963.867,1438.49 \n",
       "  966.182,1438.23 968.497,1437.97 970.811,1437.69 973.126,1437.41 975.441,1437.11 977.756,1436.81 980.07,1436.49 982.385,1436.17 984.7,1435.83 987.015,1435.48 \n",
       "  989.329,1435.12 991.644,1434.75 993.959,1434.37 996.273,1433.97 998.588,1433.56 1000.9,1433.13 1003.22,1432.69 1005.53,1432.24 1007.85,1431.77 1010.16,1431.28 \n",
       "  1012.48,1430.78 1014.79,1430.26 1017.11,1429.72 1019.42,1429.17 1021.74,1428.59 1024.05,1428 1026.37,1427.38 1028.68,1426.75 1030.99,1426.1 1033.31,1425.42 \n",
       "  1035.62,1424.72 1037.94,1423.99 1040.25,1423.25 1042.57,1422.47 1044.88,1421.68 1047.2,1420.85 1049.51,1420 1051.83,1419.12 1054.14,1418.21 1056.46,1417.27 \n",
       "  1058.77,1416.3 1061.09,1415.29 1063.4,1414.26 1065.72,1413.19 1068.03,1412.08 1070.35,1410.94 1072.66,1409.76 1074.97,1408.54 1077.29,1407.29 1079.6,1405.99 \n",
       "  1081.92,1404.65 1084.23,1403.26 1086.55,1401.83 1088.86,1400.36 1091.18,1398.84 1093.49,1397.27 1095.81,1395.65 1098.12,1393.97 1100.44,1392.25 1102.75,1390.47 \n",
       "  1105.07,1388.63 1107.38,1386.73 1109.7,1384.78 1112.01,1382.76 1114.33,1380.68 1116.64,1378.54 1118.95,1376.33 1121.27,1374.05 1123.58,1371.7 1125.9,1369.27 \n",
       "  1128.21,1366.78 1130.53,1364.21 1132.84,1361.56 1135.16,1358.82 1137.47,1356.01 1139.79,1353.11 1142.1,1350.13 1144.42,1347.06 1146.73,1343.9 1149.05,1340.64 \n",
       "  1151.36,1337.29 1153.68,1333.84 1155.99,1330.29 1158.31,1326.64 1160.62,1322.89 1162.93,1319.03 1165.25,1315.06 1167.56,1310.98 1169.88,1306.78 1172.19,1302.48 \n",
       "  1174.51,1298.05 1176.82,1293.5 1179.14,1288.83 1181.45,1284.03 1183.77,1279.11 1186.08,1274.06 1188.4,1268.87 1190.71,1263.56 1193.03,1258.1 1195.34,1252.51 \n",
       "  1197.66,1246.78 1199.97,1240.91 1202.29,1234.89 1204.6,1228.73 1206.91,1222.42 1209.23,1215.96 1211.54,1209.35 1213.86,1202.59 1216.17,1195.68 1218.49,1188.61 \n",
       "  1220.8,1181.39 1223.12,1174.01 1225.43,1166.47 1227.75,1158.77 1230.06,1150.92 1232.38,1142.9 1234.69,1134.73 1237.01,1126.4 1239.32,1117.91 1241.64,1109.26 \n",
       "  1243.95,1100.45 1246.27,1091.47 1248.58,1082.33 1250.89,1073.01 1253.21,1063.5 1255.52,1053.81 1257.84,1043.93 1260.15,1033.85 1262.47,1023.57 1264.78,1013.09 \n",
       "  1267.1,1002.39 1269.41,991.486 1271.73,980.36 1274.04,969.008 1276.36,957.425 1278.67,945.605 1280.99,933.538 1283.3,921.218 1285.62,908.633 1287.93,895.773 \n",
       "  1290.25,882.622 1292.56,869.165 1294.87,855.38 1297.19,841.241 1299.5,826.714 1301.82,811.756 1304.13,796.304 1306.45,780.271 1308.76,763.521 1311.08,745.819 \n",
       "  1313.39,726.679 1315.71,704.543 1318.02,679.451 1320.34,659.947 1322.65,639.701 1324.97,619.582 1327.28,599.621 1329.6,579.848 1331.91,560.293 1334.23,543.176 \n",
       "  1336.54,526.27 1338.85,509.595 1341.17,493.167 1343.48,477.002 1345.8,462.702 1348.11,448.637 1350.43,434.816 1352.74,421.248 1355.06,407.941 1357.37,394.902 \n",
       "  1359.69,382.139 1362,369.655 1364.32,357.457 1366.63,345.548 1368.95,333.932 1371.26,323.75 1373.58,313.809 1375.89,304.109 1378.21,294.651 1380.52,285.435 \n",
       "  1382.83,276.462 1385.15,267.731 1387.46,259.24 1389.78,250.99 1392.09,242.978 1394.41,235.203 1396.72,227.663 1399.04,220.356 1401.35,213.279 1403.67,206.43 \n",
       "  1405.98,199.805 1408.3,193.403 1410.61,187.218 1412.93,181.249 1415.24,175.492 1417.56,169.942 1419.87,164.597 1422.19,159.453 1424.5,154.505 1426.81,149.749 \n",
       "  1429.13,145.182 1431.44,141.233 1433.76,137.429 1436.07,133.769 1438.39,130.249 1440.7,126.867 1443.02,123.619 1445.33,120.503 1447.65,117.515 1449.96,114.652 \n",
       "  1452.28,112.217 1454.59,109.877 1456.91,107.855 1459.22,105.905 1461.54,104.265 1463.85,102.677 1466.17,101.374 1468.48,100.241 1470.79,99.1379 1473.11,98.221 \n",
       "  1475.42,97.4173 1477.74,96.6299 1480.05,95.969 1482.37,95.3846 1484.68,94.8096 1487,94.3219 1489.31,93.841 1491.63,93.4372 1493.94,93.0383 1496.26,92.7031 \n",
       "  1498.57,92.3714 1500.89,92.0913 1503.2,91.8138 1505.52,91.5782 1507.83,91.3444 1510.15,91.1449 1512.46,90.9468 1514.77,90.7768 1517.09,90.6078 1519.4,90.4621 \n",
       "  1521.72,90.3171 1524.03,90.1917 1526.35,90.0668 1528.66,89.9582 1530.98,89.8501 1533.29,89.7559 1535.61,89.662 1537.92,89.5799 1540.24,89.498 1542.55,89.4263 \n",
       "  1544.87,89.3548 1547.18,89.292 1549.5,89.2294 1551.81,89.1743 1554.13,89.1194 1556.44,89.0712 1558.75,89.023 1561.07,88.9806 1563.38,88.9383 1565.7,88.9011 \n",
       "  1568.01,88.864 1570.33,88.8314 1572.64,88.7988 1574.96,88.7702 1577.27,88.7446 1579.59,88.719 1581.9,88.6961 1584.22,88.6733 1586.53,88.6531 1588.85,88.6328 \n",
       "  1591.16,88.6149 1593.48,88.597 1595.79,88.5811 1598.11,88.5652 1600.42,88.5511 1602.73,88.5369 1605.05,88.5243 1607.36,88.5117 1609.68,88.4991 1611.99,88.4879 \n",
       "  1614.31,88.4767 1616.62,88.4666 1618.94,88.4566 1621.25,88.4465 1623.57,88.4375 1625.88,88.4285 1628.2,88.4195 1630.51,88.4105 1632.83,88.4024 1635.14,88.3943 \n",
       "  1637.46,88.3863 1639.77,88.3783 1642.09,88.3711 1644.4,88.3639 1646.71,88.3567 1649.03,88.3495 1651.34,88.3423 1653.66,88.3359 1655.97,88.3295 1658.29,88.3231 \n",
       "  1660.6,88.3167 1662.92,88.3103 1665.23,88.3045 1667.55,88.2988 1669.86,88.293 1672.18,88.2873 1674.49,88.2816 1676.81,88.2758 1679.12,88.2707 1681.44,88.2656 \n",
       "  1683.75,88.2604 1686.07,88.2553 1688.38,88.2501 1690.69,88.245 1693.01,88.2399 1695.32,88.2348 1697.64,88.2302 1699.95,88.2256 1702.27,88.221 1704.58,88.2164 \n",
       "  1706.9,88.2119 1709.21,88.2073 1711.53,88.2027 1713.84,88.1982 1716.16,88.1941 1718.47,88.19 1720.79,88.1859 1723.1,88.1818 1725.42,88.1777 1727.73,88.1737 \n",
       "  1730.05,88.1696 1732.36,88.1655 1734.67,88.1615 1736.99,88.1574 1739.3,88.1533 1741.62,88.1497 1743.93,88.1461 1746.25,88.1425 1748.56,88.1389 1750.88,88.1353 \n",
       "  1753.19,88.1317 1755.51,88.1281 1757.82,88.1245 1760.14,88.1209 1762.45,88.1173 1764.77,88.1137 1767.08,88.1102 1769.4,88.1066 1771.71,88.1034 1774.03,88.1003 \n",
       "  1776.34,88.0971 1778.65,88.0939 1780.97,88.0908 1783.28,88.0876 1785.6,88.0845 1787.91,88.0814 1790.23,88.0782 1792.54,88.0751 1794.86,88.072 1797.17,88.0689 \n",
       "  1799.49,88.0659 1801.8,88.0628 1804.12,88.0597 1806.43,88.0567 1808.75,88.0537 1811.06,88.0507 1813.38,88.0477 1815.69,88.0447 1818.01,88.0417 1820.32,88.0388 \n",
       "  1822.63,88.0359 1824.95,88.033 1827.26,88.0301 1829.58,88.0273 1831.89,88.0245 1834.21,88.0217 1836.52,88.019 1838.84,88.0162 1841.15,88.0136 1843.47,88.0109 \n",
       "  1845.78,88.0083 1848.1,88.0057 1850.41,88.0028 1852.73,88 1855.04,87.9972 1857.36,87.995 1859.67,87.9929 1861.99,87.9911 1864.3,87.9893 1866.61,87.9877 \n",
       "  1868.93,87.9863 1871.24,87.9849 1873.56,87.9837 1875.87,87.9825 1878.19,87.9815 1880.5,87.9806 1882.82,87.9798 1885.13,87.979 1887.45,87.9783 1889.76,87.9777 \n",
       "  1892.08,87.9773 1894.39,87.9769 1896.71,87.9766 1899.02,87.9764 1901.34,87.9763 1903.65,87.9763 1905.97,87.9764 1908.28,87.9766 1910.59,87.9769 1912.91,87.9773 \n",
       "  1915.22,87.9779 1917.54,87.9785 1919.85,87.9794 1922.17,87.9804 1924.48,87.9815 1926.8,87.983 1929.11,87.9849 1931.43,87.9865 1933.74,87.9883 1936.06,87.9902 \n",
       "  1938.37,87.992 1940.69,87.994 1943,87.9961 1945.32,87.9981 1947.63,88.0002 1949.95,88.0023 1952.26,88.0046 1954.57,88.007 1956.89,88.0093 1959.2,88.0116 \n",
       "  1961.52,88.014 1963.83,88.0164 1966.15,88.019 1968.46,88.0216 1970.78,88.0243 1973.09,88.0271 1975.41,88.0299 1977.72,88.0328 1980.04,88.0358 1982.35,88.0388 \n",
       "  1984.67,88.0419 1986.98,88.0451 1989.3,88.0483 1991.61,88.0515 1993.93,88.0548 1996.24,88.0581 1998.55,88.0615 2000.87,88.0649 2003.18,88.0684 2005.5,88.0718 \n",
       "  2007.81,88.0753 2010.13,88.0789 2012.44,88.0824 2014.76,88.086 2017.07,88.0896 2019.39,88.0932 2021.7,88.0968 2024.02,88.1005 2026.33,88.1041 2028.65,88.1078 \n",
       "  2030.96,88.1115 2033.28,88.1153 2035.59,88.1192 2037.91,88.1231 2040.22,88.1271 2042.53,88.1313 2044.85,88.1356 2047.16,88.14 2049.48,88.1446 2051.79,88.1494 \n",
       "  2054.11,88.1543 2056.42,88.1596 2058.74,88.1651 2061.05,88.1708 2063.37,88.177 2065.68,88.1835 2068,88.1906 2070.31,88.1982 2072.63,88.2065 2074.94,88.2157 \n",
       "  2077.26,88.2259 2079.57,88.2376 2081.89,88.2512 2084.2,88.2675 2086.51,88.2879 2088.83,88.3152 2091.14,88.3555 2093.46,88.4262 2095.77,88.5795 2098.09,88.9074 \n",
       "  2100.4,89.518 2102.72,90.3042 2105.03,91.3824 2107.35,92.7169 2109.66,94.3498 2111.98,96.257 2114.29,98.437 2116.61,100.863 2118.92,103.513 2121.24,106.358 \n",
       "  2123.55,109.37 2125.87,112.522 2128.18,115.787 2130.49,119.143 2132.81,122.568 2135.12,126.043 2137.44,129.552 2139.75,133.081 2142.07,136.619 2144.38,140.154 \n",
       "  2146.7,143.678 2149.01,147.185 2151.33,150.667 2153.64,154.12 2155.96,157.541 2158.27,160.925 2160.59,164.27 2162.9,167.575 2165.22,170.837 2167.53,174.056 \n",
       "  2169.85,177.232 2172.16,180.363 2174.47,183.45 2176.79,186.493 2179.1,189.493 2181.42,192.45 2183.73,195.365 2186.05,198.238 2188.36,201.072 2190.68,203.867 \n",
       "  2192.99,206.623 2195.31,209.343 2197.62,212.027 2199.94,214.677 2202.25,217.293 2204.57,219.877 2206.88,222.43 2209.2,224.954 2211.51,227.448 2213.83,229.915 \n",
       "  2216.14,232.356 2218.45,234.772 2220.77,237.163 2223.08,239.53 2225.4,241.876 2227.71,244.199 2230.03,246.503 2232.34,248.786 2234.66,251.051 2236.97,253.298 \n",
       "  2239.29,255.528 2241.6,257.741 2243.92,259.939 2246.23,262.122 2248.55,264.29 2250.86,266.445 2253.18,268.587 2255.49,270.717 2257.81,272.834 2260.12,274.941 \n",
       "  2262.43,277.036 2264.75,279.122 2267.06,281.198 2269.38,283.265 2271.69,285.323 2274.01,287.373 2276.32,289.415 2278.64,291.449 2280.95,293.477 2283.27,295.498 \n",
       "  2285.58,297.513 2287.9,299.522 2290.21,301.525 2292.53,303.524 2294.84,304.273 \n",
       "  \"/>\n",
       "<path clip-path=\"url(#clip750)\" d=\"\n",
       "M2027.48 198.898 L2284.55 198.898 L2284.55 95.2176 L2027.48 95.2176  Z\n",
       "  \" fill=\"#ffffff\" fill-rule=\"evenodd\" fill-opacity=\"1\"/>\n",
       "<polyline clip-path=\"url(#clip750)\" style=\"stroke:#000000; stroke-linecap:round; stroke-linejoin:round; stroke-width:4; stroke-opacity:1; fill:none\" points=\"\n",
       "  2027.48,198.898 2284.55,198.898 2284.55,95.2176 2027.48,95.2176 2027.48,198.898 \n",
       "  \"/>\n",
       "<polyline clip-path=\"url(#clip750)\" style=\"stroke:#009af9; stroke-linecap:round; stroke-linejoin:round; stroke-width:4; stroke-opacity:1; fill:none\" points=\"\n",
       "  2050.22,147.058 2186.64,147.058 \n",
       "  \"/>\n",
       "<path clip-path=\"url(#clip750)\" d=\"M2223.22 166.745 Q2221.42 171.375 2219.7 172.787 Q2217.99 174.199 2215.12 174.199 L2211.72 174.199 L2211.72 170.634 L2214.22 170.634 Q2215.98 170.634 2216.95 169.8 Q2217.92 168.967 2219.1 165.865 L2219.86 163.921 L2209.38 138.412 L2213.89 138.412 L2221.99 158.689 L2230.1 138.412 L2234.61 138.412 L2223.22 166.745 Z\" fill=\"#000000\" fill-rule=\"evenodd\" fill-opacity=\"1\" /><path clip-path=\"url(#clip750)\" d=\"M2241.9 160.402 L2249.54 160.402 L2249.54 134.037 L2241.23 135.703 L2241.23 131.444 L2249.49 129.778 L2254.17 129.778 L2254.17 160.402 L2261.81 160.402 L2261.81 164.338 L2241.9 164.338 L2241.9 160.402 Z\" fill=\"#000000\" fill-rule=\"evenodd\" fill-opacity=\"1\" /></svg>\n"
      ]
     },
     "execution_count": 60,
     "metadata": {},
     "output_type": "execute_result"
    }
   ],
   "source": [
    "xs = aggregate_values(unimolecular, unimol_sol; prefix='x')\n",
    "plot(xs)"
   ]
  },
  {
   "cell_type": "code",
   "execution_count": 79,
   "id": "eafc0e59",
   "metadata": {},
   "outputs": [
    {
     "name": "stdout",
     "output_type": "stream",
     "text": [
      "1\n"
     ]
    },
    {
     "data": {
      "text/plain": [
       "2"
      ]
     },
     "execution_count": 79,
     "metadata": {},
     "output_type": "execute_result"
    }
   ],
   "source": [
    "infConc = 1e4\n",
    "infRate = 1e2\n",
    "N = 3\n",
    "bimol_u0 = [\n",
    "1.0, 0.0, 0.0, 0.0, 0.0, \n",
    "0.0, 0.0, infConc, 1.0, 1.0, \n",
    "infConc, 0.0, 0.0, 1.0, 0.0, \n",
    "0.0, 0.0, 0.0, 0.0, infConc, \n",
    "1.0, infConc, 0.0, 1.0, 0.0, \n",
    "0.0, 0.0, 0.0, 0.0, infConc, \n",
    "infConc, \n",
    "]\n",
    "bimol_sol = simulate(bimolecular, bimol_u0, rate=2/60.0, leak=1, shadow=1)\n",
    "z=2"
   ]
  },
  {
   "cell_type": "code",
   "execution_count": 81,
   "id": "e07b0827",
   "metadata": {},
   "outputs": [
    {
     "name": "stdout",
     "output_type": "stream",
     "text": [
      "Term{Real, Base.ImmutableDict{DataType, Any}}[x0(t), Ly0(t), Iy0(t), sx0(t), sLy0(t), sIy0(t), waste(t), Gy0(t), y0(t), y1(t), sGy0(t), sy0(t), sy1(t), x1(t), Ly1(t), Iy1(t), sx1(t), sLy1(t), sIy1(t), Gy1(t), y2(t), sGy1(t), sy2(t), x2(t), Ly2(t), Iy2(t), sx2(t), sLy2(t), sIy2(t), Gy2(t), sGy2(t)]Term{Real, Base.ImmutableDict{DataType, Any}}[x0(t), Ly0(t), Iy0(t), sx0(t), sLy0(t), sIy0(t), waste(t), Gy0(t), y0(t), y1(t), sGy0(t), sy0(t), sy1(t), x1(t), Ly1(t), Iy1(t), sx1(t), sLy1(t), sIy1(t), Gy1(t), y2(t), sGy1(t), sy2(t), x2(t), Ly2(t), Iy2(t), sx2(t), sLy2(t), sIy2(t), Gy2(t), sGy2(t)]"
     ]
    },
    {
     "data": {
      "image/svg+xml": [
       "<?xml version=\"1.0\" encoding=\"utf-8\"?>\n",
       "<svg xmlns=\"http://www.w3.org/2000/svg\" xmlns:xlink=\"http://www.w3.org/1999/xlink\" width=\"600\" height=\"400\" viewBox=\"0 0 2400 1600\">\n",
       "<defs>\n",
       "  <clipPath id=\"clip110\">\n",
       "    <rect x=\"0\" y=\"0\" width=\"2400\" height=\"1600\"/>\n",
       "  </clipPath>\n",
       "</defs>\n",
       "<path clip-path=\"url(#clip110)\" d=\"\n",
       "M0 1600 L2400 1600 L2400 0 L0 0  Z\n",
       "  \" fill=\"#ffffff\" fill-rule=\"evenodd\" fill-opacity=\"1\"/>\n",
       "<defs>\n",
       "  <clipPath id=\"clip111\">\n",
       "    <rect x=\"480\" y=\"0\" width=\"1681\" height=\"1600\"/>\n",
       "  </clipPath>\n",
       "</defs>\n",
       "<path clip-path=\"url(#clip110)\" d=\"\n",
       "M156.274 1486.45 L2352.76 1486.45 L2352.76 47.2441 L156.274 47.2441  Z\n",
       "  \" fill=\"#ffffff\" fill-rule=\"evenodd\" fill-opacity=\"1\"/>\n",
       "<defs>\n",
       "  <clipPath id=\"clip112\">\n",
       "    <rect x=\"156\" y=\"47\" width=\"2197\" height=\"1440\"/>\n",
       "  </clipPath>\n",
       "</defs>\n",
       "<polyline clip-path=\"url(#clip112)\" style=\"stroke:#000000; stroke-linecap:round; stroke-linejoin:round; stroke-width:2; stroke-opacity:0.1; fill:none\" points=\"\n",
       "  218.439,1486.45 218.439,47.2441 \n",
       "  \"/>\n",
       "<polyline clip-path=\"url(#clip112)\" style=\"stroke:#000000; stroke-linecap:round; stroke-linejoin:round; stroke-width:2; stroke-opacity:0.1; fill:none\" points=\"\n",
       "  736.477,1486.45 736.477,47.2441 \n",
       "  \"/>\n",
       "<polyline clip-path=\"url(#clip112)\" style=\"stroke:#000000; stroke-linecap:round; stroke-linejoin:round; stroke-width:2; stroke-opacity:0.1; fill:none\" points=\"\n",
       "  1254.52,1486.45 1254.52,47.2441 \n",
       "  \"/>\n",
       "<polyline clip-path=\"url(#clip112)\" style=\"stroke:#000000; stroke-linecap:round; stroke-linejoin:round; stroke-width:2; stroke-opacity:0.1; fill:none\" points=\"\n",
       "  1772.55,1486.45 1772.55,47.2441 \n",
       "  \"/>\n",
       "<polyline clip-path=\"url(#clip112)\" style=\"stroke:#000000; stroke-linecap:round; stroke-linejoin:round; stroke-width:2; stroke-opacity:0.1; fill:none\" points=\"\n",
       "  2290.59,1486.45 2290.59,47.2441 \n",
       "  \"/>\n",
       "<polyline clip-path=\"url(#clip110)\" style=\"stroke:#000000; stroke-linecap:round; stroke-linejoin:round; stroke-width:4; stroke-opacity:1; fill:none\" points=\"\n",
       "  156.274,1486.45 2352.76,1486.45 \n",
       "  \"/>\n",
       "<polyline clip-path=\"url(#clip110)\" style=\"stroke:#000000; stroke-linecap:round; stroke-linejoin:round; stroke-width:4; stroke-opacity:1; fill:none\" points=\"\n",
       "  218.439,1486.45 218.439,1467.55 \n",
       "  \"/>\n",
       "<polyline clip-path=\"url(#clip110)\" style=\"stroke:#000000; stroke-linecap:round; stroke-linejoin:round; stroke-width:4; stroke-opacity:1; fill:none\" points=\"\n",
       "  736.477,1486.45 736.477,1467.55 \n",
       "  \"/>\n",
       "<polyline clip-path=\"url(#clip110)\" style=\"stroke:#000000; stroke-linecap:round; stroke-linejoin:round; stroke-width:4; stroke-opacity:1; fill:none\" points=\"\n",
       "  1254.52,1486.45 1254.52,1467.55 \n",
       "  \"/>\n",
       "<polyline clip-path=\"url(#clip110)\" style=\"stroke:#000000; stroke-linecap:round; stroke-linejoin:round; stroke-width:4; stroke-opacity:1; fill:none\" points=\"\n",
       "  1772.55,1486.45 1772.55,1467.55 \n",
       "  \"/>\n",
       "<polyline clip-path=\"url(#clip110)\" style=\"stroke:#000000; stroke-linecap:round; stroke-linejoin:round; stroke-width:4; stroke-opacity:1; fill:none\" points=\"\n",
       "  2290.59,1486.45 2290.59,1467.55 \n",
       "  \"/>\n",
       "<path clip-path=\"url(#clip110)\" d=\"M218.439 1517.37 Q214.828 1517.37 212.999 1520.93 Q211.193 1524.47 211.193 1531.6 Q211.193 1538.71 212.999 1542.27 Q214.828 1545.82 218.439 1545.82 Q222.073 1545.82 223.879 1542.27 Q225.707 1538.71 225.707 1531.6 Q225.707 1524.47 223.879 1520.93 Q222.073 1517.37 218.439 1517.37 M218.439 1513.66 Q224.249 1513.66 227.304 1518.27 Q230.383 1522.85 230.383 1531.6 Q230.383 1540.33 227.304 1544.94 Q224.249 1549.52 218.439 1549.52 Q212.629 1549.52 209.55 1544.94 Q206.494 1540.33 206.494 1531.6 Q206.494 1522.85 209.55 1518.27 Q212.629 1513.66 218.439 1513.66 Z\" fill=\"#000000\" fill-rule=\"evenodd\" fill-opacity=\"1\" /><path clip-path=\"url(#clip110)\" d=\"M700.169 1544.91 L716.489 1544.91 L716.489 1548.85 L694.544 1548.85 L694.544 1544.91 Q697.206 1542.16 701.79 1537.53 Q706.396 1532.88 707.577 1531.53 Q709.822 1529.01 710.702 1527.27 Q711.604 1525.51 711.604 1523.82 Q711.604 1521.07 709.66 1519.33 Q707.739 1517.6 704.637 1517.6 Q702.438 1517.6 699.984 1518.36 Q697.553 1519.13 694.776 1520.68 L694.776 1515.95 Q697.6 1514.82 700.053 1514.24 Q702.507 1513.66 704.544 1513.66 Q709.915 1513.66 713.109 1516.35 Q716.303 1519.03 716.303 1523.52 Q716.303 1525.65 715.493 1527.57 Q714.706 1529.47 712.6 1532.07 Q712.021 1532.74 708.919 1535.95 Q705.817 1539.15 700.169 1544.91 Z\" fill=\"#000000\" fill-rule=\"evenodd\" fill-opacity=\"1\" /><path clip-path=\"url(#clip110)\" d=\"M726.35 1514.29 L744.706 1514.29 L744.706 1518.22 L730.632 1518.22 L730.632 1526.7 Q731.651 1526.35 732.669 1526.19 Q733.688 1526 734.706 1526 Q740.493 1526 743.873 1529.17 Q747.252 1532.34 747.252 1537.76 Q747.252 1543.34 743.78 1546.44 Q740.308 1549.52 733.988 1549.52 Q731.813 1549.52 729.544 1549.15 Q727.299 1548.78 724.891 1548.04 L724.891 1543.34 Q726.975 1544.47 729.197 1545.03 Q731.419 1545.58 733.896 1545.58 Q737.9 1545.58 740.238 1543.48 Q742.576 1541.37 742.576 1537.76 Q742.576 1534.15 740.238 1532.04 Q737.9 1529.94 733.896 1529.94 Q732.021 1529.94 730.146 1530.35 Q728.294 1530.77 726.35 1531.65 L726.35 1514.29 Z\" fill=\"#000000\" fill-rule=\"evenodd\" fill-opacity=\"1\" /><path clip-path=\"url(#clip110)\" d=\"M766.465 1517.37 Q762.854 1517.37 761.025 1520.93 Q759.22 1524.47 759.22 1531.6 Q759.22 1538.71 761.025 1542.27 Q762.854 1545.82 766.465 1545.82 Q770.099 1545.82 771.905 1542.27 Q773.734 1538.71 773.734 1531.6 Q773.734 1524.47 771.905 1520.93 Q770.099 1517.37 766.465 1517.37 M766.465 1513.66 Q772.275 1513.66 775.331 1518.27 Q778.41 1522.85 778.41 1531.6 Q778.41 1540.33 775.331 1544.94 Q772.275 1549.52 766.465 1549.52 Q760.655 1549.52 757.576 1544.94 Q754.521 1540.33 754.521 1531.6 Q754.521 1522.85 757.576 1518.27 Q760.655 1513.66 766.465 1513.66 Z\" fill=\"#000000\" fill-rule=\"evenodd\" fill-opacity=\"1\" /><path clip-path=\"url(#clip110)\" d=\"M1214.13 1514.29 L1232.49 1514.29 L1232.49 1518.22 L1218.42 1518.22 L1218.42 1526.7 Q1219.43 1526.35 1220.45 1526.19 Q1221.47 1526 1222.49 1526 Q1228.28 1526 1231.66 1529.17 Q1235.04 1532.34 1235.04 1537.76 Q1235.04 1543.34 1231.56 1546.44 Q1228.09 1549.52 1221.77 1549.52 Q1219.6 1549.52 1217.33 1549.15 Q1215.08 1548.78 1212.67 1548.04 L1212.67 1543.34 Q1214.76 1544.47 1216.98 1545.03 Q1219.2 1545.58 1221.68 1545.58 Q1225.68 1545.58 1228.02 1543.48 Q1230.36 1541.37 1230.36 1537.76 Q1230.36 1534.15 1228.02 1532.04 Q1225.68 1529.94 1221.68 1529.94 Q1219.8 1529.94 1217.93 1530.35 Q1216.08 1530.77 1214.13 1531.65 L1214.13 1514.29 Z\" fill=\"#000000\" fill-rule=\"evenodd\" fill-opacity=\"1\" /><path clip-path=\"url(#clip110)\" d=\"M1254.25 1517.37 Q1250.64 1517.37 1248.81 1520.93 Q1247 1524.47 1247 1531.6 Q1247 1538.71 1248.81 1542.27 Q1250.64 1545.82 1254.25 1545.82 Q1257.88 1545.82 1259.69 1542.27 Q1261.52 1538.71 1261.52 1531.6 Q1261.52 1524.47 1259.69 1520.93 Q1257.88 1517.37 1254.25 1517.37 M1254.25 1513.66 Q1260.06 1513.66 1263.11 1518.27 Q1266.19 1522.85 1266.19 1531.6 Q1266.19 1540.33 1263.11 1544.94 Q1260.06 1549.52 1254.25 1549.52 Q1248.44 1549.52 1245.36 1544.94 Q1242.3 1540.33 1242.3 1531.6 Q1242.3 1522.85 1245.36 1518.27 Q1248.44 1513.66 1254.25 1513.66 Z\" fill=\"#000000\" fill-rule=\"evenodd\" fill-opacity=\"1\" /><path clip-path=\"url(#clip110)\" d=\"M1284.41 1517.37 Q1280.8 1517.37 1278.97 1520.93 Q1277.17 1524.47 1277.17 1531.6 Q1277.17 1538.71 1278.97 1542.27 Q1280.8 1545.82 1284.41 1545.82 Q1288.04 1545.82 1289.85 1542.27 Q1291.68 1538.71 1291.68 1531.6 Q1291.68 1524.47 1289.85 1520.93 Q1288.04 1517.37 1284.41 1517.37 M1284.41 1513.66 Q1290.22 1513.66 1293.28 1518.27 Q1296.36 1522.85 1296.36 1531.6 Q1296.36 1540.33 1293.28 1544.94 Q1290.22 1549.52 1284.41 1549.52 Q1278.6 1549.52 1275.52 1544.94 Q1272.47 1540.33 1272.47 1531.6 Q1272.47 1522.85 1275.52 1518.27 Q1278.6 1513.66 1284.41 1513.66 Z\" fill=\"#000000\" fill-rule=\"evenodd\" fill-opacity=\"1\" /><path clip-path=\"url(#clip110)\" d=\"M1730.83 1514.29 L1753.05 1514.29 L1753.05 1516.28 L1740.5 1548.85 L1735.62 1548.85 L1747.43 1518.22 L1730.83 1518.22 L1730.83 1514.29 Z\" fill=\"#000000\" fill-rule=\"evenodd\" fill-opacity=\"1\" /><path clip-path=\"url(#clip110)\" d=\"M1762.22 1514.29 L1780.57 1514.29 L1780.57 1518.22 L1766.5 1518.22 L1766.5 1526.7 Q1767.52 1526.35 1768.54 1526.19 Q1769.56 1526 1770.57 1526 Q1776.36 1526 1779.74 1529.17 Q1783.12 1532.34 1783.12 1537.76 Q1783.12 1543.34 1779.65 1546.44 Q1776.18 1549.52 1769.86 1549.52 Q1767.68 1549.52 1765.41 1549.15 Q1763.17 1548.78 1760.76 1548.04 L1760.76 1543.34 Q1762.84 1544.47 1765.06 1545.03 Q1767.29 1545.58 1769.76 1545.58 Q1773.77 1545.58 1776.11 1543.48 Q1778.44 1541.37 1778.44 1537.76 Q1778.44 1534.15 1776.11 1532.04 Q1773.77 1529.94 1769.76 1529.94 Q1767.89 1529.94 1766.01 1530.35 Q1764.16 1530.77 1762.22 1531.65 L1762.22 1514.29 Z\" fill=\"#000000\" fill-rule=\"evenodd\" fill-opacity=\"1\" /><path clip-path=\"url(#clip110)\" d=\"M1802.33 1517.37 Q1798.72 1517.37 1796.89 1520.93 Q1795.09 1524.47 1795.09 1531.6 Q1795.09 1538.71 1796.89 1542.27 Q1798.72 1545.82 1802.33 1545.82 Q1805.97 1545.82 1807.77 1542.27 Q1809.6 1538.71 1809.6 1531.6 Q1809.6 1524.47 1807.77 1520.93 Q1805.97 1517.37 1802.33 1517.37 M1802.33 1513.66 Q1808.14 1513.66 1811.2 1518.27 Q1814.28 1522.85 1814.28 1531.6 Q1814.28 1540.33 1811.2 1544.94 Q1808.14 1549.52 1802.33 1549.52 Q1796.52 1549.52 1793.44 1544.94 Q1790.39 1540.33 1790.39 1531.6 Q1790.39 1522.85 1793.44 1518.27 Q1796.52 1513.66 1802.33 1513.66 Z\" fill=\"#000000\" fill-rule=\"evenodd\" fill-opacity=\"1\" /><path clip-path=\"url(#clip110)\" d=\"M2235.12 1544.91 L2242.76 1544.91 L2242.76 1518.55 L2234.45 1520.21 L2234.45 1515.95 L2242.71 1514.29 L2247.39 1514.29 L2247.39 1544.91 L2255.02 1544.91 L2255.02 1548.85 L2235.12 1548.85 L2235.12 1544.91 Z\" fill=\"#000000\" fill-rule=\"evenodd\" fill-opacity=\"1\" /><path clip-path=\"url(#clip110)\" d=\"M2274.47 1517.37 Q2270.86 1517.37 2269.03 1520.93 Q2267.22 1524.47 2267.22 1531.6 Q2267.22 1538.71 2269.03 1542.27 Q2270.86 1545.82 2274.47 1545.82 Q2278.1 1545.82 2279.91 1542.27 Q2281.74 1538.71 2281.74 1531.6 Q2281.74 1524.47 2279.91 1520.93 Q2278.1 1517.37 2274.47 1517.37 M2274.47 1513.66 Q2280.28 1513.66 2283.33 1518.27 Q2286.41 1522.85 2286.41 1531.6 Q2286.41 1540.33 2283.33 1544.94 Q2280.28 1549.52 2274.47 1549.52 Q2268.66 1549.52 2265.58 1544.94 Q2262.52 1540.33 2262.52 1531.6 Q2262.52 1522.85 2265.58 1518.27 Q2268.66 1513.66 2274.47 1513.66 Z\" fill=\"#000000\" fill-rule=\"evenodd\" fill-opacity=\"1\" /><path clip-path=\"url(#clip110)\" d=\"M2304.63 1517.37 Q2301.02 1517.37 2299.19 1520.93 Q2297.39 1524.47 2297.39 1531.6 Q2297.39 1538.71 2299.19 1542.27 Q2301.02 1545.82 2304.63 1545.82 Q2308.26 1545.82 2310.07 1542.27 Q2311.9 1538.71 2311.9 1531.6 Q2311.9 1524.47 2310.07 1520.93 Q2308.26 1517.37 2304.63 1517.37 M2304.63 1513.66 Q2310.44 1513.66 2313.5 1518.27 Q2316.57 1522.85 2316.57 1531.6 Q2316.57 1540.33 2313.5 1544.94 Q2310.44 1549.52 2304.63 1549.52 Q2298.82 1549.52 2295.74 1544.94 Q2292.69 1540.33 2292.69 1531.6 Q2292.69 1522.85 2295.74 1518.27 Q2298.82 1513.66 2304.63 1513.66 Z\" fill=\"#000000\" fill-rule=\"evenodd\" fill-opacity=\"1\" /><path clip-path=\"url(#clip110)\" d=\"M2334.79 1517.37 Q2331.18 1517.37 2329.35 1520.93 Q2327.55 1524.47 2327.55 1531.6 Q2327.55 1538.71 2329.35 1542.27 Q2331.18 1545.82 2334.79 1545.82 Q2338.43 1545.82 2340.23 1542.27 Q2342.06 1538.71 2342.06 1531.6 Q2342.06 1524.47 2340.23 1520.93 Q2338.43 1517.37 2334.79 1517.37 M2334.79 1513.66 Q2340.6 1513.66 2343.66 1518.27 Q2346.74 1522.85 2346.74 1531.6 Q2346.74 1540.33 2343.66 1544.94 Q2340.6 1549.52 2334.79 1549.52 Q2328.98 1549.52 2325.9 1544.94 Q2322.85 1540.33 2322.85 1531.6 Q2322.85 1522.85 2325.9 1518.27 Q2328.98 1513.66 2334.79 1513.66 Z\" fill=\"#000000\" fill-rule=\"evenodd\" fill-opacity=\"1\" /><polyline clip-path=\"url(#clip112)\" style=\"stroke:#000000; stroke-linecap:round; stroke-linejoin:round; stroke-width:2; stroke-opacity:0.1; fill:none\" points=\"\n",
       "  156.274,1445.72 2352.76,1445.72 \n",
       "  \"/>\n",
       "<polyline clip-path=\"url(#clip112)\" style=\"stroke:#000000; stroke-linecap:round; stroke-linejoin:round; stroke-width:2; stroke-opacity:0.1; fill:none\" points=\"\n",
       "  156.274,1180.18 2352.76,1180.18 \n",
       "  \"/>\n",
       "<polyline clip-path=\"url(#clip112)\" style=\"stroke:#000000; stroke-linecap:round; stroke-linejoin:round; stroke-width:2; stroke-opacity:0.1; fill:none\" points=\"\n",
       "  156.274,914.641 2352.76,914.641 \n",
       "  \"/>\n",
       "<polyline clip-path=\"url(#clip112)\" style=\"stroke:#000000; stroke-linecap:round; stroke-linejoin:round; stroke-width:2; stroke-opacity:0.1; fill:none\" points=\"\n",
       "  156.274,649.104 2352.76,649.104 \n",
       "  \"/>\n",
       "<polyline clip-path=\"url(#clip112)\" style=\"stroke:#000000; stroke-linecap:round; stroke-linejoin:round; stroke-width:2; stroke-opacity:0.1; fill:none\" points=\"\n",
       "  156.274,383.566 2352.76,383.566 \n",
       "  \"/>\n",
       "<polyline clip-path=\"url(#clip112)\" style=\"stroke:#000000; stroke-linecap:round; stroke-linejoin:round; stroke-width:2; stroke-opacity:0.1; fill:none\" points=\"\n",
       "  156.274,118.029 2352.76,118.029 \n",
       "  \"/>\n",
       "<polyline clip-path=\"url(#clip110)\" style=\"stroke:#000000; stroke-linecap:round; stroke-linejoin:round; stroke-width:4; stroke-opacity:1; fill:none\" points=\"\n",
       "  156.274,1486.45 156.274,47.2441 \n",
       "  \"/>\n",
       "<polyline clip-path=\"url(#clip110)\" style=\"stroke:#000000; stroke-linecap:round; stroke-linejoin:round; stroke-width:4; stroke-opacity:1; fill:none\" points=\"\n",
       "  156.274,1445.72 175.172,1445.72 \n",
       "  \"/>\n",
       "<polyline clip-path=\"url(#clip110)\" style=\"stroke:#000000; stroke-linecap:round; stroke-linejoin:round; stroke-width:4; stroke-opacity:1; fill:none\" points=\"\n",
       "  156.274,1180.18 175.172,1180.18 \n",
       "  \"/>\n",
       "<polyline clip-path=\"url(#clip110)\" style=\"stroke:#000000; stroke-linecap:round; stroke-linejoin:round; stroke-width:4; stroke-opacity:1; fill:none\" points=\"\n",
       "  156.274,914.641 175.172,914.641 \n",
       "  \"/>\n",
       "<polyline clip-path=\"url(#clip110)\" style=\"stroke:#000000; stroke-linecap:round; stroke-linejoin:round; stroke-width:4; stroke-opacity:1; fill:none\" points=\"\n",
       "  156.274,649.104 175.172,649.104 \n",
       "  \"/>\n",
       "<polyline clip-path=\"url(#clip110)\" style=\"stroke:#000000; stroke-linecap:round; stroke-linejoin:round; stroke-width:4; stroke-opacity:1; fill:none\" points=\"\n",
       "  156.274,383.566 175.172,383.566 \n",
       "  \"/>\n",
       "<polyline clip-path=\"url(#clip110)\" style=\"stroke:#000000; stroke-linecap:round; stroke-linejoin:round; stroke-width:4; stroke-opacity:1; fill:none\" points=\"\n",
       "  156.274,118.029 175.172,118.029 \n",
       "  \"/>\n",
       "<path clip-path=\"url(#clip110)\" d=\"M64.0939 1431.51 Q60.4828 1431.51 58.6541 1435.08 Q56.8486 1438.62 56.8486 1445.75 Q56.8486 1452.86 58.6541 1456.42 Q60.4828 1459.96 64.0939 1459.96 Q67.7281 1459.96 69.5337 1456.42 Q71.3624 1452.86 71.3624 1445.75 Q71.3624 1438.62 69.5337 1435.08 Q67.7281 1431.51 64.0939 1431.51 M64.0939 1427.81 Q69.9041 1427.81 72.9596 1432.42 Q76.0383 1437 76.0383 1445.75 Q76.0383 1454.48 72.9596 1459.08 Q69.9041 1463.67 64.0939 1463.67 Q58.2838 1463.67 55.2051 1459.08 Q52.1495 1454.48 52.1495 1445.75 Q52.1495 1437 55.2051 1432.42 Q58.2838 1427.81 64.0939 1427.81 Z\" fill=\"#000000\" fill-rule=\"evenodd\" fill-opacity=\"1\" /><path clip-path=\"url(#clip110)\" d=\"M84.2558 1457.12 L89.1401 1457.12 L89.1401 1463 L84.2558 1463 L84.2558 1457.12 Z\" fill=\"#000000\" fill-rule=\"evenodd\" fill-opacity=\"1\" /><path clip-path=\"url(#clip110)\" d=\"M99.3715 1428.44 L117.728 1428.44 L117.728 1432.37 L103.654 1432.37 L103.654 1440.84 Q104.672 1440.5 105.691 1440.33 Q106.709 1440.15 107.728 1440.15 Q113.515 1440.15 116.895 1443.32 Q120.274 1446.49 120.274 1451.91 Q120.274 1457.49 116.802 1460.59 Q113.33 1463.67 107.01 1463.67 Q104.834 1463.67 102.566 1463.3 Q100.321 1462.93 97.9132 1462.19 L97.9132 1457.49 Q99.9965 1458.62 102.219 1459.18 Q104.441 1459.73 106.918 1459.73 Q110.922 1459.73 113.26 1457.63 Q115.598 1455.52 115.598 1451.91 Q115.598 1448.3 113.26 1446.19 Q110.922 1444.08 106.918 1444.08 Q105.043 1444.08 103.168 1444.5 Q101.316 1444.92 99.3715 1445.8 L99.3715 1428.44 Z\" fill=\"#000000\" fill-rule=\"evenodd\" fill-opacity=\"1\" /><path clip-path=\"url(#clip110)\" d=\"M62.9365 1165.98 Q59.3254 1165.98 57.4967 1169.54 Q55.6912 1173.08 55.6912 1180.21 Q55.6912 1187.32 57.4967 1190.88 Q59.3254 1194.43 62.9365 1194.43 Q66.5707 1194.43 68.3763 1190.88 Q70.205 1187.32 70.205 1180.21 Q70.205 1173.08 68.3763 1169.54 Q66.5707 1165.98 62.9365 1165.98 M62.9365 1162.27 Q68.7467 1162.27 71.8022 1166.88 Q74.8809 1171.46 74.8809 1180.21 Q74.8809 1188.94 71.8022 1193.55 Q68.7467 1198.13 62.9365 1198.13 Q57.1264 1198.13 54.0477 1193.55 Q50.9921 1188.94 50.9921 1180.21 Q50.9921 1171.46 54.0477 1166.88 Q57.1264 1162.27 62.9365 1162.27 Z\" fill=\"#000000\" fill-rule=\"evenodd\" fill-opacity=\"1\" /><path clip-path=\"url(#clip110)\" d=\"M83.0984 1191.58 L87.9827 1191.58 L87.9827 1197.46 L83.0984 1197.46 L83.0984 1191.58 Z\" fill=\"#000000\" fill-rule=\"evenodd\" fill-opacity=\"1\" /><path clip-path=\"url(#clip110)\" d=\"M108.746 1178.31 Q105.598 1178.31 103.746 1180.47 Q101.918 1182.62 101.918 1186.37 Q101.918 1190.1 103.746 1192.27 Q105.598 1194.43 108.746 1194.43 Q111.895 1194.43 113.723 1192.27 Q115.575 1190.1 115.575 1186.37 Q115.575 1182.62 113.723 1180.47 Q111.895 1178.31 108.746 1178.31 M118.029 1163.66 L118.029 1167.92 Q116.27 1167.09 114.464 1166.65 Q112.682 1166.21 110.922 1166.21 Q106.293 1166.21 103.839 1169.33 Q101.409 1172.46 101.061 1178.78 Q102.427 1176.76 104.487 1175.7 Q106.547 1174.61 109.024 1174.61 Q114.233 1174.61 117.242 1177.78 Q120.274 1180.93 120.274 1186.37 Q120.274 1191.69 117.126 1194.91 Q113.978 1198.13 108.746 1198.13 Q102.751 1198.13 99.5798 1193.55 Q96.4085 1188.94 96.4085 1180.21 Q96.4085 1172.02 100.297 1167.16 Q104.186 1162.27 110.737 1162.27 Q112.496 1162.27 114.279 1162.62 Q116.084 1162.97 118.029 1163.66 Z\" fill=\"#000000\" fill-rule=\"evenodd\" fill-opacity=\"1\" /><path clip-path=\"url(#clip110)\" d=\"M64.0013 900.44 Q60.3902 900.44 58.5615 904.005 Q56.756 907.546 56.756 914.676 Q56.756 921.782 58.5615 925.347 Q60.3902 928.889 64.0013 928.889 Q67.6356 928.889 69.4411 925.347 Q71.2698 921.782 71.2698 914.676 Q71.2698 907.546 69.4411 904.005 Q67.6356 900.44 64.0013 900.44 M64.0013 896.736 Q69.8115 896.736 72.867 901.343 Q75.9457 905.926 75.9457 914.676 Q75.9457 923.403 72.867 928.009 Q69.8115 932.592 64.0013 932.592 Q58.1912 932.592 55.1125 928.009 Q52.0569 923.403 52.0569 914.676 Q52.0569 905.926 55.1125 901.343 Q58.1912 896.736 64.0013 896.736 Z\" fill=\"#000000\" fill-rule=\"evenodd\" fill-opacity=\"1\" /><path clip-path=\"url(#clip110)\" d=\"M84.1632 926.041 L89.0475 926.041 L89.0475 931.921 L84.1632 931.921 L84.1632 926.041 Z\" fill=\"#000000\" fill-rule=\"evenodd\" fill-opacity=\"1\" /><path clip-path=\"url(#clip110)\" d=\"M98.0521 897.361 L120.274 897.361 L120.274 899.352 L107.728 931.921 L102.844 931.921 L114.649 901.296 L98.0521 901.296 L98.0521 897.361 Z\" fill=\"#000000\" fill-rule=\"evenodd\" fill-opacity=\"1\" /><path clip-path=\"url(#clip110)\" d=\"M63.1911 634.902 Q59.58 634.902 57.7513 638.467 Q55.9458 642.009 55.9458 649.138 Q55.9458 656.245 57.7513 659.81 Q59.58 663.351 63.1911 663.351 Q66.8254 663.351 68.6309 659.81 Q70.4596 656.245 70.4596 649.138 Q70.4596 642.009 68.6309 638.467 Q66.8254 634.902 63.1911 634.902 M63.1911 631.199 Q69.0013 631.199 72.0568 635.805 Q75.1355 640.389 75.1355 649.138 Q75.1355 657.865 72.0568 662.472 Q69.0013 667.055 63.1911 667.055 Q57.381 667.055 54.3023 662.472 Q51.2468 657.865 51.2468 649.138 Q51.2468 640.389 54.3023 635.805 Q57.381 631.199 63.1911 631.199 Z\" fill=\"#000000\" fill-rule=\"evenodd\" fill-opacity=\"1\" /><path clip-path=\"url(#clip110)\" d=\"M83.3531 660.504 L88.2373 660.504 L88.2373 666.384 L83.3531 666.384 L83.3531 660.504 Z\" fill=\"#000000\" fill-rule=\"evenodd\" fill-opacity=\"1\" /><path clip-path=\"url(#clip110)\" d=\"M108.422 649.972 Q105.089 649.972 103.168 651.754 Q101.27 653.537 101.27 656.662 Q101.27 659.787 103.168 661.569 Q105.089 663.351 108.422 663.351 Q111.756 663.351 113.677 661.569 Q115.598 659.763 115.598 656.662 Q115.598 653.537 113.677 651.754 Q111.779 649.972 108.422 649.972 M103.746 647.981 Q100.737 647.24 99.0474 645.18 Q97.3808 643.12 97.3808 640.157 Q97.3808 636.014 100.321 633.606 Q103.284 631.199 108.422 631.199 Q113.584 631.199 116.524 633.606 Q119.464 636.014 119.464 640.157 Q119.464 643.12 117.774 645.18 Q116.108 647.24 113.121 647.981 Q116.501 648.768 118.376 651.06 Q120.274 653.351 120.274 656.662 Q120.274 661.685 117.195 664.37 Q114.14 667.055 108.422 667.055 Q102.705 667.055 99.6261 664.37 Q96.5706 661.685 96.5706 656.662 Q96.5706 653.351 98.4687 651.06 Q100.367 648.768 103.746 647.981 M102.034 640.597 Q102.034 643.282 103.7 644.787 Q105.39 646.291 108.422 646.291 Q111.432 646.291 113.121 644.787 Q114.834 643.282 114.834 640.597 Q114.834 637.912 113.121 636.407 Q111.432 634.902 108.422 634.902 Q105.39 634.902 103.7 636.407 Q102.034 637.912 102.034 640.597 Z\" fill=\"#000000\" fill-rule=\"evenodd\" fill-opacity=\"1\" /><path clip-path=\"url(#clip110)\" d=\"M63.2837 369.365 Q59.6726 369.365 57.8439 372.93 Q56.0384 376.472 56.0384 383.601 Q56.0384 390.708 57.8439 394.272 Q59.6726 397.814 63.2837 397.814 Q66.918 397.814 68.7235 394.272 Q70.5522 390.708 70.5522 383.601 Q70.5522 376.472 68.7235 372.93 Q66.918 369.365 63.2837 369.365 M63.2837 365.661 Q69.0939 365.661 72.1494 370.268 Q75.2281 374.851 75.2281 383.601 Q75.2281 392.328 72.1494 396.934 Q69.0939 401.518 63.2837 401.518 Q57.4736 401.518 54.3949 396.934 Q51.3393 392.328 51.3393 383.601 Q51.3393 374.851 54.3949 370.268 Q57.4736 365.661 63.2837 365.661 Z\" fill=\"#000000\" fill-rule=\"evenodd\" fill-opacity=\"1\" /><path clip-path=\"url(#clip110)\" d=\"M83.4457 394.967 L88.3299 394.967 L88.3299 400.846 L83.4457 400.846 L83.4457 394.967 Z\" fill=\"#000000\" fill-rule=\"evenodd\" fill-opacity=\"1\" /><path clip-path=\"url(#clip110)\" d=\"M98.6539 400.129 L98.6539 395.87 Q100.413 396.703 102.219 397.143 Q104.024 397.583 105.76 397.583 Q110.39 397.583 112.82 394.481 Q115.274 391.356 115.621 385.013 Q114.279 387.004 112.219 388.069 Q110.158 389.134 107.658 389.134 Q102.473 389.134 99.4409 386.009 Q96.4317 382.86 96.4317 377.421 Q96.4317 372.097 99.5798 368.879 Q102.728 365.661 107.959 365.661 Q113.955 365.661 117.103 370.268 Q120.274 374.851 120.274 383.601 Q120.274 391.772 116.385 396.657 Q112.52 401.518 105.969 401.518 Q104.209 401.518 102.404 401.171 Q100.598 400.823 98.6539 400.129 M107.959 385.476 Q111.108 385.476 112.936 383.323 Q114.788 381.171 114.788 377.421 Q114.788 373.694 112.936 371.541 Q111.108 369.365 107.959 369.365 Q104.811 369.365 102.959 371.541 Q101.131 373.694 101.131 377.421 Q101.131 381.171 102.959 383.323 Q104.811 385.476 107.959 385.476 Z\" fill=\"#000000\" fill-rule=\"evenodd\" fill-opacity=\"1\" /><path clip-path=\"url(#clip110)\" d=\"M53.9088 131.374 L61.5476 131.374 L61.5476 105.008 L53.2375 106.675 L53.2375 102.416 L61.5013 100.749 L66.1772 100.749 L66.1772 131.374 L73.8161 131.374 L73.8161 135.309 L53.9088 135.309 L53.9088 131.374 Z\" fill=\"#000000\" fill-rule=\"evenodd\" fill-opacity=\"1\" /><path clip-path=\"url(#clip110)\" d=\"M83.2605 129.43 L88.1447 129.43 L88.1447 135.309 L83.2605 135.309 L83.2605 129.43 Z\" fill=\"#000000\" fill-rule=\"evenodd\" fill-opacity=\"1\" /><path clip-path=\"url(#clip110)\" d=\"M108.33 103.828 Q104.719 103.828 102.89 107.393 Q101.084 110.934 101.084 118.064 Q101.084 125.17 102.89 128.735 Q104.719 132.277 108.33 132.277 Q111.964 132.277 113.77 128.735 Q115.598 125.17 115.598 118.064 Q115.598 110.934 113.77 107.393 Q111.964 103.828 108.33 103.828 M108.33 100.124 Q114.14 100.124 117.195 104.731 Q120.274 109.314 120.274 118.064 Q120.274 126.791 117.195 131.397 Q114.14 135.98 108.33 135.98 Q102.52 135.98 99.4409 131.397 Q96.3854 126.791 96.3854 118.064 Q96.3854 109.314 99.4409 104.731 Q102.52 100.124 108.33 100.124 Z\" fill=\"#000000\" fill-rule=\"evenodd\" fill-opacity=\"1\" /><polyline clip-path=\"url(#clip112)\" style=\"stroke:#009af9; stroke-linecap:round; stroke-linejoin:round; stroke-width:4; stroke-opacity:1; fill:none\" points=\"\n",
       "  218.439,1445.72 218.439,1444.97 218.44,1444.7 218.44,1444.21 218.44,1443.81 218.441,1443.34 218.441,1442.88 218.441,1442.4 218.442,1441.92 218.442,1441.43 \n",
       "  218.443,1440.93 218.443,1440.43 218.444,1439.92 218.444,1439.41 218.445,1438.9 218.445,1438.39 218.446,1437.87 218.446,1437.35 218.447,1436.82 218.447,1436.3 \n",
       "  218.448,1435.76 218.448,1435.23 218.449,1434.69 218.449,1434.15 218.45,1433.61 218.45,1433.06 218.451,1432.51 218.452,1431.95 218.452,1431.39 218.453,1430.82 \n",
       "  218.453,1430.25 218.454,1429.68 218.455,1429.1 218.455,1428.52 218.456,1427.93 218.457,1427.33 218.457,1426.73 218.458,1426.12 218.459,1425.51 218.459,1424.89 \n",
       "  218.46,1424.27 218.461,1423.64 218.461,1423 218.462,1422.36 218.463,1421.71 218.464,1421.05 218.465,1420.38 218.465,1419.71 218.466,1419.03 218.467,1418.35 \n",
       "  218.468,1417.65 218.469,1416.95 218.47,1416.24 218.471,1415.51 218.471,1414.79 218.472,1414.05 218.473,1413.3 218.474,1412.54 218.475,1411.78 218.476,1411 \n",
       "  218.477,1410.21 218.479,1409.41 218.48,1408.61 218.481,1407.78 218.482,1406.95 218.483,1406.11 218.484,1405.25 218.486,1404.38 218.487,1403.49 218.488,1402.6 \n",
       "  218.49,1401.68 218.491,1400.75 218.493,1399.81 218.494,1398.84 218.496,1397.86 218.497,1396.87 218.499,1395.85 218.501,1394.81 218.503,1393.75 218.505,1392.67 \n",
       "  218.507,1391.56 218.509,1390.43 218.511,1389.27 218.514,1388.08 218.516,1386.85 218.519,1385.6 218.521,1384.31 218.524,1382.98 218.528,1381.61 218.531,1380.19 \n",
       "  218.535,1378.73 218.538,1377.21 218.543,1375.64 218.547,1374.02 218.552,1372.35 218.558,1370.67 218.563,1368.98 218.569,1367.32 218.576,1365.7 218.582,1364.13 \n",
       "  218.589,1362.61 218.596,1361.16 218.603,1359.77 218.611,1358.45 218.619,1357.2 218.627,1356.02 218.635,1354.91 218.643,1353.86 218.652,1352.87 218.661,1351.94 \n",
       "  218.67,1351.08 218.68,1350.27 218.69,1349.51 218.7,1348.8 218.711,1348.14 218.722,1347.53 218.733,1346.96 218.745,1346.43 218.757,1345.93 218.769,1345.46 \n",
       "  218.782,1345.03 218.796,1344.62 218.81,1344.24 218.825,1343.88 218.841,1343.54 218.857,1343.21 218.874,1342.9 218.892,1342.59 218.911,1342.29 218.931,1342 \n",
       "  218.952,1341.7 218.975,1341.41 218.999,1341.1 219.025,1340.79 219.053,1340.47 219.083,1340.12 219.115,1339.76 219.151,1339.36 219.19,1338.93 219.234,1338.46 \n",
       "  219.283,1337.93 219.339,1337.32 219.404,1336.62 219.481,1335.8 219.574,1334.79 219.694,1333.51 219.866,1331.65 220.075,1329.41 220.298,1327.01 220.551,1324.29 \n",
       "  220.83,1321.3 221.133,1318.04 221.46,1314.52 221.809,1310.78 222.179,1306.81 222.568,1302.64 222.974,1298.27 223.397,1293.74 223.835,1289.04 224.288,1284.19 \n",
       "  224.753,1279.21 225.23,1274.1 225.719,1268.87 226.217,1263.54 226.726,1258.1 227.243,1252.58 227.77,1246.96 228.304,1241.27 228.846,1235.49 229.395,1229.65 \n",
       "  229.951,1223.74 230.514,1217.76 231.083,1211.72 231.658,1205.62 232.24,1199.46 232.828,1193.24 233.421,1186.98 234.021,1180.66 234.626,1174.28 235.237,1167.86 \n",
       "  235.854,1161.38 236.476,1154.86 237.104,1148.29 237.738,1141.67 238.378,1135 239.024,1128.28 239.676,1121.51 240.334,1114.69 240.997,1107.83 241.668,1100.92 \n",
       "  242.344,1093.95 243.027,1086.94 243.717,1079.87 244.413,1072.76 245.116,1065.6 245.827,1058.38 246.544,1051.11 247.269,1043.79 248.001,1036.41 248.741,1028.98 \n",
       "  249.489,1021.49 250.246,1013.95 251.01,1006.35 251.783,998.697 252.565,990.982 253.356,983.208 254.156,975.373 254.966,967.476 255.786,959.517 256.616,951.494 \n",
       "  257.456,943.406 258.307,935.253 259.17,927.032 260.043,918.742 260.929,910.383 261.827,901.952 262.738,893.449 263.661,884.872 264.599,876.22 265.55,867.49 \n",
       "  266.516,858.682 267.497,849.794 268.493,840.823 269.506,831.769 270.535,822.629 271.582,813.402 272.647,804.086 273.731,794.678 274.835,785.176 275.959,775.579 \n",
       "  277.104,765.883 278.272,756.088 279.463,746.189 280.679,736.186 281.92,726.074 283.187,715.852 284.483,705.516 285.807,695.064 287.163,684.493 288.551,673.799 \n",
       "  289.973,662.98 291.431,652.032 292.926,640.952 294.462,629.736 296.039,618.382 297.662,606.887 299.331,595.247 301.05,583.46 302.822,571.523 304.649,559.437 \n",
       "  306.536,547.2 308.484,534.815 310.497,522.286 312.578,509.621 314.729,496.832 316.951,483.936 319.247,470.955 321.615,457.919 324.055,444.862 326.564,431.823 \n",
       "  329.139,418.842 331.778,405.96 334.477,393.214 337.232,380.64 340.04,368.269 342.898,356.128 345.805,344.238 348.757,332.619 351.754,321.284 354.794,310.246 \n",
       "  357.876,299.513 361,289.09 364.166,278.981 367.373,269.19 370.623,259.716 373.915,250.558 377.25,241.716 380.629,233.187 384.054,224.967 387.524,217.053 \n",
       "  391.042,209.441 394.609,202.126 398.227,195.103 401.896,188.367 405.619,181.914 409.397,175.737 413.232,169.83 417.127,164.189 421.083,158.807 425.102,153.678 \n",
       "  429.187,148.797 433.34,144.157 437.564,139.753 441.86,135.578 446.232,131.626 450.682,127.891 455.213,124.368 459.829,121.049 464.532,117.93 469.326,115.003 \n",
       "  474.215,112.264 479.202,109.705 484.29,107.321 489.485,105.107 494.79,103.056 500.211,101.162 505.751,99.4203 511.417,97.8248 517.213,96.37 523.146,95.0506 \n",
       "  529.222,93.8611 535.448,92.7965 541.831,91.8517 548.378,91.0217 555.098,90.3018 562,89.6873 569.093,89.1737 576.388,88.7568 583.897,88.4324 591.63,88.1966 \n",
       "  599.602,88.0457 607.828,87.9763 616.322,87.985 625.103,88.0688 634.189,88.225 643.602,88.451 653.364,88.7448 663.502,89.1045 674.045,89.5285 685.024,90.0158 \n",
       "  696.475,90.5656 708.44,91.1777 720.964,91.8523 734.099,92.5904 747.906,93.3934 762.452,94.2636 777.818,95.2042 794.097,96.2193 811.397,97.3145 829.849,98.4965 \n",
       "  849.607,99.7743 870.859,101.159 893.833,102.665 918.814,104.309 946.161,106.115 976.331,108.113 1009.93,110.343 1047.75,112.856 1090.91,115.729 1140.98,119.066 \n",
       "  1200.32,123.026 1272.6,127.856 1363.98,133.973 1485.7,142.138 1659.3,153.817 1884.24,169.009 2139.47,186.325 2290.59,196.616 \n",
       "  \"/>\n",
       "<path clip-path=\"url(#clip110)\" d=\"\n",
       "M2007.46 198.898 L2279.54 198.898 L2279.54 95.2176 L2007.46 95.2176  Z\n",
       "  \" fill=\"#ffffff\" fill-rule=\"evenodd\" fill-opacity=\"1\"/>\n",
       "<polyline clip-path=\"url(#clip110)\" style=\"stroke:#000000; stroke-linecap:round; stroke-linejoin:round; stroke-width:4; stroke-opacity:1; fill:none\" points=\"\n",
       "  2007.46,198.898 2279.54,198.898 2279.54,95.2176 2007.46,95.2176 2007.46,198.898 \n",
       "  \"/>\n",
       "<polyline clip-path=\"url(#clip110)\" style=\"stroke:#009af9; stroke-linecap:round; stroke-linejoin:round; stroke-width:4; stroke-opacity:1; fill:none\" points=\"\n",
       "  2031.87,147.058 2178.3,147.058 \n",
       "  \"/>\n",
       "<path clip-path=\"url(#clip110)\" d=\"M2216.55 166.745 Q2214.74 171.375 2213.03 172.787 Q2211.32 174.199 2208.44 174.199 L2205.04 174.199 L2205.04 170.634 L2207.54 170.634 Q2209.3 170.634 2210.27 169.8 Q2211.25 168.967 2212.43 165.865 L2213.19 163.921 L2202.7 138.412 L2207.22 138.412 L2215.32 158.689 L2223.42 138.412 L2227.94 138.412 L2216.55 166.745 Z\" fill=\"#000000\" fill-rule=\"evenodd\" fill-opacity=\"1\" /><path clip-path=\"url(#clip110)\" d=\"M2235.23 160.402 L2242.87 160.402 L2242.87 134.037 L2234.56 135.703 L2234.56 131.444 L2242.82 129.778 L2247.5 129.778 L2247.5 160.402 L2255.13 160.402 L2255.13 164.338 L2235.23 164.338 L2235.23 160.402 Z\" fill=\"#000000\" fill-rule=\"evenodd\" fill-opacity=\"1\" /></svg>\n"
      ]
     },
     "execution_count": 81,
     "metadata": {},
     "output_type": "execute_result"
    }
   ],
   "source": [
    "ys = aggregate_values(bimolecular, bimol_sol, prefix=\"y\")\n",
    "Lys = aggregate_values(bimolecular, bimol_sol, prefix=\"Ly\")\n",
    "\n",
    "y = (ys + Lys)/(2*N)\n",
    "plot(bimol_sol.t, y)"
   ]
  },
  {
   "cell_type": "code",
   "execution_count": null,
   "id": "441851a8",
   "metadata": {},
   "outputs": [],
   "source": []
  }
 ],
 "metadata": {
  "kernelspec": {
   "display_name": "Julia 1.8.2",
   "language": "julia",
   "name": "julia-1.8"
  },
  "language_info": {
   "file_extension": ".jl",
   "mimetype": "application/julia",
   "name": "julia",
   "version": "1.8.2"
  }
 },
 "nbformat": 4,
 "nbformat_minor": 5
}
