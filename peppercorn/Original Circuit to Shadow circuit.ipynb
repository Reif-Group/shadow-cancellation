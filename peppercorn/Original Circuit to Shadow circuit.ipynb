{
 "cells": [
  {
   "cell_type": "code",
   "execution_count": 31,
   "id": "0fdcdec2",
   "metadata": {},
   "outputs": [],
   "source": [
    "import re\n",
    "import random\n",
    "import numpy as np\n",
    "import pandas as pd"
   ]
  },
  {
   "cell_type": "code",
   "execution_count": 32,
   "id": "4a865859",
   "metadata": {},
   "outputs": [],
   "source": [
    "pat = '[a-zA-Z0-9\\(+\\*]+|\\)'\n",
    "RIGHTB = ')'\n",
    "LEFTB = '('\n",
    "STAR = '*'\n",
    "EMPTY = ''\n",
    "SPACE = ' '"
   ]
  },
  {
   "cell_type": "code",
   "execution_count": 33,
   "id": "4ca20acf",
   "metadata": {},
   "outputs": [],
   "source": [
    "notation = \"sC mC fC( hC( + sB mB fB( hB( + sB* ))))\""
   ]
  },
  {
   "cell_type": "code",
   "execution_count": 34,
   "id": "5d209e27",
   "metadata": {},
   "outputs": [
    {
     "data": {
      "text/plain": [
       "('sC*(', 'sC)')"
      ]
     },
     "execution_count": 34,
     "metadata": {},
     "output_type": "execute_result"
    }
   ],
   "source": [
    "def complement(s):\n",
    "    if STAR in s: # If the domain contains an asterisk, remove it.\n",
    "        s = s.replace(STAR, EMPTY)\n",
    "    else: # If not, add an asterisk to the end.\n",
    "        s = s + STAR\n",
    "    return s\n",
    "    \n",
    "def brace_seen_transform(left_brace_str, right_brace_str):\n",
    "    right_brace_str = left_brace_str.replace(LEFTB, EMPTY) # Remove the left brace from the string with left brace.\n",
    "    right_brace_str = complement(right_brace_str)\n",
    "    right_brace_str += RIGHTB # Finally add a left brace.\n",
    "    return (left_brace_str, right_brace_str)\n",
    "\n",
    "def shadow(s):\n",
    "    sequence = Sequence(s)\n",
    "    domains = []\n",
    "    for d in sequence.domains:\n",
    "        if LEFTB in d.seq:\n",
    "            d.seq = d.seq.replace(LEFTB, RIGHTB)\n",
    "            domains.append(d)\n",
    "            continue\n",
    "        elif RIGHTB in d.seq:\n",
    "            d.seq = d.seq.replace(RIGHTB, LEFTB)\n",
    "            domains.append(d) \n",
    "            continue\n",
    "        else:\n",
    "            domains.append(d)\n",
    "    domains.reverse()\n",
    "    domain_strs = [d.seq if RIGHTB not in d.seq else RIGHTB for d in domains]\n",
    "    return SPACE.join(domain_strs)\n",
    "\n",
    "brace_seen_transform('sC*(', ')')"
   ]
  },
  {
   "cell_type": "code",
   "execution_count": 35,
   "id": "534ad1c4",
   "metadata": {},
   "outputs": [],
   "source": [
    "class Domain:\n",
    "    def __init__(self, s):\n",
    "        self.seq = s\n",
    "    \n",
    "    def _reverse(self):\n",
    "        return Domain(self.seq + 'R')\n",
    "    \n",
    "    def _reverse_compl(self):\n",
    "        return Domain(self.seq + 'R' + '*')\n",
    "\n",
    "class Sequence:\n",
    "    \n",
    "    def __init__(self, s: str):\n",
    "        list_of_strs = re.findall(pat, s)\n",
    "        self.domains = [\n",
    "            Domain(s) for s in list_of_strs\n",
    "        ]\n",
    "        brackets_stack = []\n",
    "        for i in range(len(self.domains)):\n",
    "            if LEFTB in self.domains[i].seq: # The domain contains a left bracket.\n",
    "                brackets_stack.append((self.domains[i].seq, i)) # Add the domain to the stack.\n",
    "                \n",
    "            if RIGHTB in self.domains[i].seq: # If the domain contains a right bracket.\n",
    "                left_brace_str, leftindex = brackets_stack.pop()\n",
    "                right_brace_str = self.domains[i].seq\n",
    "                \n",
    "                left_brace_str, right_brace_str = brace_seen_transform(left_brace_str, right_brace_str)\n",
    "                \n",
    "                self.domains[leftindex] = Domain(left_brace_str)\n",
    "                self.domains[i] = Domain(right_brace_str)\n",
    "    \n",
    "    \n",
    "        \n",
    "    \n",
    "    def __str__(self):\n",
    "        domains = [d.seq if RIGHTB not in d.seq else RIGHTB for d in self.domains]\n",
    "        return SPACE.join(domains)\n",
    "\n"
   ]
  },
  {
   "cell_type": "code",
   "execution_count": 42,
   "id": "b8181105",
   "metadata": {},
   "outputs": [
    {
     "name": "stdout",
     "output_type": "stream",
     "text": [
      "fAR*( hApR*( fAR*( hAqR*( sCR* + ) ) mAR sAR + ) ) mAR sAR\n"
     ]
    }
   ],
   "source": [
    "notation = \"sA mA fA( hAp( + sA mA fA( hAq( + sC* ) ) ) )\"\n",
    "shadow_seq = shadow(notation)\n",
    "\n",
    "subs = list(set(re.findall('[a-zA-Z]+', shadow_seq)))\n",
    "for sub in subs:\n",
    "    shadow_seq = shadow_seq.replace(sub, sub+'R')\n",
    "\n",
    "\n",
    "print(shadow_seq)"
   ]
  },
  {
   "cell_type": "code",
   "execution_count": null,
   "id": "cba1d426",
   "metadata": {},
   "outputs": [],
   "source": []
  },
  {
   "cell_type": "code",
   "execution_count": null,
   "id": "20b4f207",
   "metadata": {},
   "outputs": [],
   "source": []
  }
 ],
 "metadata": {
  "kernelspec": {
   "display_name": "Python 3 (ipykernel)",
   "language": "python",
   "name": "python3"
  },
  "language_info": {
   "codemirror_mode": {
    "name": "ipython",
    "version": 3
   },
   "file_extension": ".py",
   "mimetype": "text/x-python",
   "name": "python",
   "nbconvert_exporter": "python",
   "pygments_lexer": "ipython3",
   "version": "3.8.16"
  }
 },
 "nbformat": 4,
 "nbformat_minor": 5
}
