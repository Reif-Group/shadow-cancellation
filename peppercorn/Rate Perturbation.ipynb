{
 "cells": [
  {
   "cell_type": "code",
   "execution_count": 435,
   "id": "5ab5ba74",
   "metadata": {},
   "outputs": [],
   "source": [
    "import os\n",
    "import sys\n",
    "import random\n",
    "import pandas\n",
    "import numpy\n",
    "import re"
   ]
  },
  {
   "cell_type": "code",
   "execution_count": 535,
   "id": "2fd4fbbf",
   "metadata": {},
   "outputs": [],
   "source": [
    "HOME_DIR='./'\n",
    "PERT_FRAC = 9 # [0.0, 0.5, 1, 4, 9]\n",
    "OUT_FOLDER = str(PERT_FRAC).replace('.', '_')\n",
    "ROOT_FOLDER = 'rps' # Don't change this\n",
    "\n",
    "ACONC = '1.1'\n",
    "BCONC = '1.0'\n",
    "CCONC = '0.3'"
   ]
  },
  {
   "cell_type": "code",
   "execution_count": 536,
   "id": "31685e9f",
   "metadata": {},
   "outputs": [],
   "source": [
    "def original_leak_sections():\n",
    "    sections = [\n",
    "        [],\n",
    "        [],\n",
    "        [],\n",
    "        [],\n",
    "        [\n",
    "        'reaction [condensed    = 6e-8 /nM/s ] ProduceBCjCk + HelperCCk -> Ck + Cj',\n",
    "        'reaction [condensed    = 6e-8 /nM/s ] ProduceABrBs + HelperBBs -> Bs + Br',\n",
    "        'reaction [condensed    = 6e-8 /nM/s ] ProduceCApAq + HelperAAq -> Aq + Ap',\n",
    "        ]\n",
    "    ]\n",
    "    return sections\n",
    "\n",
    "def shadow_leak_sections():\n",
    "    sections = [\n",
    "        [],\n",
    "        [],\n",
    "        [],\n",
    "        [],\n",
    "        [\n",
    "           'reaction [condensed    = 6e-8 /nM/s ] shProduceBCjCk + shHelperCCk -> shCk + shCj',\n",
    "           'reaction [condensed    = 6e-8 /nM/s ] shProduceABrBs + shHelperBBs -> shBs + shBr',\n",
    "           'reaction [condensed    = 6e-8 /nM/s ] shProduceCApAq + shHelperAAq -> shAq + shAp'\n",
    "        ]\n",
    "    ]\n",
    "    return sections"
   ]
  },
  {
   "cell_type": "code",
   "execution_count": 537,
   "id": "47cedfa1",
   "metadata": {},
   "outputs": [],
   "source": [
    "def read_lines(file):\n",
    "    with open(file, 'r') as fin:\n",
    "        lines = fin.readlines()\n",
    "        lines = [line.strip() for line in lines]\n",
    "    return lines\n",
    "\n",
    "def write_lines(lines, file):\n",
    "    with open(file, 'w') as fout:\n",
    "        for line in lines:\n",
    "            fout.write(line)\n",
    "            fout.write('\\n')\n",
    "            \n",
    "def eps_ub(d, frac):\n",
    "    l = [d + d*frac]\n",
    "    return round(random.choice(l), 9)\n",
    "\n",
    "def match_replace_rate_const(s, regex='([0-9]\\.[0-9]+)', frac=None):\n",
    "    x = re.search(regex, s)\n",
    "    if x is not None:\n",
    "        rep = str(eps_ub(float(x.group()), frac))\n",
    "        ret = re.sub(regex, rep, s)\n",
    "        return ret\n",
    "    else:\n",
    "        return s\n",
    "\n",
    "def divide_sections(lines):\n",
    "    line_numbers = []\n",
    "    for i, line in enumerate(lines):\n",
    "        if '#' in line:\n",
    "            line_numbers.append(i)\n",
    "    line_numbers.append(len(lines))\n",
    "    sections = []\n",
    "    headers = []\n",
    "    for i in range(len(line_numbers)-1):\n",
    "        start = line_numbers[i]\n",
    "        end = line_numbers[i+1]\n",
    "        sections.append(lines[start+1:end])\n",
    "        headers.append(lines[start])\n",
    "    return headers, sections\n",
    "\n",
    "\n",
    "def merge(ofile, sfile, cfile=None):\n",
    "    olines = read_lines(ofile)\n",
    "    slines = read_lines(sfile)\n",
    "    \n",
    "    o_heds, o_secs = divide_sections(olines)\n",
    "    s_heds, s_secs = divide_sections(slines)\n",
    "    \n",
    "    o_leak_secs = original_leak_sections() \n",
    "    s_leak_secs = shadow_leak_sections()\n",
    "    \n",
    "    assert len(o_secs) == len(s_secs)\n",
    "    assert len(o_secs) == len(o_leak_secs)\n",
    "    \n",
    "    headers = o_heds\n",
    "    sections = [x[0] + x[1] + x[2] + x[3] for x in zip(o_secs, s_secs, o_leak_secs, s_leak_secs)]\n",
    "   \n",
    "    \n",
    "    if cfile is not None:\n",
    "        clines = read_lines(cfile)\n",
    "        c_heds, c_secs = divide_sections(clines)\n",
    "        assert len(c_secs) == len(o_secs)\n",
    "        sections = [x[0] + list(set(x[1]).difference(set(x[0]))) for x in zip(sections, c_secs)]\n",
    "    \n",
    "    return headers, sections\n",
    "\n",
    "def write_out(headers, sections, out=None, cancel=False):\n",
    "    lines = []\n",
    "    for h, s in zip(headers, sections):\n",
    "        lines += [h]\n",
    "        lines += s\n",
    "    subbed_lines = []\n",
    "#     if cancel: # THIS DOESN't WORK (IDK why). Manually zero out concentrations, lol.\n",
    "    for line in lines:\n",
    "        if re.match(r'shCj = hCjR fCR mCR sCR @initial [0-9a-z\\.\\-]+ nM', line) is not None:\n",
    "            subbed_lines += [f'shCj = hCjR fCR mCR sCR @initial {CCONC} nM']\n",
    "            print(line, '\\n', subbed_lines[-1])\n",
    "        elif re.match(r'shCk = hCkR fCR mCR sCR @initial [0-9a-z\\.\\-]+ nM', line) is not None:\n",
    "            subbed_lines += [f'shCk = hCkR fCR mCR sCR @initial {CCONC} nM']\n",
    "            print(line, '\\n', subbed_lines[-1])\n",
    "        elif re.match(r'shAp = hApR fAR mAR sAR @initial [0-9a-z\\.\\-]+ nM', line) is not None:\n",
    "            subbed_lines += [f'shAp = hApR fAR mAR sAR @initial {ACONC} nM']\n",
    "        elif re.match(r'shAq = hAqR fAR mAR sAR @initial [0-9a-z\\.\\-]+ nM', line) is not None:\n",
    "            subbed_lines += [f'shAq = hAqR fAR mAR sAR @initial {ACONC} nM']\n",
    "        elif re.match(r'shBr = hBrR fBR mBR sBR @initial [0-9a-z\\.\\-]+ nM', line) is not None:\n",
    "            subbed_lines += [f'shBr = hBrR fBR mBR sBR @initial {BCONC} nM']\n",
    "        elif re.match(r'shBs = hBsR fBR mBR sBR @initial [0-9a-z\\.\\-]+ nM', line) is not None:\n",
    "            subbed_lines += [f'shBs = hBsR fBR mBR sBR @initial {BCONC} nM']\n",
    "        else:\n",
    "            subbed_lines.append(line)\n",
    "    write_lines(subbed_lines, out)\n",
    "#     else:\n",
    "#         write_lines(lines, out)"
   ]
  },
  {
   "cell_type": "markdown",
   "id": "bdf52424",
   "metadata": {},
   "source": [
    "# Add leaks to Original, Shadow, and Merge UnPerturbed"
   ]
  },
  {
   "cell_type": "code",
   "execution_count": 538,
   "id": "c22fe3df",
   "metadata": {},
   "outputs": [],
   "source": [
    "OUT_DIR = os.path.join(HOME_DIR, ROOT_FOLDER, OUT_FOLDER)\n",
    "if not os.path.exists(OUT_DIR):\n",
    "    os.mkdir(OUT_DIR)\n"
   ]
  },
  {
   "cell_type": "code",
   "execution_count": 539,
   "id": "47b62d44",
   "metadata": {
    "scrolled": true
   },
   "outputs": [
    {
     "name": "stdout",
     "output_type": "stream",
     "text": [
      "shCj = hCjR fCR mCR sCR @initial 3 nM \n",
      " shCj = hCjR fCR mCR sCR @initial 0.3 nM\n",
      "shCk = hCkR fCR mCR sCR @initial 1e-05 nM \n",
      " shCk = hCkR fCR mCR sCR @initial 0.3 nM\n",
      "shCj = hCjR fCR mCR sCR @initial 3 nM \n",
      " shCj = hCjR fCR mCR sCR @initial 0.3 nM\n",
      "shCk = hCkR fCR mCR sCR @initial 1e-05 nM \n",
      " shCk = hCkR fCR mCR sCR @initial 0.3 nM\n"
     ]
    }
   ],
   "source": [
    "ofile = os.path.join(HOME_DIR, ROOT_FOLDER, 'original', 'main_enum.pil')\n",
    "sfile = os.path.join(HOME_DIR, ROOT_FOLDER, 'shadow', 'main_enum.pil')\n",
    "cfile = os.path.join(HOME_DIR, ROOT_FOLDER, 'cancel', 'main_enum.pil')\n",
    "out_nocancel = os.path.join(OUT_DIR, 'orig_shadow_nocancel_enum.pil')\n",
    "out_cancel = os.path.join(OUT_DIR, 'orig_shadow_cancel_enum.pil')\n",
    "\n",
    "headers, sections = merge(ofile, sfile)\n",
    "write_out(headers, sections, out_nocancel)\n",
    "headers, sections = merge(ofile, sfile, cfile)\n",
    "write_out(headers, sections, out_cancel, cancel=True)"
   ]
  },
  {
   "cell_type": "markdown",
   "id": "22636cea",
   "metadata": {},
   "source": [
    "# Perturb"
   ]
  },
  {
   "cell_type": "code",
   "execution_count": 540,
   "id": "6e157810",
   "metadata": {},
   "outputs": [],
   "source": [
    "lines = read_lines(os.path.join(HOME_DIR, ROOT_FOLDER, 'shadow', 'main_enum.pil'))\n",
    "pert_lines = []\n",
    "for line in lines:\n",
    "    pert_lines.append(match_replace_rate_const(line, frac=PERT_FRAC))\n",
    "write_lines(pert_lines, os.path.join(HOME_DIR, ROOT_FOLDER, 'shadow', f'main_pert-{PERT_FRAC}_enum.pil'))"
   ]
  },
  {
   "cell_type": "markdown",
   "id": "b4cf7098",
   "metadata": {},
   "source": [
    "# Add leaks to Original, Shadow, and Perturbed"
   ]
  },
  {
   "cell_type": "code",
   "execution_count": 541,
   "id": "a931d9b9",
   "metadata": {},
   "outputs": [
    {
     "name": "stdout",
     "output_type": "stream",
     "text": [
      "shCj = hCjR fCR mCR sCR @initial 3 nM \n",
      " shCj = hCjR fCR mCR sCR @initial 0.3 nM\n",
      "shCk = hCkR fCR mCR sCR @initial 1e-05 nM \n",
      " shCk = hCkR fCR mCR sCR @initial 0.3 nM\n",
      "shCj = hCjR fCR mCR sCR @initial 3 nM \n",
      " shCj = hCjR fCR mCR sCR @initial 0.3 nM\n",
      "shCk = hCkR fCR mCR sCR @initial 1e-05 nM \n",
      " shCk = hCkR fCR mCR sCR @initial 0.3 nM\n"
     ]
    }
   ],
   "source": [
    "ofile = os.path.join(HOME_DIR, ROOT_FOLDER, 'original', 'main_enum.pil')\n",
    "sfile = os.path.join(HOME_DIR, ROOT_FOLDER, 'shadow', f'main_pert-{PERT_FRAC}_enum.pil')\n",
    "cfile = os.path.join(HOME_DIR, ROOT_FOLDER, 'cancel', 'main_enum.pil')\n",
    "out_nocancel = os.path.join(OUT_DIR, 'orig_shadow_pert_nocancel_enum.pil') # CHANGE THE NAME IF YOU NEED\n",
    "out_cancel = os.path.join(OUT_DIR, 'orig_shadow_pert_cancel_enum.pil') # CHANGE THE NAME IF YOU NEED\n",
    "\n",
    "headers, sections = merge(ofile, sfile)\n",
    "write_out(headers, sections, out_nocancel) # No cancellation\n",
    "headers, sections = merge(ofile, sfile, cfile)\n",
    "write_out(headers, sections, out_cancel, cancel=True) # Cancellation included"
   ]
  },
  {
   "cell_type": "markdown",
   "id": "1796bf11",
   "metadata": {},
   "source": [
    "# Zero Concentration Files"
   ]
  },
  {
   "cell_type": "code",
   "execution_count": 542,
   "id": "1370cd15",
   "metadata": {},
   "outputs": [],
   "source": [
    "ACONC = '0'\n",
    "BCONC = '0'\n",
    "CCONC = '0'"
   ]
  },
  {
   "cell_type": "code",
   "execution_count": 543,
   "id": "e1c644f6",
   "metadata": {},
   "outputs": [
    {
     "name": "stdout",
     "output_type": "stream",
     "text": [
      "shCj = hCjR fCR mCR sCR @initial 3 nM \n",
      " shCj = hCjR fCR mCR sCR @initial 0 nM\n",
      "shCk = hCkR fCR mCR sCR @initial 1e-05 nM \n",
      " shCk = hCkR fCR mCR sCR @initial 0 nM\n",
      "shCj = hCjR fCR mCR sCR @initial 3 nM \n",
      " shCj = hCjR fCR mCR sCR @initial 0 nM\n",
      "shCk = hCkR fCR mCR sCR @initial 1e-05 nM \n",
      " shCk = hCkR fCR mCR sCR @initial 0 nM\n"
     ]
    }
   ],
   "source": [
    "OUT_DIR = os.path.join(HOME_DIR, ROOT_FOLDER, OUT_FOLDER)\n",
    "if not os.path.exists(OUT_DIR):\n",
    "    os.mkdir(OUT_DIR)\n",
    "\n",
    "ofile = os.path.join(HOME_DIR, ROOT_FOLDER, 'original', 'main_enum.pil')\n",
    "sfile = os.path.join(HOME_DIR, ROOT_FOLDER, 'shadow', 'main_enum.pil')\n",
    "cfile = os.path.join(HOME_DIR, ROOT_FOLDER, 'cancel', 'main_enum.pil')\n",
    "out_nocancel = os.path.join(OUT_DIR, 'orig_shadow_nocancel_enum.pil')\n",
    "out_cancel = os.path.join(OUT_DIR, 'orig_shadow_cancel_enum.pil')\n",
    "\n",
    "headers, sections = merge(ofile, sfile)\n",
    "write_out(headers, sections, out_nocancel)\n",
    "headers, sections = merge(ofile, sfile, cfile)\n",
    "write_out(headers, sections, out_cancel, cancel=True)"
   ]
  },
  {
   "cell_type": "code",
   "execution_count": 544,
   "id": "d53c7a68",
   "metadata": {},
   "outputs": [],
   "source": [
    "lines = read_lines(os.path.join(HOME_DIR, ROOT_FOLDER, 'shadow', 'main_enum.pil'))\n",
    "pert_lines = []\n",
    "for line in lines:\n",
    "    pert_lines.append(match_replace_rate_const(line, frac=PERT_FRAC))\n",
    "write_lines(pert_lines, os.path.join(HOME_DIR, ROOT_FOLDER, 'shadow', f'main_pert-{PERT_FRAC}_zeroconc_enum.pil'))"
   ]
  },
  {
   "cell_type": "code",
   "execution_count": 545,
   "id": "2b5bb95a",
   "metadata": {},
   "outputs": [
    {
     "name": "stdout",
     "output_type": "stream",
     "text": [
      "shCj = hCjR fCR mCR sCR @initial 3 nM \n",
      " shCj = hCjR fCR mCR sCR @initial 0 nM\n",
      "shCk = hCkR fCR mCR sCR @initial 1e-05 nM \n",
      " shCk = hCkR fCR mCR sCR @initial 0 nM\n",
      "shCj = hCjR fCR mCR sCR @initial 3 nM \n",
      " shCj = hCjR fCR mCR sCR @initial 0 nM\n",
      "shCk = hCkR fCR mCR sCR @initial 1e-05 nM \n",
      " shCk = hCkR fCR mCR sCR @initial 0 nM\n"
     ]
    }
   ],
   "source": [
    "ofile = os.path.join(HOME_DIR, ROOT_FOLDER, 'original', 'main_enum.pil')\n",
    "sfile = os.path.join(HOME_DIR, ROOT_FOLDER, 'shadow', f'main_pert-{PERT_FRAC}_zeroconc_enum.pil')\n",
    "cfile = os.path.join(HOME_DIR, ROOT_FOLDER, 'cancel', 'main_enum.pil')\n",
    "out_nocancel = os.path.join(OUT_DIR, 'orig_shadow_pert_nocancel_zeroconc_enum.pil') # CHANGE THE NAME IF YOU NEED\n",
    "out_cancel = os.path.join(OUT_DIR, 'orig_shadow_pert_cancel_zeroconc_enum.pil') # CHANGE THE NAME IF YOU NEED\n",
    "\n",
    "headers, sections = merge(ofile, sfile)\n",
    "write_out(headers, sections, out_nocancel) # No cancellation\n",
    "headers, sections = merge(ofile, sfile, cfile)\n",
    "write_out(headers, sections, out_cancel, cancel=True) # Cancellation included"
   ]
  },
  {
   "cell_type": "code",
   "execution_count": null,
   "id": "b33ed806",
   "metadata": {},
   "outputs": [],
   "source": []
  },
  {
   "cell_type": "code",
   "execution_count": null,
   "id": "4d6fd923",
   "metadata": {},
   "outputs": [],
   "source": []
  },
  {
   "cell_type": "code",
   "execution_count": null,
   "id": "066b4863",
   "metadata": {},
   "outputs": [],
   "source": []
  },
  {
   "cell_type": "code",
   "execution_count": null,
   "id": "2bbc86d1",
   "metadata": {},
   "outputs": [],
   "source": []
  },
  {
   "cell_type": "code",
   "execution_count": null,
   "id": "ebf1bd22",
   "metadata": {},
   "outputs": [],
   "source": []
  }
 ],
 "metadata": {
  "kernelspec": {
   "display_name": "Python 3 (ipykernel)",
   "language": "python",
   "name": "python3"
  },
  "language_info": {
   "codemirror_mode": {
    "name": "ipython",
    "version": 3
   },
   "file_extension": ".py",
   "mimetype": "text/x-python",
   "name": "python",
   "nbconvert_exporter": "python",
   "pygments_lexer": "ipython3",
   "version": "3.8.16"
  }
 },
 "nbformat": 4,
 "nbformat_minor": 5
}
