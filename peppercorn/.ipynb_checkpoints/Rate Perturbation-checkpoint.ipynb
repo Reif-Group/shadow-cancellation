{
 "cells": [
  {
   "cell_type": "code",
   "execution_count": 1307,
   "id": "5ab5ba74",
   "metadata": {},
   "outputs": [],
   "source": [
    "import os\n",
    "import sys\n",
    "import random\n",
    "import pandas\n",
    "import numpy\n",
    "import re"
   ]
  },
  {
   "cell_type": "code",
   "execution_count": 1509,
   "id": "d02c6745",
   "metadata": {},
   "outputs": [
    {
     "data": {
      "text/plain": [
       "8.755761720000001e-10"
      ]
     },
     "execution_count": 1509,
     "metadata": {},
     "output_type": "execute_result"
    }
   ],
   "source": [
    "random.randrange(0, 5e9)*1e-18"
   ]
  },
  {
   "cell_type": "code",
   "execution_count": 1620,
   "id": "2fd4fbbf",
   "metadata": {},
   "outputs": [],
   "source": [
    "HOME_DIR='./'\n",
    "PERT_FRAC = 9 # [-0.1, 0.0, 0.5, 1, 4, 9, 19]\n",
    "OUT_FOLDER = 'pert/' + str(PERT_FRAC).replace('.', '_').replace('-', '__')\n",
    "ROOT_FOLDER = 'rps_v2_pert' # or use biamp_pert\n",
    "\n",
    "ACONC = '1.1'\n",
    "BCONC = '1.0'\n",
    "CCONC = '0.3'\n",
    "LEAK = 2e-8\n",
    "SHADOW_LEAK = 2e-8"
   ]
  },
  {
   "cell_type": "code",
   "execution_count": 1621,
   "id": "31685e9f",
   "metadata": {},
   "outputs": [],
   "source": [
    "if 'rps' in ROOT_FOLDER: # anything with `rps` in its name\n",
    "\n",
    "    original_leak_sections = [\n",
    "            [],\n",
    "            [],\n",
    "            [],\n",
    "            [],\n",
    "            [\n",
    "            f'reaction [condensed    = {LEAK} /nM/s ] ProduceBCjCk + HelperCCk -> Ck',\n",
    "            f'reaction [condensed    = {LEAK} /nM/s ] ProduceABrBs + HelperBBs -> Bs',\n",
    "            f'reaction [condensed    = {LEAK} /nM/s ] ProduceCApAq + HelperAAq -> Aq',\n",
    "            ]\n",
    "    ]\n",
    "\n",
    "    shadow_leak_sections= [\n",
    "        [],\n",
    "        [],\n",
    "        [],\n",
    "        [],\n",
    "        [\n",
    "           f'reaction [condensed    = {SHADOW_LEAK} /nM/s ] shProduceBCjCk + shHelperCCk -> shCk',\n",
    "           f'reaction [condensed    = {SHADOW_LEAK} /nM/s ] shProduceABrBs + shHelperBBs -> shBs',\n",
    "           f'reaction [condensed    = {SHADOW_LEAK} /nM/s ] shProduceCApAq + shHelperAAq -> shAq'\n",
    "        ]\n",
    "    ]\n",
    "\n",
    "if 'biamp' == ROOT_FOLDER:\n",
    "\n",
    "    original_leak_sections = [\n",
    "            [],\n",
    "            [],\n",
    "            [],\n",
    "            [],\n",
    "            [\n",
    "            f'reaction [condensed    = {LEAK} /nM/s ] ProduceBCjCk + HelperCCk -> Ck',\n",
    "            ]\n",
    "    ]\n",
    "\n",
    "    shadow_leak_sections= [\n",
    "        [],\n",
    "        [],\n",
    "        [],\n",
    "        [],\n",
    "        [\n",
    "           f'reaction [condensed    = {SHADOW_LEAK} /nM/s ] shProduceBCjCk + shHelperCCk -> shCk',\n",
    "        ]\n",
    "    ]\n",
    "\n",
    "if 'biamp_compress' == ROOT_FOLDER:\n",
    "\n",
    "    original_leak_sections = [\n",
    "            [],\n",
    "            [],\n",
    "            [],\n",
    "            [],\n",
    "            [\n",
    "            f'reaction [condensed    = {LEAK} /nM/s ] ProduceBCjCj + HelperCCj -> Cj',\n",
    "            ]\n",
    "    ]\n",
    "\n",
    "    shadow_leak_sections= [\n",
    "        [],\n",
    "        [],\n",
    "        [],\n",
    "        [],\n",
    "        [\n",
    "           f'reaction [condensed    = {SHADOW_LEAK} /nM/s ] shProduceBCjCj + shHelperCCj -> shCj',\n",
    "        ]\n",
    "    ]\n",
    "\n",
    "    "
   ]
  },
  {
   "cell_type": "code",
   "execution_count": 1622,
   "id": "47cedfa1",
   "metadata": {},
   "outputs": [],
   "source": [
    "def read_lines(file):\n",
    "    with open(file, 'r') as fin:\n",
    "        lines = fin.readlines()\n",
    "        lines = [line.strip() for line in lines]\n",
    "    return lines\n",
    "\n",
    "\n",
    "def write_lines(lines, file):\n",
    "    with open(file, 'w') as fout:\n",
    "        for line in lines:\n",
    "            fout.write(line)\n",
    "            fout.write('\\n')\n",
    "            \n",
    "\n",
    "def eps_ub(d, frac, max_dsd_rate=1e-3):\n",
    "    l = [min(max_dsd_rate, d*(1 + frac))]\n",
    "    return round(random.choice(l), 6)\n",
    "\n",
    "\n",
    "def match_replace_rate_const(s, regex='([0-9\\.]+e-[0-9]+ /nM/s)|([0-9]\\.[0-9]+ /nM/s)', \n",
    "                             frac=None, \n",
    "                             minimize=False, \n",
    "                             maximize=False):\n",
    "    x = re.search(regex, s)\n",
    "    if maximize:\n",
    "        rep = '1e-3 /nM/s'\n",
    "        ret = re.sub(regex, rep, s)\n",
    "        return ret \n",
    "    if minimize:\n",
    "        rep = '1e-5 /nM/s'\n",
    "        ret = re.sub(regex, rep, s)\n",
    "        return ret\n",
    "    \n",
    "    if x is not None:\n",
    "        rep = str(eps_ub(float(x.group().replace(' /nM/s', '')), frac)) + ' /nM/s'\n",
    "        ret = re.sub(regex, rep, s)\n",
    "        return ret\n",
    "    else:\n",
    "        return s\n",
    "    \n",
    "\n",
    "def divide_sections(lines):\n",
    "    line_numbers = []\n",
    "    for i, line in enumerate(lines):\n",
    "        if '#' in line and line[0]=='#': \n",
    "            line_numbers.append(i)\n",
    "    line_numbers.append(len(lines))\n",
    "    sections = []\n",
    "    headers = []\n",
    "    for i in range(len(line_numbers)-1):\n",
    "        start = line_numbers[i]\n",
    "        end = line_numbers[i+1]\n",
    "        sections.append(lines[start+1:end])\n",
    "        headers.append(lines[start])\n",
    "    return headers, sections\n",
    "\n",
    "\n",
    "def merge(ofile, sfile, cfile=None):\n",
    "    olines = read_lines(ofile)\n",
    "    slines = read_lines(sfile)\n",
    "    \n",
    "    o_heds, o_secs = divide_sections(olines)\n",
    "    s_heds, s_secs = divide_sections(slines)\n",
    "    \n",
    "    o_leak_secs = original_leak_sections \n",
    "    s_leak_secs = shadow_leak_sections\n",
    "    \n",
    "    assert len(o_secs) == len(s_secs)\n",
    "    assert len(o_secs) == len(o_leak_secs)\n",
    "    \n",
    "    headers = o_heds\n",
    "    sections = [x[0] + x[1] + x[2] + x[3] for x in zip(o_secs, s_secs, o_leak_secs, s_leak_secs)]\n",
    "   \n",
    "    \n",
    "    if cfile is not None:\n",
    "        clines = read_lines(cfile)\n",
    "        c_heds, c_secs = divide_sections(clines)\n",
    "        assert len(c_secs) == len(o_secs)\n",
    "        sections = [x[0] + list(set(x[1]).difference(set(x[0]))) for x in zip(sections, c_secs)]\n",
    "    \n",
    "    return headers, sections\n",
    "\n",
    "def write_out(headers, sections, out=None, cancel=False, zerooriginal=False, aconc=0.0, bconc=0.0, cconc=0.0):\n",
    "    lines = []\n",
    "    for h, s in zip(headers, sections):\n",
    "        lines += [h]\n",
    "        lines += s\n",
    "    subbed_lines = []\n",
    "#     if cancel: # THIS DOESN't WORK (IDK why). Manually zero out concentrations, lol.\n",
    "    for line in lines:\n",
    "        if re.match(r'shCj = hCjR fCR mCR sCR @initial [0-9a-z\\.\\-]+ nM', line) is not None:\n",
    "            subbed_lines += [f'shCj = hCjR fCR mCR sCR @initial {cconc} nM']\n",
    "            print(line, '\\n', subbed_lines[-1])\n",
    "        elif re.match(r'shAp = hApR fAR mAR sAR @initial [0-9a-z\\.\\-]+ nM', line) is not None:\n",
    "            subbed_lines += [f'shAp = hApR fAR mAR sAR @initial {aconc} nM']\n",
    "            print(line, '\\n', subbed_lines[-1])\n",
    "        elif re.match(r'shBr = hBrR fBR mBR sBR @initial [0-9a-z\\.\\-]+ nM', line) is not None:\n",
    "            subbed_lines += [f'shBr = hBrR fBR mBR sBR @initial {bconc} nM']\n",
    "            print(line, '\\n', subbed_lines[-1])\n",
    "        else:\n",
    "            subbed_lines.append(line)\n",
    "    \n",
    "    write_lines(subbed_lines, out)"
   ]
  },
  {
   "cell_type": "code",
   "execution_count": 1623,
   "id": "d0251f14",
   "metadata": {},
   "outputs": [
    {
     "data": {
      "text/plain": [
       "'reaction [condensed    = 1e-5 /nM/s ] R144 + ProduceABrBs -> R191 + Br'"
      ]
     },
     "execution_count": 1623,
     "metadata": {},
     "output_type": "execute_result"
    }
   ],
   "source": [
    "match_replace_rate_const('reaction [condensed    = 1.6e-4 /nM/s ] R144 + ProduceABrBs -> R191 + Br', minimize=True)"
   ]
  },
  {
   "cell_type": "markdown",
   "id": "bdf52424",
   "metadata": {},
   "source": [
    "# Add leaks to Original, Shadow, and Merge UnPerturbed"
   ]
  },
  {
   "cell_type": "code",
   "execution_count": 1624,
   "id": "c22fe3df",
   "metadata": {},
   "outputs": [],
   "source": [
    "OUT_DIR = os.path.join(HOME_DIR, ROOT_FOLDER, OUT_FOLDER)\n",
    "if not os.path.exists(OUT_DIR):\n",
    "    os.makedirs(OUT_DIR)\n"
   ]
  },
  {
   "cell_type": "code",
   "execution_count": 1625,
   "id": "47b62d44",
   "metadata": {
    "scrolled": true
   },
   "outputs": [
    {
     "name": "stdout",
     "output_type": "stream",
     "text": [
      "shAp = hApR fAR mAR sAR @initial 11 nM \n",
      " shAp = hApR fAR mAR sAR @initial 0.0 nM\n",
      "shBr = hBrR fBR mBR sBR @initial 10 nM \n",
      " shBr = hBrR fBR mBR sBR @initial 0.0 nM\n",
      "shCj = hCjR fCR mCR sCR @initial 3 nM \n",
      " shCj = hCjR fCR mCR sCR @initial 0.0 nM\n",
      "shAp = hApR fAR mAR sAR @initial 11 nM \n",
      " shAp = hApR fAR mAR sAR @initial 0.0 nM\n",
      "shBr = hBrR fBR mBR sBR @initial 10 nM \n",
      " shBr = hBrR fBR mBR sBR @initial 0.0 nM\n",
      "shCj = hCjR fCR mCR sCR @initial 3 nM \n",
      " shCj = hCjR fCR mCR sCR @initial 0.0 nM\n"
     ]
    }
   ],
   "source": [
    "ofile = os.path.join(HOME_DIR, ROOT_FOLDER, 'original', 'main_enum.pil')\n",
    "sfile = os.path.join(HOME_DIR, ROOT_FOLDER, 'shadow', 'main_enum.pil')\n",
    "cfile = os.path.join(HOME_DIR, ROOT_FOLDER, 'cancel', 'main_enum.pil')\n",
    "out_nocancel = os.path.join(OUT_DIR, 'orig_shadow_nocancel_enum.pil')\n",
    "out_cancel = os.path.join(OUT_DIR, 'orig_shadow_cancel_enum.pil')\n",
    "\n",
    "headers, sections = merge(ofile, sfile)\n",
    "write_out(headers, sections, out_nocancel)\n",
    "headers, sections = merge(ofile, sfile, cfile)\n",
    "write_out(headers, sections, out_cancel, cancel=True)"
   ]
  },
  {
   "cell_type": "markdown",
   "id": "22636cea",
   "metadata": {},
   "source": [
    "# Perturb"
   ]
  },
  {
   "cell_type": "markdown",
   "id": "9638e84b",
   "metadata": {},
   "source": [
    "Here, we keep the shadow circuit to have each strand displacement reaction to have the maximum rate constant and perturb the main circuit to run slower by doing d/(1 + pert_frac)"
   ]
  },
  {
   "cell_type": "code",
   "execution_count": 1626,
   "id": "723226a5",
   "metadata": {},
   "outputs": [],
   "source": [
    "# # MAKE SURE THAT THE O1 -> O1 + O2 has the correct RATE before uncommenting this.\n",
    "\n",
    "# lines = read_lines(os.path.join(HOME_DIR, ROOT_FOLDER, 'shadow', 'main_enum.pil'))\n",
    "# pert_lines = []\n",
    "# for line in lines:\n",
    "#     pert_lines.append(match_replace_rate_const(line, minimize=True))\n",
    "# write_lines(pert_lines, os.path.join(HOME_DIR, ROOT_FOLDER, 'shadow', 'main_min_enum.pil'))\n",
    "\n",
    "\n",
    "# lines = read_lines(os.path.join(HOME_DIR, ROOT_FOLDER, 'original', 'main_enum.pil'))\n",
    "# pert_lines = []\n",
    "# for line in lines:\n",
    "#     pert_lines.append(match_replace_rate_const(line, minimize=True))\n",
    "# write_lines(pert_lines, os.path.join(HOME_DIR, ROOT_FOLDER, 'original', 'main_min_enum.pil'))"
   ]
  },
  {
   "cell_type": "code",
   "execution_count": 1627,
   "id": "6e157810",
   "metadata": {},
   "outputs": [],
   "source": [
    "lines = read_lines(os.path.join(HOME_DIR, ROOT_FOLDER, 'shadow', 'main_enum.pil'))\n",
    "pert_lines = []\n",
    "for line in lines:\n",
    "    pert_lines.append(match_replace_rate_const(line, frac=PERT_FRAC))\n",
    "write_lines(pert_lines, os.path.join(HOME_DIR, ROOT_FOLDER, 'shadow', f'main_pert-{PERT_FRAC}_enum.pil'))"
   ]
  },
  {
   "cell_type": "markdown",
   "id": "b4cf7098",
   "metadata": {},
   "source": [
    "# Add leaks to Original, Shadow, and Perturbed"
   ]
  },
  {
   "cell_type": "code",
   "execution_count": 1628,
   "id": "a931d9b9",
   "metadata": {},
   "outputs": [
    {
     "name": "stdout",
     "output_type": "stream",
     "text": [
      "shAp = hApR fAR mAR sAR @initial 11 nM \n",
      " shAp = hApR fAR mAR sAR @initial 1.1 nM\n",
      "shBr = hBrR fBR mBR sBR @initial 10 nM \n",
      " shBr = hBrR fBR mBR sBR @initial 1.0 nM\n",
      "shCj = hCjR fCR mCR sCR @initial 3 nM \n",
      " shCj = hCjR fCR mCR sCR @initial 0.3 nM\n",
      "shAp = hApR fAR mAR sAR @initial 11 nM \n",
      " shAp = hApR fAR mAR sAR @initial 1.1 nM\n",
      "shBr = hBrR fBR mBR sBR @initial 10 nM \n",
      " shBr = hBrR fBR mBR sBR @initial 1.0 nM\n",
      "shCj = hCjR fCR mCR sCR @initial 3 nM \n",
      " shCj = hCjR fCR mCR sCR @initial 0.3 nM\n"
     ]
    }
   ],
   "source": [
    "ofile = os.path.join(HOME_DIR, ROOT_FOLDER, 'original', 'main_enum.pil')\n",
    "sfile = os.path.join(HOME_DIR, ROOT_FOLDER, 'shadow', f'main_pert-{PERT_FRAC}_enum.pil')\n",
    "cfile = os.path.join(HOME_DIR, ROOT_FOLDER, 'cancel', 'main_enum.pil')\n",
    "out_nocancel = os.path.join(OUT_DIR, 'orig_shadow_pert_nocancel_enum.pil') # CHANGE THE NAME IF YOU NEED\n",
    "out_cancel = os.path.join(OUT_DIR, 'orig_shadow_pert_cancel_enum.pil') # CHANGE THE NAME IF YOU NEED\n",
    "\n",
    "headers, sections = merge(ofile, sfile)\n",
    "write_out(headers, sections, out_nocancel, aconc=ACONC, bconc=BCONC, cconc=CCONC) # No cancellation\n",
    "headers, sections = merge(ofile, sfile, cfile)\n",
    "write_out(headers, sections, out_cancel, cancel=True, aconc=ACONC, bconc=BCONC, cconc=CCONC) # Cancellation included"
   ]
  },
  {
   "cell_type": "markdown",
   "id": "1796bf11",
   "metadata": {},
   "source": [
    "# Zero Concentration Files"
   ]
  },
  {
   "cell_type": "code",
   "execution_count": 1629,
   "id": "1370cd15",
   "metadata": {},
   "outputs": [],
   "source": [
    "# This is set as a default so no need."
   ]
  },
  {
   "cell_type": "code",
   "execution_count": 1630,
   "id": "e1c644f6",
   "metadata": {},
   "outputs": [
    {
     "name": "stdout",
     "output_type": "stream",
     "text": [
      "shAp = hApR fAR mAR sAR @initial 11 nM \n",
      " shAp = hApR fAR mAR sAR @initial 0.0 nM\n",
      "shBr = hBrR fBR mBR sBR @initial 10 nM \n",
      " shBr = hBrR fBR mBR sBR @initial 0.0 nM\n",
      "shCj = hCjR fCR mCR sCR @initial 3 nM \n",
      " shCj = hCjR fCR mCR sCR @initial 0.0 nM\n",
      "shAp = hApR fAR mAR sAR @initial 11 nM \n",
      " shAp = hApR fAR mAR sAR @initial 0.0 nM\n",
      "shBr = hBrR fBR mBR sBR @initial 10 nM \n",
      " shBr = hBrR fBR mBR sBR @initial 0.0 nM\n",
      "shCj = hCjR fCR mCR sCR @initial 3 nM \n",
      " shCj = hCjR fCR mCR sCR @initial 0.0 nM\n"
     ]
    }
   ],
   "source": [
    "OUT_DIR = os.path.join(HOME_DIR, ROOT_FOLDER, OUT_FOLDER)\n",
    "if not os.path.exists(OUT_DIR):\n",
    "    os.mkdir(OUT_DIR)\n",
    "\n",
    "ofile = os.path.join(HOME_DIR, ROOT_FOLDER, 'original', 'main_enum.pil')\n",
    "sfile = os.path.join(HOME_DIR, ROOT_FOLDER, 'shadow', f'main_pert-{PERT_FRAC}_enum.pil')\n",
    "cfile = os.path.join(HOME_DIR, ROOT_FOLDER, 'cancel', 'main_enum.pil')\n",
    "out_nocancel = os.path.join(OUT_DIR, 'orig_shadow_pert_nocancel_zeroconc_enum.pil')\n",
    "out_cancel = os.path.join(OUT_DIR, 'orig_shadow_pert_cancel_zeroconc_enum.pil')\n",
    "\n",
    "headers, sections = merge(ofile, sfile)\n",
    "write_out(headers, sections, out_nocancel)\n",
    "headers, sections = merge(ofile, sfile, cfile)\n",
    "write_out(headers, sections, out_cancel, cancel=True)"
   ]
  },
  {
   "cell_type": "code",
   "execution_count": null,
   "id": "2b5bb95a",
   "metadata": {},
   "outputs": [],
   "source": []
  },
  {
   "cell_type": "code",
   "execution_count": null,
   "id": "0b77e71a",
   "metadata": {},
   "outputs": [],
   "source": []
  },
  {
   "cell_type": "code",
   "execution_count": null,
   "id": "720327a3",
   "metadata": {},
   "outputs": [],
   "source": []
  },
  {
   "cell_type": "code",
   "execution_count": null,
   "id": "aa187aa7",
   "metadata": {},
   "outputs": [],
   "source": []
  },
  {
   "cell_type": "code",
   "execution_count": null,
   "id": "0ec78311",
   "metadata": {},
   "outputs": [],
   "source": []
  }
 ],
 "metadata": {
  "kernelspec": {
   "display_name": "Python 3 (ipykernel)",
   "language": "python",
   "name": "python3"
  },
  "language_info": {
   "codemirror_mode": {
    "name": "ipython",
    "version": 3
   },
   "file_extension": ".py",
   "mimetype": "text/x-python",
   "name": "python",
   "nbconvert_exporter": "python",
   "pygments_lexer": "ipython3",
   "version": "3.8.16"
  }
 },
 "nbformat": 4,
 "nbformat_minor": 5
}
