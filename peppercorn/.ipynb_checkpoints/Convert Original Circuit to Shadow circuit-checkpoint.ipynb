{
 "cells": [
  {
   "cell_type": "code",
   "execution_count": 1,
   "id": "148ee26e",
   "metadata": {},
   "outputs": [],
   "source": [
    "import re\n",
    "import random\n",
    "import numpy as np\n",
    "import pandas as pd"
   ]
  },
  {
   "cell_type": "code",
   "execution_count": 26,
   "id": "fb90d5e9",
   "metadata": {},
   "outputs": [],
   "source": [
    "pat = '[a-zA-Z0-9\\(+\\*]+|\\)'\n",
    "RIGHTB = ')'\n",
    "LEFTB = '('\n",
    "STAR = '*'\n",
    "EMPTY = ''\n",
    "SPACE = ' '"
   ]
  },
  {
   "cell_type": "code",
   "execution_count": 27,
   "id": "5af0321f",
   "metadata": {},
   "outputs": [],
   "source": [
    "s = \"sC mC fC( hC( + sB mB fB( hB( + sB* ))))\""
   ]
  },
  {
   "cell_type": "code",
   "execution_count": 31,
   "id": "b8f989e5",
   "metadata": {},
   "outputs": [
    {
     "name": "stdout",
     "output_type": "stream",
     "text": [
      "sC\n"
     ]
    },
    {
     "data": {
      "text/plain": [
       "('sC*)', 'sC*(')"
      ]
     },
     "execution_count": 31,
     "metadata": {},
     "output_type": "execute_result"
    }
   ],
   "source": [
    "re.findall(pat, s)\n",
    "def complement(s):\n",
    "    if STAR in s: # If the domain contains an asterisk, remove it.\n",
    "        s = s.replace(STAR, EMPTY)\n",
    "    else: # If not, add an asterisk to the end.\n",
    "        s = s + STAR\n",
    "    return s\n",
    "    \n",
    "def brace_seen_transform(left_brace_str, right_brace_str):\n",
    "    right_brace_str = left_brace_str.replace(LEFTB, EMPTY) # Remove the left brace from the string with left brace.\n",
    "    right_brace_str = complement(right_brace_str)\n",
    "    right_brace_str += LEFTB # Finally add a left brace.\n",
    "    \n",
    "\n",
    "    left_brace_str = left_brace_str.replace(LEFTB, EMPTY) # Remove the left brace\n",
    "    left_brace_str += RIGHTB # Finally add the right brace. We will remove the domain associated with it later!\n",
    "    return (left_brace_str, right_brace_str)\n",
    "\n",
    "brace_seen_transform('sC(', ')')"
   ]
  },
  {
   "cell_type": "code",
   "execution_count": 21,
   "id": "5e9622db",
   "metadata": {},
   "outputs": [],
   "source": [
    "class Domain:\n",
    "    def __init__(self, s):\n",
    "        self.seq = s\n",
    "    \n",
    "    def _reverse(self):\n",
    "        return Domain(self.seq + 'R')\n",
    "    \n",
    "    def _reverse_compl(self):\n",
    "        return Domain(self.seq + 'R' + '*')\n",
    "\n",
    "class Sequence:\n",
    "    \n",
    "    def __init__(self, list_of_strs):\n",
    "        self.domains = [\n",
    "            Domain(s) for s in list_of_strs\n",
    "        ]\n",
    "        brackets_stack = []\n",
    "        for i in range(len(self.domains)):\n",
    "            if LEFTB in self.domains[i]: # The domain contains a left bracket.\n",
    "                brackets_stack.append((self.domains[i], i)) # Add the domain to the stack.\n",
    "                \n",
    "            if RIGHTB in self.domains[i]: # If the domain contains a right bracket.\n",
    "                left_brace_str, leftindex = brackets_stack.pop()\n",
    "                right_brace_str = self.domains[i]\n",
    "                \n",
    "                left_brace_str, right_brace_str \n",
    "                \n",
    "                \n",
    "    \n"
   ]
  },
  {
   "cell_type": "code",
   "execution_count": 24,
   "id": "ba4058f2",
   "metadata": {},
   "outputs": [
    {
     "data": {
      "text/plain": [
       "'sC mC fC( hC( + sB mB fB( hB( + sB* ))))R'"
      ]
     },
     "execution_count": 24,
     "metadata": {},
     "output_type": "execute_result"
    }
   ],
   "source": [
    "Domain(s)._reverse().seq"
   ]
  },
  {
   "cell_type": "code",
   "execution_count": null,
   "id": "f31366c7",
   "metadata": {},
   "outputs": [],
   "source": []
  }
 ],
 "metadata": {
  "kernelspec": {
   "display_name": "Python 3 (ipykernel)",
   "language": "python",
   "name": "python3"
  },
  "language_info": {
   "codemirror_mode": {
    "name": "ipython",
    "version": 3
   },
   "file_extension": ".py",
   "mimetype": "text/x-python",
   "name": "python",
   "nbconvert_exporter": "python",
   "pygments_lexer": "ipython3",
   "version": "3.8.16"
  }
 },
 "nbformat": 4,
 "nbformat_minor": 5
}
