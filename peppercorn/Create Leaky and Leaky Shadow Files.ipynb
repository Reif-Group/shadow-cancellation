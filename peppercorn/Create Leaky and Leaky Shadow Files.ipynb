{
 "cells": [
  {
   "cell_type": "code",
   "execution_count": 7,
   "id": "f5813544",
   "metadata": {},
   "outputs": [],
   "source": [
    "import os\n",
    "import sys\n",
    "import random\n",
    "import pandas\n",
    "import numpy\n",
    "import re"
   ]
  },
  {
   "cell_type": "code",
   "execution_count": 8,
   "id": "7875b45d",
   "metadata": {},
   "outputs": [],
   "source": [
    "HOME_DIR='./'\n",
    "UNI_ROOT = 'uniamp'\n",
    "BI_ROOT = 'biamp'\n",
    "RPS_ROOT = 'rps'\n",
    "CON_ROOT = 'con'\n",
    "RPS_PREV_ROOT = 'rps_prev'\n",
    "\n",
    "ORIGINAL = 'original'\n",
    "SHADOW = 'shadow'\n",
    "CANCEL = 'cancel'\n",
    "LEAKY = 'leaky'\n",
    "LEAKY_SHADOW = 'leaky_shadow'\n",
    "PR_HE_LEAK = 7e-7"
   ]
  },
  {
   "cell_type": "markdown",
   "id": "be94f773",
   "metadata": {},
   "source": [
    "# Utils"
   ]
  },
  {
   "cell_type": "markdown",
   "id": "5afb11c7",
   "metadata": {},
   "source": [
    "## utils for Utils"
   ]
  },
  {
   "cell_type": "code",
   "execution_count": 9,
   "id": "6f801138",
   "metadata": {},
   "outputs": [],
   "source": [
    "# Make sure that the `original`, `shadow` and `cancel` folders are already present and contains main.enum\n",
    "def create_folders(root, subfolders=['leaky', 'leaky_shadow']):\n",
    "    # Creates folders\n",
    "    assert os.path.exists(os.path.join(root, 'original', 'main.pil')), \"original circuit doesn't exist.\"\n",
    "    assert os.path.exists(os.path.join(root, 'shadow', 'main.pil')), \"original circuit doesn't exist.\"\n",
    "    assert os.path.exists(os.path.join(root, 'cancel', 'main.pil')), \"original circuit doesn't exist.\"\n",
    "    for sf in subfolders:\n",
    "        if not os.path.exists(os.path.join(root, sf)):\n",
    "            os.mkdir(os.path.join(root, sf))"
   ]
  },
  {
   "cell_type": "code",
   "execution_count": 5,
   "id": "417d3b90",
   "metadata": {},
   "outputs": [],
   "source": [
    "def read_lines(file):\n",
    "    with open(file, 'r') as fin:\n",
    "        lines = fin.readlines()\n",
    "        lines = [line.strip() for line in lines]\n",
    "    return lines\n",
    "\n",
    "def write_lines(lines, file):\n",
    "    with open(file, 'w') as fout:\n",
    "        for line in lines:\n",
    "            fout.write(line)\n",
    "            fout.write('\\n')\n",
    "            \n",
    "def eps_ub(d, frac):\n",
    "    l = [d + d*frac]\n",
    "    return round(random.choice(l), 9)\n",
    "\n",
    "def match_replace_rate_const(s, regex='([0-9]\\.[0-9]+)', frac=None):\n",
    "    x = re.search(regex, s)\n",
    "    if x is not None:\n",
    "        rep = str(eps_ub(float(x.group()), frac))\n",
    "        ret = re.sub(regex, rep, s)\n",
    "        return ret\n",
    "    else:\n",
    "        return s\n",
    "\n",
    "def divide_sections(lines):\n",
    "    line_numbers = []\n",
    "    for i, line in enumerate(lines):\n",
    "        if '#' in line:\n",
    "            line_numbers.append(i)\n",
    "    line_numbers.append(len(lines))\n",
    "    sections = []\n",
    "    headers = []\n",
    "    for i in range(len(line_numbers)-1):\n",
    "        start = line_numbers[i]\n",
    "        end = line_numbers[i+1]\n",
    "        sections.append(lines[start+1:end])\n",
    "        headers.append(lines[start])\n",
    "    return headers, sections\n",
    "\n",
    "\n",
    "def merge(ofile, sfile, cfile=None, leaky=False, shadow=False, o_leak_secs=None, s_leak_secs=None):\n",
    "    olines = read_lines(ofile)\n",
    "    slines = read_lines(sfile)\n",
    "    \n",
    "    o_heds, o_secs = divide_sections(olines)\n",
    "    s_heds, s_secs = divide_sections(slines)\n",
    "    \n",
    "   \n",
    "    \n",
    "    assert len(o_secs) == len(s_secs)\n",
    "    assert len(o_secs) == len(o_leak_secs)\n",
    "    \n",
    "    if not leaky:\n",
    "        headers = o_heds\n",
    "        sections = o_secs\n",
    "    else:\n",
    "        headers = o_heds\n",
    "        sections = [x[0] + x[1] for x in zip(o_secs, o_leak_secs)]\n",
    "    \n",
    "    if leaky and shadow:\n",
    "        headers = o_heds\n",
    "        sections = [x[0] + x[1] + x[2] + x[3] for x in zip(o_secs, s_secs, o_leak_secs, s_leak_secs)]\n",
    "        \n",
    "        # cancellation reactions\n",
    "        clines = read_lines(cfile)\n",
    "        c_heds, c_secs = divide_sections(clines)\n",
    "        assert len(c_secs) == len(o_secs)\n",
    "        sections = [x[0] + list(set(x[1]).difference(set(x[0]))) for x in zip(sections, c_secs)]\n",
    "    \n",
    "    return headers, sections\n",
    "\n",
    "def write_out(headers, sections, outfile=None, cancel=False):\n",
    "    lines = []\n",
    "    for h, s in zip(headers, sections):\n",
    "        lines += [h]\n",
    "        lines += s\n",
    "    subbed_lines = []\n",
    "    if cancel:\n",
    "        for line in lines:\n",
    "            if re.match(r'shC = hCR fCR mCR sCR @initial [0-9]+ nM', line) is not None:\n",
    "                subbed_lines += ['shC = hCR fCR mCR sCR @initial 0.5 nM']\n",
    "            elif re.match(r'shA = hAR fAR mAR sAR @initial [0-9]+ nM', line) is not None:\n",
    "                subbed_lines += ['shA = hAR fAR mAR sAR @initial 0.3 nM']\n",
    "            elif re.match(r'shB = hBR fBR mBR sBR @initial [0-9]+ nM', line) is not None:\n",
    "                subbed_lines += ['shB = hBR fBR mBR sBR @initial 0.2 nM']\n",
    "            elif re.match(r'shY = hYR fYR mYR sYR @initial [0-9]+ nM', line) is not None:\n",
    "                subbed_lines += ['shY = hYR fYR mYR sYR @initial 0.2 nM']\n",
    "            else:\n",
    "                subbed_lines.append(line)\n",
    "                                \n",
    "        write_lines(subbed_lines, outfile)\n",
    "    else:\n",
    "        write_lines(lines, outfile)"
   ]
  },
  {
   "cell_type": "markdown",
   "id": "46d0b55c",
   "metadata": {},
   "source": [
    "# 1. Unimolecular amplifier"
   ]
  },
  {
   "cell_type": "markdown",
   "id": "518ddd92",
   "metadata": {},
   "source": [
    "## 1.1 Creating folders"
   ]
  },
  {
   "cell_type": "code",
   "execution_count": 5,
   "id": "ad4744e9",
   "metadata": {},
   "outputs": [],
   "source": [
    "create_folders(UNI_ROOT)"
   ]
  },
  {
   "cell_type": "code",
   "execution_count": 6,
   "id": "f1b25947",
   "metadata": {},
   "outputs": [],
   "source": [
    "def uni_original_leak_sections():\n",
    "    sections = [\n",
    "        [],\n",
    "        [],\n",
    "        [\n",
    "            'LeakWasteC = fC( hC( fc( + sC mC fC hC( + sC* ) ) ) ) @initial 0 nM',\n",
    "        ],\n",
    "        [\n",
    "            'macrostate LeakWasteC = [LeakWasteC]',\n",
    "        ],\n",
    "        [\n",
    "            f'reaction [condensed = {PR_HE_LEAK} /nM/s ] ProduceCC + HelperCC -> C + LeakWasteC',\n",
    "        ]\n",
    "    ]\n",
    "    return sections\n",
    "\n",
    "def uni_shadow_leak_sections():\n",
    "    sections = [\n",
    "        [],\n",
    "        [],\n",
    "        [\n",
    "            'shLeakWasteC = fCR*( hCR*( fcR*( hCR*( sCR + ) fCR* mCR* sCR* + ) ) ) @initial 0 nM',\n",
    "        ],\n",
    "        [\n",
    "            'macrostate shLeakWasteC = [shLeakWasteC]',\n",
    "        ],\n",
    "        [\n",
    "            f'reaction [condensed    = {PR_HE_LEAK} /nM/s ] shProduceCC + shHelperCC -> shC + shLeakWasteC',\n",
    "        ]\n",
    "    ]\n",
    "    return sections"
   ]
  },
  {
   "cell_type": "code",
   "execution_count": 7,
   "id": "993d5373",
   "metadata": {},
   "outputs": [],
   "source": [
    "ofile = os.path.join(HOME_DIR, UNI_ROOT, ORIGINAL, 'main_enum.pil')\n",
    "sfile = os.path.join(HOME_DIR, UNI_ROOT, SHADOW, 'main_enum.pil')\n",
    "cfile = os.path.join(HOME_DIR, UNI_ROOT, CANCEL, 'main_enum.pil')\n",
    "leaky = os.path.join(HOME_DIR, UNI_ROOT, LEAKY, 'main_enum.pil')\n",
    "leaky_shadow = os.path.join(HOME_DIR, UNI_ROOT, LEAKY_SHADOW, 'main_enum.pil')"
   ]
  },
  {
   "cell_type": "code",
   "execution_count": 8,
   "id": "795f9332",
   "metadata": {},
   "outputs": [],
   "source": [
    "create_folders(os.path.join(HOME_DIR, UNI_ROOT))"
   ]
  },
  {
   "cell_type": "code",
   "execution_count": 9,
   "id": "19bb4ed6",
   "metadata": {},
   "outputs": [],
   "source": [
    "headers, sections = merge(ofile, sfile, cfile, leaky=True, o_leak_secs=uni_original_leak_sections(), s_leak_secs=uni_shadow_leak_sections())\n",
    "write_out(headers, sections, leaky)\n",
    "\n",
    "headers, sections = merge(ofile, sfile, cfile, leaky=True, shadow=True, o_leak_secs=uni_original_leak_sections(), s_leak_secs=uni_shadow_leak_sections())\n",
    "write_out(headers, sections, leaky_shadow, cancel=True)"
   ]
  },
  {
   "cell_type": "markdown",
   "id": "a373d070",
   "metadata": {},
   "source": [
    "# 2. Bimolecular Amplifier"
   ]
  },
  {
   "cell_type": "code",
   "execution_count": 25,
   "id": "ba8b1e8d",
   "metadata": {},
   "outputs": [],
   "source": [
    "create_folders(BI_ROOT)"
   ]
  },
  {
   "cell_type": "markdown",
   "id": "487dcf29",
   "metadata": {},
   "source": [
    "#### Run the original circuit\n",
    "#### Run the shadow circuit\n",
    "#### Then run the below file"
   ]
  },
  {
   "cell_type": "code",
   "execution_count": 26,
   "id": "47c3389d",
   "metadata": {},
   "outputs": [],
   "source": [
    "def bi_original_leak_sections():\n",
    "    sections = [\n",
    "        [],\n",
    "        [],\n",
    "        [\n",
    "             'LeakWasteCB = fC( hC( fC( + sC mC fC hC( + sB* ) ) ) ) @initial 0 nM'\n",
    "        ],\n",
    "        [\n",
    "             'macrostate LeakWasteCB = [LeakWasteCB]'\n",
    "        ],\n",
    "        [\n",
    "            f'reaction [condensed    = {PR_HE_LEAK} /nM/s ] ProduceBCC + HelperCC -> C + LeakWasteCB'\n",
    "        ]\n",
    "    ]\n",
    "    return sections\n",
    "\n",
    "def bi_shadow_leak_sections():\n",
    "    sections = [\n",
    "        [],\n",
    "        [],\n",
    "        [\n",
    "             'shLeakWasteCB = fCR*( hCR*( fCR*( hCR*( sBR + ) fCR* mCR* sCR* + ) ) ) @initial 0 nM'\n",
    "        ],\n",
    "        [\n",
    "             'macrostate shLeakWasteCB = [shLeakWasteCB]'\n",
    "        ],\n",
    "        [\n",
    "            f'reaction [condensed    = {PR_HE_LEAK} /nM/s ] shProduceBCC + shHelperCC -> shC + shLeakWasteCB'\n",
    "        ]\n",
    "    ]\n",
    "    return sections"
   ]
  },
  {
   "cell_type": "code",
   "execution_count": 27,
   "id": "d328654c",
   "metadata": {},
   "outputs": [],
   "source": [
    "ofile = os.path.join(HOME_DIR, BI_ROOT, ORIGINAL, 'main_enum.pil')\n",
    "sfile = os.path.join(HOME_DIR, BI_ROOT, SHADOW, 'main_enum.pil')\n",
    "cfile = os.path.join(HOME_DIR, BI_ROOT, CANCEL, 'main_enum.pil')\n",
    "leaky = os.path.join(HOME_DIR, BI_ROOT, LEAKY, 'main_enum.pil')\n",
    "leaky_shadow = os.path.join(HOME_DIR, BI_ROOT, LEAKY_SHADOW, 'main_enum.pil')"
   ]
  },
  {
   "cell_type": "code",
   "execution_count": 28,
   "id": "4251becc",
   "metadata": {},
   "outputs": [],
   "source": [
    "headers, sections = merge(ofile, sfile, cfile, leaky=True, \n",
    "                          o_leak_secs=bi_original_leak_sections(), \n",
    "                          s_leak_secs=bi_shadow_leak_sections())\n",
    "write_out(headers, sections, leaky)\n",
    "\n",
    "headers, sections = merge(ofile, sfile, cfile, leaky=True, shadow=True, \n",
    "                          o_leak_secs=bi_original_leak_sections(), \n",
    "                          s_leak_secs=bi_shadow_leak_sections())\n",
    "write_out(headers, sections, leaky_shadow, cancel=True)"
   ]
  },
  {
   "cell_type": "markdown",
   "id": "51399c6d",
   "metadata": {},
   "source": [
    "# 3. RPS Oscillator"
   ]
  },
  {
   "cell_type": "code",
   "execution_count": 29,
   "id": "af703e85",
   "metadata": {},
   "outputs": [],
   "source": [
    "create_folders(RPS_ROOT)"
   ]
  },
  {
   "cell_type": "code",
   "execution_count": 30,
   "id": "dcd8116e",
   "metadata": {},
   "outputs": [],
   "source": [
    "def rps_original_leak_sections():\n",
    "    sections = [\n",
    "        [],\n",
    "        [],\n",
    "        [\n",
    "            'LeakWasteAC = sA mA fA hA( + sC* ) fA*( hA*( fA*( + ) ) ) @initial 0 nM',\n",
    "             'LeakWasteBA = sB mB fB hB( + sA* ) fB*( hB*( fB*( + ) ) ) @initial 0 nM',\n",
    "             'LeakWasteCB = sC mC fC hC( + sB* ) fC*( hC*( fC*( + ) ) ) @initial 0 nM'\n",
    "        ],\n",
    "        [\n",
    "            'macrostate LeakWasteCB = [LeakWasteCB]',\n",
    "             'macrostate LeakWasteBA = [LeakWasteBA]',\n",
    "             'macrostate LeakWasteAC = [LeakWasteAC]'\n",
    "        ],\n",
    "        [\n",
    "            f'reaction [condensed    = {PR_HE_LEAK} /nM/s ] ProduceBCC + HelperCC -> C + LeakWasteCB',\n",
    "             f'reaction [condensed    = {PR_HE_LEAK} /nM/s ] ProduceABB + HelperBB -> B + LeakWasteBA',\n",
    "             f'reaction [condensed    = {PR_HE_LEAK} /nM/s ] ProduceCAA + HelperAA -> A + LeakWasteAC'\n",
    "        ]\n",
    "    ]\n",
    "    return sections\n",
    "\n",
    "def rps_shadow_leak_sections():\n",
    "    sections = [\n",
    "        [],\n",
    "        [],\n",
    "        [\n",
    "            'shLeakWasteAC = hAR( fAR mAR sAR + fAR( hAR( fAR( + ) ) ) ) sCR* @initial 0 nM',\n",
    "             'shLeakWasteBA = hBR( fBR mBR sBR + fBR( hBR( fBR( + ) ) ) ) sAR* @initial 0 nM',\n",
    "             'shLeakWasteCB = hCR( fCR mCR sCR + fCR( hCR( fCR( + ) ) ) ) sBR* @initial 0 nM'\n",
    "        ],\n",
    "        [\n",
    "            'macrostate shLeakWasteAC = [shLeakWasteAC]',\n",
    "             'macrostate shLeakWasteBA = [shLeakWasteBA]',\n",
    "             'macrostate shLeakWasteCB = [shLeakWasteCB]'\n",
    "        ],\n",
    "        [\n",
    "            f'reaction [condensed    = {PR_HE_LEAK} /nM/s ] shProduceBCC + shHelperCC -> shC + shLeakWasteCB',\n",
    "             f'reaction [condensed   = {PR_HE_LEAK} /nM/s ] shProduceABB + shHelperBB -> shB + shLeakWasteBA',\n",
    "             f'reaction [condensed   = {PR_HE_LEAK} /nM/s ] shProduceCAA + shHelperAA -> shA + shLeakWasteAC'\n",
    "        ]\n",
    "    ]\n",
    "    return sections"
   ]
  },
  {
   "cell_type": "code",
   "execution_count": 31,
   "id": "184023b8",
   "metadata": {},
   "outputs": [],
   "source": [
    "ofile = os.path.join(HOME_DIR, RPS_ROOT, ORIGINAL, 'main_enum.pil')\n",
    "sfile = os.path.join(HOME_DIR, RPS_ROOT, SHADOW, 'main_enum.pil')\n",
    "cfile = os.path.join(HOME_DIR, RPS_ROOT, CANCEL, 'main_enum.pil')\n",
    "leaky = os.path.join(HOME_DIR, RPS_ROOT, LEAKY, 'main_enum.pil')\n",
    "leaky_shadow = os.path.join(HOME_DIR, RPS_ROOT, LEAKY_SHADOW, 'main_enum.pil')"
   ]
  },
  {
   "cell_type": "code",
   "execution_count": 32,
   "id": "69f7c748",
   "metadata": {},
   "outputs": [],
   "source": [
    "headers, sections = merge(ofile, sfile, cfile, leaky=True, \n",
    "                          o_leak_secs=rps_original_leak_sections(), \n",
    "                          s_leak_secs=rps_shadow_leak_sections())\n",
    "write_out(headers, sections, leaky)\n",
    "\n",
    "headers, sections = merge(ofile, sfile, cfile, leaky=True, shadow=True, \n",
    "                          o_leak_secs=rps_original_leak_sections(), \n",
    "                          s_leak_secs=rps_shadow_leak_sections())\n",
    "write_out(headers, sections, leaky_shadow, cancel=True)"
   ]
  },
  {
   "cell_type": "markdown",
   "id": "cce0c199",
   "metadata": {},
   "source": [
    "# 4. Lotka-Volterra Oscillator"
   ]
  },
  {
   "cell_type": "code",
   "execution_count": 207,
   "id": "6f4d7aa2",
   "metadata": {},
   "outputs": [],
   "source": [
    "def lvo_original_leak_sections():\n",
    "    sections = [\n",
    "        [],\n",
    "        [],\n",
    "        [\n",
    "            'LeakWasteAC = sA mA fA hA( + sC* ) fA*( hA*( fA*( + ) ) ) @initial 0 nM',\n",
    "             'LeakWasteBA = sB mB fB hB( + sA* ) fB*( hB*( fB*( + ) ) ) @initial 0 nM',\n",
    "             'LeakWasteCB = sC mC fC hC( + sB* ) fC*( hC*( fC*( + ) ) ) @initial 0 nM'\n",
    "        ],\n",
    "        [\n",
    "            'macrostate LeakWasteCB = [LeakWasteCB]',\n",
    "             'macrostate LeakWasteBA = [LeakWasteBA]',\n",
    "             'macrostate LeakWasteAC = [LeakWasteAC]'\n",
    "        ],\n",
    "        [\n",
    "            f'reaction [condensed    = {PR_HE_LEAK} /nM/s ] ProduceBCjCk + HelperCCk -> Ck + LeakWasteCB',\n",
    "             f'reaction [condensed    = {PR_HE_LEAK} /nM/s ] ProduceABrBs + HelperBBs -> Bs + LeakWasteBA',\n",
    "             f'reaction [condensed    = {PR_HE_LEAK} /nM/s ] ProduceCApAq + HelperAAq -> Aq + LeakWasteAC'\n",
    "        ]\n",
    "    ]\n",
    "    return sections\n",
    "\n",
    "def lvo_shadow_leak_sections():\n",
    "    sections = [\n",
    "        [],\n",
    "        [],\n",
    "        [\n",
    "            'sLeakWasteAC = hAqR( fAR mAR sAR + fAR( hAqR( fAR( + ) ) ) ) sCR* @initial 0 nM',\n",
    "             'sLeakWasteBA = hBrR( fBR mBR sBR + fBR( hBrR( fBR( + ) ) ) ) sAR* @initial 0 nM',\n",
    "             'sLeakWasteCB = hCjR( fCR mCR sCR + fCR( hCjR( fCR( + ) ) ) ) sBR* @initial 0 nM'\n",
    "        ],\n",
    "        [\n",
    "            'macrostate sLeakWasteAC = [sLeakWasteAC]',\n",
    "             'macrostate sLeakWasteBA = [sLeakWasteBA]',\n",
    "             'macrostate sLeakWasteCB = [sLeakWasteCB]'\n",
    "        ],\n",
    "        [\n",
    "            'reaction [condensed    = 2e-7 /nM/s ] sProduceBCjCj + sHelperCCj -> sCj + sLeakWasteCB',\n",
    "             'reaction [condensed   = 2e-7 /nM/s ] sProduceABrBr + sHelperBBr -> sBr + sLeakWasteBA',\n",
    "             'reaction [condensed   = 2e-7 /nM/s ] sProduceCAqAq + sHelperAAq -> sAq + sLeakWasteAC'\n",
    "        ]\n",
    "    ]\n",
    "    return sections"
   ]
  },
  {
   "cell_type": "markdown",
   "id": "e76f6055",
   "metadata": {},
   "source": [
    "# 5. Consensus"
   ]
  },
  {
   "cell_type": "code",
   "execution_count": 33,
   "id": "54a69602",
   "metadata": {},
   "outputs": [],
   "source": [
    "create_folders(CON_ROOT)"
   ]
  },
  {
   "cell_type": "code",
   "execution_count": 34,
   "id": "be1755cc",
   "metadata": {},
   "outputs": [],
   "source": [
    "def con_original_leak_sections():\n",
    "    sections = [\n",
    "        [],\n",
    "        [],\n",
    "        [\n",
    "            'LeakWasteYB = fY( hY( fY( + sY mY fY hY( + sB* ) ) ) ) @initial 0 nM',\n",
    "             'LeakWasteAY = fA( hA( fA( + sA mA fA hA( + sY* ) ) ) ) @initial 0 nM',\n",
    "             'LeakWasteBY = fB( hB( fB( + sB mB fB hB( + sY* ) ) ) ) @initial 0 nM'\n",
    "        ],\n",
    "        [\n",
    "            'macrostate LeakWasteYB = [LeakWasteYB]',\n",
    "             'macrostate LeakWasteBY = [LeakWasteBY]',\n",
    "             'macrostate LeakWasteAY = [LeakWasteAY]'\n",
    "        ],\n",
    "        [\n",
    "            f'reaction [condensed    = 7e-07 /nM/s ] ProduceBYY + HelperYY -> Y + LeakWasteYB',\n",
    "            f'reaction [condensed    = 7e-07 /nM/s ] ProduceYBB + HelperBB -> B + LeakWasteBY',\n",
    "            f'reaction [condensed    = 7e-07 /nM/s ] ProduceYAA + HelperAA -> A + LeakWasteAY'\n",
    "        ]\n",
    "    ]\n",
    "    return sections\n",
    "\n",
    "def con_shadow_leak_sections():\n",
    "    sections = [\n",
    "        [],\n",
    "        [],\n",
    "        [\n",
    "            'shLeakWasteYB = fYR( hYR( fYR( + sYR mYR fYR hYR( + sBR* ) ) ) ) @initial 0 nM',\n",
    "             'shLeakWasteAY = fAR( hAR( fAR( + sAR mAR fAR hAR( + sYR* ) ) ) ) @initial 0 nM',\n",
    "             'shLeakWasteBY = fBR( hBR( fBR( + sBR mBR fBR hBR( + sYR* ) ) ) ) @initial 0 nM'\n",
    "        ],\n",
    "        [\n",
    "            'macrostate shLeakWasteYB = [shLeakWasteYB]',\n",
    "             'macrostate shLeakWasteAY = [shLeakWasteAY]',\n",
    "             'macrostate shLeakWasteBY = [shLeakWasteBY]'\n",
    "        ],\n",
    "        [\n",
    "            f'reaction [condensed    = 7e-07 /nM/s ] shProduceBYY + shHelperYY -> shY + shLeakWasteYB',\n",
    "            f'reaction [condensed    = 7e-07 /nM/s ] shProduceYBB + shHelperBB -> shB + shLeakWasteBY',\n",
    "            f'reaction [condensed    = 7e-07 /nM/s ] shProduceYAA + shHelperAA -> shA + shLeakWasteAY'\n",
    "        ]\n",
    "\n",
    "\n",
    "    ]\n",
    "    return sections"
   ]
  },
  {
   "cell_type": "code",
   "execution_count": 35,
   "id": "873198b3",
   "metadata": {},
   "outputs": [],
   "source": [
    "ofile = os.path.join(HOME_DIR, CON_ROOT, ORIGINAL, 'main_enum.pil')\n",
    "sfile = os.path.join(HOME_DIR, CON_ROOT, SHADOW, 'main_enum.pil')\n",
    "cfile = os.path.join(HOME_DIR, CON_ROOT, CANCEL, 'main_enum.pil')\n",
    "leaky = os.path.join(HOME_DIR, CON_ROOT, LEAKY, 'main_enum.pil')\n",
    "leaky_shadow = os.path.join(HOME_DIR, CON_ROOT, LEAKY_SHADOW, 'main_enum.pil')"
   ]
  },
  {
   "cell_type": "code",
   "execution_count": 36,
   "id": "aae2dab2",
   "metadata": {},
   "outputs": [],
   "source": [
    "headers, sections = merge(ofile, sfile, cfile, leaky=True, \n",
    "                          o_leak_secs=con_original_leak_sections(), \n",
    "                          s_leak_secs=con_shadow_leak_sections())\n",
    "write_out(headers, sections, leaky)\n",
    "\n",
    "headers, sections = merge(ofile, sfile, cfile, leaky=True, shadow=True, \n",
    "                          o_leak_secs=con_original_leak_sections(), \n",
    "                          s_leak_secs=con_shadow_leak_sections())\n",
    "write_out(headers, sections, leaky_shadow, cancel=True)"
   ]
  },
  {
   "cell_type": "markdown",
   "id": "8f5aa0a9",
   "metadata": {},
   "source": [
    "# 6. RPS_PREV"
   ]
  },
  {
   "cell_type": "code",
   "execution_count": 10,
   "id": "57eb78b3",
   "metadata": {},
   "outputs": [],
   "source": [
    "create_folders(RPS_PREV_ROOT)"
   ]
  },
  {
   "cell_type": "code",
   "execution_count": 12,
   "id": "35ec769b",
   "metadata": {},
   "outputs": [],
   "source": [
    "def rps_prev_original_leak_sections():\n",
    "    sections = [\n",
    "        [],\n",
    "        [],\n",
    "        [\n",
    "            'LeakWasteAC = sA mA fA hA( + sC* ) fA*( hA*( fA*( + ) ) ) @initial 0 nM',\n",
    "             'LeakWasteBA = sB mB fB hB( + sA* ) fB*( hB*( fB*( + ) ) ) @initial 0 nM',\n",
    "             'LeakWasteCB = sC mC fC hC( + sB* ) fC*( hC*( fC*( + ) ) ) @initial 0 nM'\n",
    "        ],\n",
    "        [\n",
    "            'macrostate LeakWasteCB = [LeakWasteCB]',\n",
    "             'macrostate LeakWasteBA = [LeakWasteBA]',\n",
    "             'macrostate LeakWasteAC = [LeakWasteAC]'\n",
    "        ],\n",
    "        [\n",
    "            f'reaction [condensed    = {PR_HE_LEAK} /nM/s ] ProduceBCjCk + HelperCCk -> Ck + LeakWasteCB',\n",
    "             f'reaction [condensed    = {PR_HE_LEAK} /nM/s ] ProduceABsBr + HelperBBr -> Br + LeakWasteBA',\n",
    "             f'reaction [condensed    = {PR_HE_LEAK} /nM/s ] ProduceCAqAp + HelperAAp -> Ap + LeakWasteAC'\n",
    "        ]\n",
    "    ]\n",
    "    return sections\n",
    "\n",
    "def rps_prev_shadow_leak_sections():\n",
    "    sections = [\n",
    "        [],\n",
    "        [],\n",
    "        [\n",
    "            'shLeakWasteAC = hAR( fAR mAR sAR + fAR( hAR( fAR( + ) ) ) ) sCR* @initial 0 nM',\n",
    "             'shLeakWasteBA = hBR( fBR mBR sBR + fBR( hBR( fBR( + ) ) ) ) sAR* @initial 0 nM',\n",
    "             'shLeakWasteCB = hCR( fCR mCR sCR + fCR( hCR( fCR( + ) ) ) ) sBR* @initial 0 nM'\n",
    "        ],\n",
    "        [\n",
    "            'macrostate shLeakWasteAC = [shLeakWasteAC]',\n",
    "             'macrostate shLeakWasteBA = [shLeakWasteBA]',\n",
    "             'macrostate shLeakWasteCB = [shLeakWasteCB]'\n",
    "        ],\n",
    "        [\n",
    "            f'reaction [condensed    = {PR_HE_LEAK} /nM/s ] shProduceBCjCk + shHelperCCk -> shCk + shLeakWasteCB',\n",
    "             f'reaction [condensed   = {PR_HE_LEAK} /nM/s ] shProduceABsBr + shHelperBBr -> shBr + shLeakWasteBA',\n",
    "             f'reaction [condensed   = {PR_HE_LEAK} /nM/s ] shProduceCAqAp + shHelperAAp -> shAp + shLeakWasteAC'\n",
    "        ]\n",
    "\n",
    "    ]\n",
    "    return sections"
   ]
  },
  {
   "cell_type": "code",
   "execution_count": 13,
   "id": "510887bf",
   "metadata": {},
   "outputs": [],
   "source": [
    "ofile = os.path.join(HOME_DIR, RPS_PREV_ROOT, ORIGINAL, 'main_enum.pil')\n",
    "sfile = os.path.join(HOME_DIR, RPS_PREV_ROOT, SHADOW, 'main_enum.pil')\n",
    "cfile = os.path.join(HOME_DIR, RPS_PREV_ROOT, CANCEL, 'main_enum.pil')\n",
    "leaky = os.path.join(HOME_DIR, RPS_PREV_ROOT, LEAKY, 'main_enum.pil')\n",
    "leaky_shadow = os.path.join(HOME_DIR, RPS_PREV_ROOT, LEAKY_SHADOW, 'main_enum.pil')"
   ]
  },
  {
   "cell_type": "code",
   "execution_count": 14,
   "id": "f2922418",
   "metadata": {},
   "outputs": [],
   "source": [
    "headers, sections = merge(ofile, sfile, cfile, leaky=True, \n",
    "                          o_leak_secs=rps_prev_original_leak_sections(), \n",
    "                          s_leak_secs=rps_prev_shadow_leak_sections())\n",
    "write_out(headers, sections, leaky)\n",
    "\n",
    "headers, sections = merge(ofile, sfile, cfile, leaky=True, shadow=True, \n",
    "                          o_leak_secs=rps_prev_original_leak_sections(), \n",
    "                          s_leak_secs=rps_prev_shadow_leak_sections())\n",
    "write_out(headers, sections, leaky_shadow, cancel=True)"
   ]
  },
  {
   "cell_type": "code",
   "execution_count": null,
   "id": "e2719327",
   "metadata": {},
   "outputs": [],
   "source": []
  }
 ],
 "metadata": {
  "kernelspec": {
   "display_name": "Python 3 (ipykernel)",
   "language": "python",
   "name": "python3"
  },
  "language_info": {
   "codemirror_mode": {
    "name": "ipython",
    "version": 3
   },
   "file_extension": ".py",
   "mimetype": "text/x-python",
   "name": "python",
   "nbconvert_exporter": "python",
   "pygments_lexer": "ipython3",
   "version": "3.8.16"
  }
 },
 "nbformat": 4,
 "nbformat_minor": 5
}
